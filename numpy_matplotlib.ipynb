{
  "nbformat": 4,
  "nbformat_minor": 0,
  "metadata": {
    "colab": {
      "provenance": [],
      "authorship_tag": "ABX9TyNufXLMjpyLamdtm2gqBAq4",
      "include_colab_link": true
    },
    "kernelspec": {
      "name": "python3",
      "display_name": "Python 3"
    },
    "language_info": {
      "name": "python"
    }
  },
  "cells": [
    {
      "cell_type": "markdown",
      "metadata": {
        "id": "view-in-github",
        "colab_type": "text"
      },
      "source": [
        "<a href=\"https://colab.research.google.com/github/lanky441/sure_2025_python/blob/main/numpy_matplotlib.ipynb\" target=\"_parent\"><img src=\"https://colab.research.google.com/assets/colab-badge.svg\" alt=\"Open In Colab\"/></a>"
      ]
    },
    {
      "cell_type": "markdown",
      "source": [
        "# NumPy\n",
        "- NumPy (Numerical Python) is a Python library.\n",
        "- NumPy is used for working with arrays.\n",
        "\n",
        "### If you want to use `numpy` in your code, you need to import the `numpy` library.\n",
        "\n"
      ],
      "metadata": {
        "id": "zDE_k-0reed5"
      }
    },
    {
      "cell_type": "code",
      "execution_count": null,
      "metadata": {
        "id": "WLrsXyHDnbnB"
      },
      "outputs": [],
      "source": [
        "import numpy"
      ]
    },
    {
      "cell_type": "code",
      "source": [
        "x = numpy.pi\n",
        "print(x)"
      ],
      "metadata": {
        "id": "HYG0-2iHfYzd"
      },
      "execution_count": null,
      "outputs": []
    },
    {
      "cell_type": "markdown",
      "source": [
        "**It is recommended to import the numpy library under the `np` alias in the code**"
      ],
      "metadata": {
        "id": "x7PHFbuYgFNB"
      }
    },
    {
      "cell_type": "code",
      "source": [
        "import numpy as np\n",
        "x = np.pi\n",
        "print(x)"
      ],
      "metadata": {
        "id": "9CjwUvh-fY2E"
      },
      "execution_count": null,
      "outputs": []
    },
    {
      "cell_type": "markdown",
      "source": [
        "# You can use numpy to do lots of mathematical calculations.\n",
        "### Here are few examples.\n",
        "\n",
        "You can get a full list here: https://numpy.org/doc/stable/reference/routines.math.html"
      ],
      "metadata": {
        "id": "bOjiTdp4gKkk"
      }
    },
    {
      "cell_type": "code",
      "source": [
        "pi = np.pi\n",
        "print(np.sin(pi/2))\n",
        "print(np.cos(pi/3))\n",
        "print(np.tan(pi/4))"
      ],
      "metadata": {
        "id": "dMAwXaPAfY4D"
      },
      "execution_count": null,
      "outputs": []
    },
    {
      "cell_type": "markdown",
      "source": [
        "**Be careful about the numerical precision. By default, it is accurate only upto 15th decimal place!**"
      ],
      "metadata": {
        "id": "NC2GKslTiglD"
      }
    },
    {
      "cell_type": "code",
      "source": [
        "print(np.sin(np.deg2rad(30)))"
      ],
      "metadata": {
        "id": "mvq1hOElfY5_"
      },
      "execution_count": null,
      "outputs": []
    },
    {
      "cell_type": "markdown",
      "source": [
        "### Explore at home\n",
        "### F-string"
      ],
      "metadata": {
        "id": "IsbPTZ9nudbL"
      }
    },
    {
      "cell_type": "code",
      "source": [
        "# How to print it rounded upto certain number of decimal points?\n",
        "# Introducing f-string\n",
        "\n",
        "print(f\"Hello World!\")"
      ],
      "metadata": {
        "id": "-sxeWQLss2TF"
      },
      "execution_count": null,
      "outputs": []
    },
    {
      "cell_type": "code",
      "source": [
        "age = 31\n",
        "print(\"I am\", age, \"years old.\") #without using f-string\n",
        "print(f\"I am {age} years old.\") #using f-string"
      ],
      "metadata": {
        "id": "CQBsPVhNuSav"
      },
      "execution_count": null,
      "outputs": []
    },
    {
      "cell_type": "code",
      "source": [
        "x = np.sin(np.deg2rad(30))\n",
        "print(f\"sin(30) = {x}\")\n",
        "print(f\"sin(30) = {x:.5f}\") #prints upto 5th decimal place (rounded)\n",
        "print(f\"sin(30) = {x:.3f}\") #print upto 3rd decimal place (rounded)"
      ],
      "metadata": {
        "id": "lTxf8tzPtwAi"
      },
      "execution_count": null,
      "outputs": []
    },
    {
      "cell_type": "markdown",
      "source": [
        "# Create a NumPy ndarray Object\n",
        "But the most useful thing of numpy is numpy array.\n",
        "\n",
        "NumPy is used to work with arrays. The array object in NumPy is called `ndarray`. Working with numpy arrays is much easier and much faster.\n",
        "\n",
        "We can create a NumPy ndarray object by using the `array()` function."
      ],
      "metadata": {
        "id": "0GtEnfIctFXl"
      }
    },
    {
      "cell_type": "code",
      "source": [
        "# pass a python list to numpy array() function to create a numpy array\n",
        "arr = np.array([1, 2, 3, 4, 5])\n",
        "\n",
        "print(arr)\n",
        "print(len(arr))\n",
        "print(type(arr))"
      ],
      "metadata": {
        "id": "uAuXsaRXfY7z"
      },
      "execution_count": null,
      "outputs": []
    },
    {
      "cell_type": "code",
      "source": [
        "print(arr.ndim)\n",
        "print(arr.shape)"
      ],
      "metadata": {
        "id": "BU-am_GqBQ4o"
      },
      "execution_count": null,
      "outputs": []
    },
    {
      "cell_type": "code",
      "source": [
        "# You can also create a python list and make it a numpy array\n",
        "list1 = [1, 2, 3, 4, 5]\n",
        "arr = np.array(list1)\n",
        "\n",
        "print(arr)\n",
        "print(type(arr))\n",
        "print(type(list1))"
      ],
      "metadata": {
        "id": "NFo4vmREAeZm"
      },
      "execution_count": null,
      "outputs": []
    },
    {
      "cell_type": "code",
      "source": [
        "# You can also create numpy arrays with more than one dimension\n",
        "# Here is an example for creating a 2D array (2D matrix)\n",
        "arr2 = np.array([[1, 2, 3], [4, 5, 6]])\n",
        "\n",
        "print(arr2)\n",
        "print(type(arr2))\n",
        "print(arr2.ndim) # dimension of the array\n",
        "print(arr2.shape) # shape of the array"
      ],
      "metadata": {
        "id": "igMo8KOptlbg"
      },
      "execution_count": null,
      "outputs": []
    },
    {
      "cell_type": "code",
      "source": [
        "# Check at home\n",
        "# You can make array with even higher dimensions\n",
        "# But 2D numpy arrays will probably be most useful for you\n",
        "# Let us create a 3D array\n",
        "\n",
        "arr3 = np.array([[[1, 2, 3], [4, 5, 6]], [[7, 8, 9], [10, 11, 12]]])\n",
        "\n",
        "print(arr3)\n",
        "print(arr3.ndim) # dimension of the array\n",
        "print(arr3.shape) # shape of the array\n",
        "\n",
        "# It may be a little confusing to understand the shape of 3 or higher dimensinsonal arrays\n",
        "# We will mostly stick to 1 or 2D arrays for the rest of the workshop"
      ],
      "metadata": {
        "id": "XRJjliXADROT"
      },
      "execution_count": null,
      "outputs": []
    },
    {
      "cell_type": "code",
      "source": [],
      "metadata": {
        "id": "Z7mKr1laR9MG"
      },
      "execution_count": null,
      "outputs": []
    },
    {
      "cell_type": "markdown",
      "source": [
        "# Some quick ways to create numpy arrays"
      ],
      "metadata": {
        "id": "MOWWhuI4GZQS"
      }
    },
    {
      "cell_type": "code",
      "source": [
        "# Creating an array of zeros with a specified shape\n",
        "zeros_arr = np.zeros((2, 3))\n",
        "print(\"Array of zeros with specified shape (2x3):\")\n",
        "print(zeros_arr)"
      ],
      "metadata": {
        "id": "l1yUBzjrDRQy"
      },
      "execution_count": null,
      "outputs": []
    },
    {
      "cell_type": "code",
      "source": [
        "print(np.zeros(5))"
      ],
      "metadata": {
        "id": "xQ3e9MeuS457"
      },
      "execution_count": null,
      "outputs": []
    },
    {
      "cell_type": "code",
      "source": [
        "# Creating an array of ones with a specified shape\n",
        "ones_arr = np.ones((3, 2))\n",
        "print(\"Array of ones with specified shape (3x2):\")\n",
        "print(ones_arr)"
      ],
      "metadata": {
        "id": "frgwsg1gDRTY"
      },
      "execution_count": null,
      "outputs": []
    },
    {
      "cell_type": "code",
      "source": [
        "# Creating an array with a range of values\n",
        "range_arr = np.arange(0, 10, 2)  # Start: 0, Stop: 10 (exclusive), Step: 2\n",
        "print(\"Array with a range of values (start=0, stop=10, step=2):\")\n",
        "print(range_arr)\n",
        "print(type(range_arr))"
      ],
      "metadata": {
        "id": "OuuXzwr5GqZc"
      },
      "execution_count": null,
      "outputs": []
    },
    {
      "cell_type": "code",
      "source": [
        "# Remember `np.ranage` creates numpy arrays, but python `range` creates range function\n",
        "arr = range(0, 10, 2)\n",
        "print(arr)\n",
        "print(type(arr))"
      ],
      "metadata": {
        "id": "RB9VQpBfBrr5"
      },
      "execution_count": null,
      "outputs": []
    },
    {
      "cell_type": "code",
      "source": [
        "# Creating an array of evenly spaced values\n",
        "linspace_arr = np.linspace(0, 20, 11)  # Start: 0, Stop: 20, Num: 11\n",
        "print(\"Array of evenly spaced values (start=0, stop=20, num=11):\")\n",
        "print(linspace_arr)"
      ],
      "metadata": {
        "id": "ie1dor1_GxLF"
      },
      "execution_count": null,
      "outputs": []
    },
    {
      "cell_type": "markdown",
      "source": [
        "# Basic array operation\n",
        "\n",
        "We perform basic array operations like addition, subtraction, multiplication, and division on NumPy arrays."
      ],
      "metadata": {
        "id": "mHzr2pFdHC71"
      }
    },
    {
      "cell_type": "code",
      "source": [
        "# Creating two NumPy arrays of same shape\n",
        "arr1 = np.array([1, 2, 3, 4, 5])\n",
        "print(\"Shape of arr1: \", arr1.shape)\n",
        "\n",
        "arr2 = np.array([6, 7, 8, 9, 10])\n",
        "print(\"Shape of arr2: \", arr2.shape)"
      ],
      "metadata": {
        "id": "DDmYkP3rDRVx"
      },
      "execution_count": null,
      "outputs": []
    },
    {
      "cell_type": "code",
      "source": [
        "# Addition of two arrays\n",
        "addition_result = arr1 + arr2\n",
        "print(\"Array Addition:\")\n",
        "print(addition_result)"
      ],
      "metadata": {
        "id": "c1znOpWQDRXr"
      },
      "execution_count": null,
      "outputs": []
    },
    {
      "cell_type": "code",
      "source": [
        "# Remember what would have happened if they were python lists\n",
        "list1 = [1, 2, 3, 4, 5]\n",
        "list2 = [6, 7, 8, 9, 10]\n",
        "\n",
        "print(\"Python List Addition:\")\n",
        "print(list1 + list2)"
      ],
      "metadata": {
        "id": "3P9dniE2HrFN"
      },
      "execution_count": null,
      "outputs": []
    },
    {
      "cell_type": "code",
      "source": [
        "# Subtraction of two arrays\n",
        "subtraction_result = arr2 - arr1\n",
        "print(\"Array Subtraction:\")\n",
        "print(subtraction_result)"
      ],
      "metadata": {
        "id": "rMqwWLRXHrHl"
      },
      "execution_count": null,
      "outputs": []
    },
    {
      "cell_type": "code",
      "source": [
        "# Element-wise multiplication of two arrays\n",
        "multiplication_result = arr1 * arr2\n",
        "print(\"Array Multiplication:\")\n",
        "print(multiplication_result)"
      ],
      "metadata": {
        "id": "_OGvamEiHrKI"
      },
      "execution_count": null,
      "outputs": []
    },
    {
      "cell_type": "code",
      "source": [
        "# Element-wise division of two arrays\n",
        "division_result = arr2 / arr1\n",
        "print(\"Array Division:\")\n",
        "print(division_result)"
      ],
      "metadata": {
        "id": "yGPWMglcHrMT"
      },
      "execution_count": null,
      "outputs": []
    },
    {
      "cell_type": "code",
      "source": [
        "# What if the arrays are of different shapes\n",
        "arr_5 = np.array([1, 2, 3, 4, 5])\n",
        "arr_3 = np.array([6, 7, 8])\n",
        "\n",
        "print(arr_5 + arr_3)"
      ],
      "metadata": {
        "id": "nXYT2ROnIOh8"
      },
      "execution_count": null,
      "outputs": []
    },
    {
      "cell_type": "markdown",
      "source": [
        "# Broadcasing\n",
        "\n",
        "Broadcasting allows us to perform mathematical operations on each element of an array."
      ],
      "metadata": {
        "id": "iOBD3XoEI3HW"
      }
    },
    {
      "cell_type": "code",
      "source": [
        "# Adding a scalar to all the elements of an array\n",
        "arr1 = np.array([1, 2, 3, 4, 5])\n",
        "print(arr1 + 2)"
      ],
      "metadata": {
        "id": "W-2oSG87IgRr"
      },
      "execution_count": null,
      "outputs": []
    },
    {
      "cell_type": "code",
      "source": [
        "arr1 = np.array([1,2,3,4,5])\n",
        "print(arr1**2)"
      ],
      "metadata": {
        "id": "8vaeOMoVw20i"
      },
      "execution_count": null,
      "outputs": []
    },
    {
      "cell_type": "code",
      "source": [
        "# You can do the same for arrays of higher dimension\n",
        "arr2 = np.array([[1, 2, 3], [4, 5, 6]])\n",
        "print(arr2 + 10)"
      ],
      "metadata": {
        "id": "rt32K631IgUB"
      },
      "execution_count": null,
      "outputs": []
    },
    {
      "cell_type": "markdown",
      "source": [
        "# Array Manipulation\n"
      ],
      "metadata": {
        "id": "1QA6YKpWLJ7Q"
      }
    },
    {
      "cell_type": "code",
      "source": [
        "# Reshaping an array\n",
        "arr4 = np.array([1, 2, 3, 4, 5, 6])\n",
        "reshaped_arr = arr4.reshape(2, 3)\n",
        "\n",
        "print(\"Original array:\")\n",
        "print(arr4)\n",
        "print(\"Reshaped array:\")\n",
        "print(reshaped_arr)"
      ],
      "metadata": {
        "id": "aDYVNaUwIgWV"
      },
      "execution_count": null,
      "outputs": []
    },
    {
      "cell_type": "code",
      "source": [
        "# Transposing an array\n",
        "transposed_arr = reshaped_arr.T\n",
        "print(\"Transposed array:\")\n",
        "print(transposed_arr)"
      ],
      "metadata": {
        "id": "sqQL3tVqIOm2"
      },
      "execution_count": null,
      "outputs": []
    },
    {
      "cell_type": "code",
      "source": [
        "# Flattening an array\n",
        "flattened_arr = reshaped_arr.flatten()\n",
        "print(\"Falttened array:\")\n",
        "print(flattened_arr)"
      ],
      "metadata": {
        "id": "OSL8urVCLopQ"
      },
      "execution_count": null,
      "outputs": []
    },
    {
      "cell_type": "markdown",
      "source": [
        "# Indexing and slicing\n",
        "\n",
        "Remember indexing and slicing python list"
      ],
      "metadata": {
        "id": "9aPDj3G6MYeh"
      }
    },
    {
      "cell_type": "code",
      "source": [
        "# Accessing individual elements using indexing\n",
        "arr1 = np.array([1, 2, 3, 4, 5])\n",
        "print(arr1[0])\n",
        "print(arr1[2])\n",
        "print(arr1[-1])"
      ],
      "metadata": {
        "id": "3tAx00_nNGsI"
      },
      "execution_count": null,
      "outputs": []
    },
    {
      "cell_type": "code",
      "source": [
        "# slicing\n",
        "arr1 = np.array([1, 2, 3, 4, 5])\n",
        "print(arr1[1:4]) # from index 1 (includes) to index 4 (includes)\n",
        "print(arr1[:3]) # from index 0 (includes) to index 3 (includes)\n",
        "print(arr1[3:]) # from index 3 (includes) to the end\n",
        "print(arr1[1:5:2]) # from index 1 (includes) to index 5 (includes) with a step of 2\n",
        "print(arr1[-3:]) # last 3 items"
      ],
      "metadata": {
        "id": "Kcx3C8oMI6Fk"
      },
      "execution_count": null,
      "outputs": []
    },
    {
      "cell_type": "code",
      "source": [
        "# you can choose some particular indices\n",
        "arr = np.array([1, 2, 3, 4, 5])\n",
        "print(arr[2])\n",
        "print(arr1[[0, 3, 4]]) #note the double brackets"
      ],
      "metadata": {
        "id": "Cyrwjp-0TnDg"
      },
      "execution_count": null,
      "outputs": []
    },
    {
      "cell_type": "code",
      "source": [
        "# you can check for the indices that satisfy a certain condition\n",
        "arr1 = np.array([1, 2, 3, 4, 5])\n",
        "print(arr1>2)"
      ],
      "metadata": {
        "id": "ha7a4ToaTnFv"
      },
      "execution_count": null,
      "outputs": []
    },
    {
      "cell_type": "code",
      "source": [
        "# You can choose items from an array based on a condition\n",
        "arr1 = np.array([1, 2, 3, 4, 5])\n",
        "print(arr1[arr1>2])"
      ],
      "metadata": {
        "id": "K8fqtUNaTnIn"
      },
      "execution_count": null,
      "outputs": []
    },
    {
      "cell_type": "code",
      "source": [
        "# you can use two conditions\n",
        "arr1 = np.array([1, 2, 6, 3, 9, 4, 5, 6, 7, 8, 9, 1])\n",
        "print(arr1[(arr1>2) & (arr1<7)]) # note that you have to use `&` symbol and not `and`"
      ],
      "metadata": {
        "id": "2e-e3QFtTnLA"
      },
      "execution_count": null,
      "outputs": []
    },
    {
      "cell_type": "markdown",
      "source": [
        "## slicing 2D arrays"
      ],
      "metadata": {
        "id": "mUqaJ3hcU-KV"
      }
    },
    {
      "cell_type": "code",
      "source": [
        "# Creating a 2D NumPy array\n",
        "arr2 = np.array([[1, 2, 3],\n",
        "                [4, 5, 6],\n",
        "                [7, 8, 9]])\n",
        "\n",
        "print(\"Array shape = \", arr2.shape)\n",
        "print(arr2)"
      ],
      "metadata": {
        "id": "YgBB5wDLLork"
      },
      "execution_count": null,
      "outputs": []
    },
    {
      "cell_type": "code",
      "source": [
        "# Accessing individual elements of a 2D array using indexing\n",
        "print(arr2[0, 0])\n",
        "print(arr2[1, 2])"
      ],
      "metadata": {
        "id": "XLgpxliWLot6"
      },
      "execution_count": null,
      "outputs": []
    },
    {
      "cell_type": "code",
      "source": [
        "# You can also access individual rows\n",
        "print(arr2[1])"
      ],
      "metadata": {
        "id": "s6gUkw1oIOo8"
      },
      "execution_count": null,
      "outputs": []
    },
    {
      "cell_type": "code",
      "source": [
        "# Slicing rows and columns\n",
        "print(\"Slice of Rows (2nd and 3rd rows):\")\n",
        "print(arr2[1:, :])  # Rows from index 1 to the end"
      ],
      "metadata": {
        "id": "F9rgUheNSXBY"
      },
      "execution_count": null,
      "outputs": []
    },
    {
      "cell_type": "code",
      "source": [
        "print(\"Slice of Columns (2nd and 3rd columns):\")\n",
        "print(arr2[:, 1:])  # Columns from index 1 to the end"
      ],
      "metadata": {
        "id": "935t76j-SXDv"
      },
      "execution_count": null,
      "outputs": []
    },
    {
      "cell_type": "code",
      "source": [
        "# Slicing with a step\n",
        "print(\"Sliced Array with Step (Every 2nd element in the 1st row):\")\n",
        "print(arr2[0, ::2])  # Every 2nd element in the 1st row"
      ],
      "metadata": {
        "id": "lMqscNn5SXGY"
      },
      "execution_count": null,
      "outputs": []
    },
    {
      "cell_type": "code",
      "source": [
        "# Negative indexing and slicing\n",
        "print(\"Negative Indexing and Slicing:\")\n",
        "print(arr2[-2:, -2:])  # Last 2 rows and last 2 columns"
      ],
      "metadata": {
        "id": "M4shkGaLHrOV"
      },
      "execution_count": null,
      "outputs": []
    },
    {
      "cell_type": "code",
      "source": [
        "# Modifying elements using indexing\n",
        "arr2[1, 1] = 10\n",
        "print(\"Modified Array:\")\n",
        "print(arr2)"
      ],
      "metadata": {
        "id": "a9w1SlOZtldn"
      },
      "execution_count": null,
      "outputs": []
    },
    {
      "cell_type": "markdown",
      "source": [
        "# Array Functions and Axis"
      ],
      "metadata": {
        "id": "wrsrZ3XkXeEH"
      }
    },
    {
      "cell_type": "code",
      "source": [
        "arr1 = [0, 1, 2, 3, 4, 5, 7, 8, 9]\n",
        "\n",
        "# Calculating Sum, Mean, Median, Minimum, and Maximum\n",
        "print(\"Sum = \", np.sum(arr1))\n",
        "print(\"Mean = \", np.mean(arr1))\n",
        "print(\"Median = \", np.median(arr1))\n",
        "print(\"Minimum = \", np.min(arr1))\n",
        "print(\"Maximum = \", np.max(arr1))"
      ],
      "metadata": {
        "id": "JiIC9dIHU72j"
      },
      "execution_count": null,
      "outputs": []
    },
    {
      "cell_type": "code",
      "source": [
        "# What about 2D arrays\n",
        "# Creating a 2D NumPy array\n",
        "arr2 = np.array([[1, 2, 3],\n",
        "                [4, 5, 6],\n",
        "                [7, 8, 9]])"
      ],
      "metadata": {
        "id": "rhG7xMeFar3F"
      },
      "execution_count": null,
      "outputs": []
    },
    {
      "cell_type": "code",
      "source": [
        "# Sum of all elements in the array\n",
        "print(\"Sum of all elements in the array:\", np.sum(arr2))"
      ],
      "metadata": {
        "id": "iGRl9DT8azkP"
      },
      "execution_count": null,
      "outputs": []
    },
    {
      "cell_type": "code",
      "source": [
        "# Sum along columns (axis=0)\n",
        "print(\"Sum along columns (axis=0):\")\n",
        "print(np.sum(arr2, axis=0))"
      ],
      "metadata": {
        "id": "ZruycvP0azml"
      },
      "execution_count": null,
      "outputs": []
    },
    {
      "cell_type": "code",
      "source": [
        "# Sum along rows (axis=1)\n",
        "print(\"Sum along rows (axis=1):\")\n",
        "print(np.sum(arr2, axis=1))"
      ],
      "metadata": {
        "id": "AXfE9Ni6azo9"
      },
      "execution_count": null,
      "outputs": []
    },
    {
      "cell_type": "code",
      "source": [
        "# Similarly\n",
        "# Mean along rows (axis=0)\n",
        "print(\"\\nMean along rows (axis=0):\")\n",
        "print(np.mean(arr2, axis=0))\n",
        "\n",
        "# Mean along columns (axis=1)\n",
        "print(\"\\nMean along columns (axis=1):\")\n",
        "print(np.mean(arr2, axis=1))\n",
        "\n",
        "# Maximum along rows (axis=0)\n",
        "print(\"\\nMaximum along rows (axis=0):\")\n",
        "print(np.max(arr2, axis=0))\n",
        "\n",
        "# Maximum along columns (axis=1)\n",
        "print(\"\\nMaximum along columns (axis=1):\")\n",
        "print(np.max(arr2, axis=1))"
      ],
      "metadata": {
        "id": "Vhril8FPazrZ"
      },
      "execution_count": null,
      "outputs": []
    },
    {
      "cell_type": "markdown",
      "source": [
        "# Go through this if you are interested\n",
        "# Numpy data types\n",
        "\n",
        "Numpy has its own data types."
      ],
      "metadata": {
        "id": "LMNf0ghVK1vN"
      }
    },
    {
      "cell_type": "code",
      "source": [
        "arr = np.array([1, 2, 3, 4])\n",
        "# print the data type of the array elements\n",
        "print(arr.dtype)\n",
        "print(type(arr[0]))"
      ],
      "metadata": {
        "id": "pFyMfxv8cxSa"
      },
      "execution_count": null,
      "outputs": []
    },
    {
      "cell_type": "code",
      "source": [
        "arr = np.array(['apple', 'banana', 'cherry'])\n",
        "\n",
        "print(arr.dtype)\n",
        "print(arr.dtype.name)\n",
        "print(type(arr[1]))"
      ],
      "metadata": {
        "id": "_ChZrOAQcxW0"
      },
      "execution_count": null,
      "outputs": []
    },
    {
      "cell_type": "code",
      "source": [
        "# By deault, you CAN NOT create a numpy array with different data types\n",
        "arr = np.array([1, 2, 'a', 'b'])\n",
        "print(arr) # It converts everything to string\n",
        "\n",
        "print(arr.dtype.name)\n",
        "\n",
        "print(type(arr[0]))\n",
        "print(type(arr[2]))"
      ],
      "metadata": {
        "id": "MVUDhgQLazts"
      },
      "execution_count": null,
      "outputs": []
    },
    {
      "cell_type": "code",
      "source": [
        "# However, you can create numpy array with different data types by explicitly mentioning the data types to be 'object'\n",
        "arr = np.array([1, 2, 'a', 'b'], dtype='object')\n",
        "print(arr)\n",
        "print(arr.dtype)\n",
        "print(type(arr[0]))\n",
        "print(type(arr[2]))"
      ],
      "metadata": {
        "id": "zdFyKI8WQqJc"
      },
      "execution_count": null,
      "outputs": []
    },
    {
      "cell_type": "markdown",
      "source": [
        "# Exercises"
      ],
      "metadata": {
        "id": "FVvzx6FcZ_kv"
      }
    },
    {
      "cell_type": "code",
      "source": [
        "# 1. Create a 1D NumPy array containing the integers from 0 to 9.\n"
      ],
      "metadata": {
        "id": "hhjYEWW6U741"
      },
      "execution_count": null,
      "outputs": []
    },
    {
      "cell_type": "code",
      "source": [
        "# 2. Create a 3x3 NumPy array with all elements initialized to one.\n"
      ],
      "metadata": {
        "id": "G3Bf_QwcU77Z"
      },
      "execution_count": null,
      "outputs": []
    },
    {
      "cell_type": "code",
      "source": [
        "# 3. Create a NumPy array with values ranging from 10 to 20, and extract all odd numbers from it."
      ],
      "metadata": {
        "id": "FSlgaGuNU79u"
      },
      "execution_count": null,
      "outputs": []
    },
    {
      "cell_type": "code",
      "source": [
        "# 4. Create a 2x3 numpy array and multiply each element by 5."
      ],
      "metadata": {
        "id": "SlzmNkNfVJRz"
      },
      "execution_count": null,
      "outputs": []
    },
    {
      "cell_type": "code",
      "source": [
        "# 5. Create a 3x2 numpy array and compute the sum of all elements."
      ],
      "metadata": {
        "id": "_BINLUJmU7_4"
      },
      "execution_count": null,
      "outputs": []
    },
    {
      "cell_type": "code",
      "source": [
        "# 6. Create a 2x2 numpy array and calculate the mean along each row"
      ],
      "metadata": {
        "id": "Oo1bd658U8CL"
      },
      "execution_count": null,
      "outputs": []
    },
    {
      "cell_type": "code",
      "source": [
        "# 7. For this 4x3 array, calculate the maximum value for each column\n",
        "arr = np.array([[1, 2, 5], [7, 2, 0], [3, 4, 0], [1, 9, 5]])\n",
        "print(arr)\n"
      ],
      "metadata": {
        "id": "NXvOdjHCWBNj"
      },
      "execution_count": null,
      "outputs": []
    },
    {
      "cell_type": "markdown",
      "source": [
        "# Plotting with matplotlib.pyplot"
      ],
      "metadata": {
        "id": "GPYa99loSPYr"
      }
    },
    {
      "cell_type": "code",
      "source": [
        "# import the function\n",
        "import matplotlib.pyplot as plt"
      ],
      "metadata": {
        "id": "CJIn63pdXIUL"
      },
      "execution_count": null,
      "outputs": []
    },
    {
      "cell_type": "code",
      "source": [
        "x = [1, 2, 3, 4, 5, 6, 7, 8, 9, 10]\n",
        "y = [1, 4, 9, 16, 25, 36, 49, 64, 81, 100]\n",
        "\n",
        "# Lets us plot y vs x\n",
        "plt.plot(x, y)\n",
        "plt.show()"
      ],
      "metadata": {
        "id": "NBuMo6xRXB0a"
      },
      "execution_count": null,
      "outputs": []
    },
    {
      "cell_type": "code",
      "source": [
        "# Add label for the x and y axis\n",
        "plt.plot(x, y)\n",
        "plt.xlabel('number')\n",
        "plt.ylabel('square of the number')\n",
        "plt.show()"
      ],
      "metadata": {
        "id": "Co38FgxSXXEq"
      },
      "execution_count": null,
      "outputs": []
    },
    {
      "cell_type": "code",
      "source": [
        "# Add a title for the plot\n",
        "plt.plot(x, y)\n",
        "plt.xlabel('number')\n",
        "plt.ylabel('square of the number')\n",
        "plt.title('Square of Numbers')\n",
        "plt.show()"
      ],
      "metadata": {
        "id": "e76mH4EzXrah"
      },
      "execution_count": null,
      "outputs": []
    },
    {
      "cell_type": "code",
      "source": [
        "# Now let's do it again with python list\n",
        "x = [1, 2, 3, 4, 5]\n",
        "y = x**2\n",
        "\n",
        "print(y)"
      ],
      "metadata": {
        "id": "OcoN0nf4YH81"
      },
      "execution_count": null,
      "outputs": []
    },
    {
      "cell_type": "code",
      "source": [
        "# Now let us try with numpy array\n",
        "x = np.array([1, 2, 3, 4, 5])\n",
        "y = x**2\n",
        "\n",
        "print(y)"
      ],
      "metadata": {
        "id": "dN91YXG3YH_Y"
      },
      "execution_count": null,
      "outputs": []
    },
    {
      "cell_type": "code",
      "source": [
        "plt.plot(x, x**2)\n",
        "plt.xlabel('x')\n",
        "plt.ylabel('x^2')\n",
        "plt.show()"
      ],
      "metadata": {
        "id": "KTwXfWFWYIBv"
      },
      "execution_count": null,
      "outputs": []
    },
    {
      "cell_type": "code",
      "source": [
        "# Explore Marker and line style\n",
        "\n",
        "plt.plot(x, x**2, marker='o', ls=\"--\")\n",
        "plt.xlabel('x')\n",
        "plt.ylabel('x^2')\n",
        "plt.show()"
      ],
      "metadata": {
        "id": "_Te0PIPpFyxg"
      },
      "execution_count": null,
      "outputs": []
    },
    {
      "cell_type": "code",
      "source": [
        "# Different marker and ls to explore\n",
        "# marker = [none, ., o, x, s, +, ^, v]\n",
        "# ls = [-, --, -., :, none]\n",
        "\n",
        "plt.plot(x, x**2, marker='^', ls=\":\")\n",
        "plt.xlabel('x')\n",
        "plt.ylabel('x^2')\n",
        "plt.show()"
      ],
      "metadata": {
        "id": "0NgYpxXAGE_b"
      },
      "execution_count": null,
      "outputs": []
    },
    {
      "cell_type": "markdown",
      "source": [
        "## Scatter plot"
      ],
      "metadata": {
        "id": "lLPeHk9h2cva"
      }
    },
    {
      "cell_type": "code",
      "source": [
        "# We can also plot just the points\n",
        "x = np.arange(20)\n",
        "y = x**2\n",
        "plt.plot(x, y, marker='o', ls='none') # `ls` stands for `linestyle`\n",
        "plt.xlabel('x')\n",
        "plt.ylabel('x^2')\n",
        "plt.show()"
      ],
      "metadata": {
        "id": "qjwLVd1eYID0"
      },
      "execution_count": null,
      "outputs": []
    },
    {
      "cell_type": "code",
      "source": [],
      "metadata": {
        "id": "MpvyxO72ebvz"
      },
      "execution_count": null,
      "outputs": []
    },
    {
      "cell_type": "code",
      "source": [
        "# we can achieve the same using scatter plot\n",
        "x = np.arange(20)\n",
        "y = x**2\n",
        "plt.scatter(x, y)\n",
        "plt.xlabel('x')\n",
        "plt.ylabel('x^2')\n",
        "plt.show()"
      ],
      "metadata": {
        "id": "k8dpvATi2fqc"
      },
      "execution_count": null,
      "outputs": []
    },
    {
      "cell_type": "code",
      "source": [],
      "metadata": {
        "id": "YqU4dUGo2ftT"
      },
      "execution_count": null,
      "outputs": []
    },
    {
      "cell_type": "markdown",
      "source": [
        "# Multiple plots in a figure"
      ],
      "metadata": {
        "id": "9vQDazUEGpSd"
      }
    },
    {
      "cell_type": "code",
      "source": [
        "# Multiple lines in a single plot\n",
        "x = np.arange(11)\n",
        "y1 = 10 * x**2\n",
        "y2 = x**3\n",
        "\n",
        "plt.plot(x, y1)\n",
        "plt.plot(x, y2)\n",
        "\n",
        "plt.xlabel('x')\n",
        "plt.ylabel('f(x)')\n",
        "\n",
        "plt.show()"
      ],
      "metadata": {
        "id": "wxnvCKALy-P3"
      },
      "execution_count": null,
      "outputs": []
    },
    {
      "cell_type": "code",
      "source": [
        "# But which one is x^2 and which one is x^3?\n",
        "# Use label to distinguish\n",
        "x = np.arange(11)\n",
        "y1 = 10 * x**2\n",
        "y2 = x**3\n",
        "\n",
        "plt.plot(x, y1, label='10x^2')\n",
        "plt.plot(x, y2, label='x^3')\n",
        "\n",
        "plt.xlabel('x')\n",
        "plt.ylabel('f(x)')\n",
        "\n",
        "plt.show()"
      ],
      "metadata": {
        "id": "zgS9YY6by-im"
      },
      "execution_count": null,
      "outputs": []
    },
    {
      "cell_type": "code",
      "source": [
        "# Still no labels for the lines!!\n",
        "# You need to use `plt.legend`\n",
        "plt.plot(x, y1, label='10x^2')\n",
        "plt.plot(x, y2, label='x^3')\n",
        "\n",
        "plt.xlabel('x')\n",
        "plt.ylabel('f(x)')\n",
        "\n",
        "plt.legend()\n",
        "\n",
        "plt.show()"
      ],
      "metadata": {
        "id": "CufEKthmy-n1"
      },
      "execution_count": null,
      "outputs": []
    },
    {
      "cell_type": "code",
      "source": [
        "# You can choose the color for your lines\n",
        "plt.plot(x, y1, label='10x^2', color='red')\n",
        "plt.plot(x, y2, label='x^3', color='green')\n",
        "\n",
        "plt.xlabel('x')\n",
        "plt.ylabel('f(x)')\n",
        "\n",
        "plt.legend()\n",
        "\n",
        "plt.show()"
      ],
      "metadata": {
        "id": "uPkPs66e0Nhz"
      },
      "execution_count": null,
      "outputs": []
    },
    {
      "cell_type": "code",
      "source": [
        "# If you want to show the points you are plotting in addition with the lines\n",
        "# and choose different styles for the lines\n",
        "\n",
        "plt.plot(x, y1, label='10x^2', color='red', marker='+', ls='--')\n",
        "plt.plot(x, y2, label='x^3', color='green', marker='x', ls='-.')\n",
        "\n",
        "plt.xlabel('x')\n",
        "plt.ylabel('f(x)')\n",
        "\n",
        "plt.legend()\n",
        "\n",
        "plt.show()"
      ],
      "metadata": {
        "id": "YhJ_udgv3IE5"
      },
      "execution_count": null,
      "outputs": []
    },
    {
      "cell_type": "code",
      "source": [
        "# you can put a grid in the plot\n",
        "plt.plot(x, y1, label='10x^2', color='red')\n",
        "plt.plot(x, y2, label='x^3', color='green')\n",
        "\n",
        "plt.xlabel('x')\n",
        "plt.ylabel('f(x)')\n",
        "\n",
        "plt.legend()\n",
        "\n",
        "plt.grid()\n",
        "\n",
        "plt.show()"
      ],
      "metadata": {
        "id": "vm1BLzYX0qIN"
      },
      "execution_count": null,
      "outputs": []
    },
    {
      "cell_type": "code",
      "source": [
        "# you can plot only for certain ranges of x and y\n",
        "plt.plot(x, y1, label='10x^2', color='red')\n",
        "plt.plot(x, y2, label='x^3', color='green')\n",
        "\n",
        "plt.xlabel('x')\n",
        "plt.ylabel('f(x)')\n",
        "\n",
        "plt.legend()\n",
        "\n",
        "plt.grid()\n",
        "\n",
        "plt.xlim(0, 5) #(lower, upper)\n",
        "plt.ylim(0, 100) # (lower, upper)\n",
        "\n",
        "plt.show()"
      ],
      "metadata": {
        "id": "Bqxrhib20zx0"
      },
      "execution_count": null,
      "outputs": []
    },
    {
      "cell_type": "code",
      "source": [
        "# use `np.linspace` to crate x samples\n",
        "x = np.linspace(0, 10, 100)\n",
        "\n",
        "plt.plot(x, np.sin(x), label='sin x')\n",
        "plt.plot(x, np.cos(x), label='cos x')\n",
        "\n",
        "plt.xlabel('x')\n",
        "plt.ylabel('f(x)')\n",
        "\n",
        "plt.legend()\n",
        "\n",
        "plt.grid()\n",
        "\n",
        "plt.show()"
      ],
      "metadata": {
        "id": "WGDCveNgnlI2"
      },
      "execution_count": null,
      "outputs": []
    },
    {
      "cell_type": "markdown",
      "source": [
        "## histograms"
      ],
      "metadata": {
        "id": "HLpU_Rmt2Ulu"
      }
    },
    {
      "cell_type": "code",
      "source": [
        "# you can plot the distribution of a parameter using histogram\n",
        "# first, let us generate some random data\n",
        "# If you want to know more about random generator, visit https://www.w3schools.com/python/numpy/numpy_random.asp\n",
        "x = np.random.randn(50)\n",
        "print(x)"
      ],
      "metadata": {
        "id": "0MyX1Bkp6c5O"
      },
      "execution_count": null,
      "outputs": []
    },
    {
      "cell_type": "code",
      "source": [
        "# Now let us plot the histogram\n",
        "plt.hist(x)\n",
        "plt.xlabel('x')\n",
        "plt.ylabel('number of occurances')\n",
        "plt.show()"
      ],
      "metadata": {
        "id": "uhLYbzcO6p_J"
      },
      "execution_count": null,
      "outputs": []
    },
    {
      "cell_type": "code",
      "source": [
        "# you can choose the number of bins\n",
        "plt.hist(x, bins=7) # number of bins = 7\n",
        "plt.xlabel('x')\n",
        "plt.ylabel('number of occurances')\n",
        "plt.show()"
      ],
      "metadata": {
        "id": "849VqLnh7xkQ"
      },
      "execution_count": null,
      "outputs": []
    },
    {
      "cell_type": "code",
      "source": [
        "# if you want certain bin edges of your choice\n",
        "plt.hist(x, bins=[-2, -1, 0, 1, 2, 3], color='green', edgecolor='red') # number of bins will be 5\n",
        "plt.xlabel('x')\n",
        "plt.ylabel('number of occurances')\n",
        "plt.show()"
      ],
      "metadata": {
        "id": "MDCzk0TB8MXB"
      },
      "execution_count": null,
      "outputs": []
    },
    {
      "cell_type": "markdown",
      "source": [
        "# Exercises"
      ],
      "metadata": {
        "id": "Evdnnu6T_dcE"
      }
    },
    {
      "cell_type": "code",
      "source": [
        "# Here is an array for the marks obtained by the students of a class\n",
        "# Do the following\n",
        "# 1. What is the average mark obtained by the students?\n",
        "# 2. How many students got more than or equal to 80?\n",
        "# 3. How many students got more than or equal to 40 but less than 80\n",
        "# 4. What is the maximum score?\n",
        "\n",
        "# This creates a numpy array of 200 integers ranging from [0, 100)\n",
        "# marks = np.random.randint(0, 100, 200) # Not very realistic\n",
        "\n",
        "# This creates marks normally distributed around 60\n",
        "marks = np.asarray(np.random.normal(60, 15, 100), dtype=np.int32) # creates an array of 100 marks and converts them to integer\n",
        "marks = marks[marks<100] # Remove any marks > 100"
      ],
      "metadata": {
        "id": "NECil4mqntoU"
      },
      "execution_count": null,
      "outputs": []
    },
    {
      "cell_type": "code",
      "source": [
        "# Use the same array above to do the following\n",
        "# Let us assume the marks are sorted by the roll number of the students ranging from 1, 2\n",
        "# 1. Plot the marks (using a red dotted line and indicate the points by a square) obtained by the students with roll numbers from 20 (included) to 40 (included)\n",
        "# 2. x-axis should show the roll number, y-axis should show the marks"
      ],
      "metadata": {
        "id": "pBU0WpWsBXmL"
      },
      "execution_count": null,
      "outputs": []
    },
    {
      "cell_type": "code",
      "source": [
        "# Scatter plot the same thing as above using plt.scatterplot"
      ],
      "metadata": {
        "id": "s59z5bwlCULv"
      },
      "execution_count": null,
      "outputs": []
    },
    {
      "cell_type": "code",
      "source": [
        "# Use the same array `marks` do do following\n",
        "# 1. Plot a histogram of the marks obtained by the students\n",
        "# 2. Use 20 bins\n",
        "# 2. Put x and y labels"
      ],
      "metadata": {
        "id": "9ubvVvoRnx0A"
      },
      "execution_count": null,
      "outputs": []
    },
    {
      "cell_type": "code",
      "source": [
        "# Use the same arrray above\n",
        "# Assume the following grades: 0-20, 20-45, 45-70, 70-90, 90-100\n",
        "# Plot a histogram that shows how many students are within each of the above grade\n"
      ],
      "metadata": {
        "id": "kStSFSA3-_mj"
      },
      "execution_count": null,
      "outputs": []
    },
    {
      "cell_type": "markdown",
      "source": [
        "# bar plot"
      ],
      "metadata": {
        "id": "i3ZPMIUcHxSr"
      }
    },
    {
      "cell_type": "code",
      "source": [
        "# Sometimes it is very useful when you have discrete values of the object along the x-axis\n",
        "fruits = [\"apple\", \"banana\", \"cherry\", \"kiwi\", \"mango\"]\n",
        "counts = [4, 6, 7, 2, 2]\n",
        "\n",
        "plt.bar(fruits, counts)\n",
        "plt.xlabel('fruits')\n",
        "plt.ylabel('counts')\n",
        "plt.show()"
      ],
      "metadata": {
        "id": "iPYqsJ1lHtAc"
      },
      "execution_count": null,
      "outputs": []
    },
    {
      "cell_type": "code",
      "source": [
        "# You can show multiple information\n",
        "# Play with all the options\n",
        "fruits = ['apple', 'blueberry', 'cherry', 'orange']\n",
        "counts = [40, 100, 30, 55]\n",
        "bar_labels = ['red', 'blue', 'red', 'orange']\n",
        "bar_colors = ['red', 'blue', 'red', 'orange']\n",
        "\n",
        "plt.bar(fruits, counts, width=0.8, label=bar_labels, color=bar_colors)\n",
        "\n",
        "plt.ylabel('fruit supply')\n",
        "plt.title('Fruit supply by kind and color')\n",
        "plt.legend(title='Fruit color')\n",
        "\n",
        "plt.show()"
      ],
      "metadata": {
        "id": "gyaEaqMuDe5c"
      },
      "execution_count": null,
      "outputs": []
    },
    {
      "cell_type": "code",
      "source": [],
      "metadata": {
        "id": "PpNbKAL4Ea51"
      },
      "execution_count": null,
      "outputs": []
    }
  ]
}
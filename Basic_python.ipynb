{
  "nbformat": 4,
  "nbformat_minor": 0,
  "metadata": {
    "colab": {
      "provenance": [],
      "mount_file_id": "1XxKsM48Txbed5cF91zfzef9TACxWF0Mx",
      "authorship_tag": "ABX9TyPaygycLJZtzQmL7HpGDZ/i",
      "include_colab_link": true
    },
    "kernelspec": {
      "name": "python3",
      "display_name": "Python 3"
    },
    "language_info": {
      "name": "python"
    }
  },
  "cells": [
    {
      "cell_type": "markdown",
      "metadata": {
        "id": "view-in-github",
        "colab_type": "text"
      },
      "source": [
        "<a href=\"https://colab.research.google.com/github/lanky441/sure_2025_python/blob/main/Basic_python.ipynb\" target=\"_parent\"><img src=\"https://colab.research.google.com/assets/colab-badge.svg\" alt=\"Open In Colab\"/></a>"
      ]
    },
    {
      "cell_type": "markdown",
      "source": [
        "## What is python?\n",
        "Python is a programming language! Just like English is a language that we use to express our feelings and thoughts (through speaking or writing), python is a language to write computer programs.\n",
        "\n",
        "## What is a program then?\n",
        "A computer program is a sequence or set of instructions for a computer to execute. You can use computer program to do many things including mathematical calculations, web development, making softwares (the limit is only your imagination).\n",
        "\n",
        "## Just like we have other languages like english, do we have more programming languages?\n",
        "Yes, there are many programming languages like python, e.g., `Java`, `C++`, `R`, `Julia`. Different programming languages are better suited for different jobs and they all have some advantages and some disadvantages.\n",
        "\n",
        "## Why learn python?\n",
        "Python is very intuitive and easy to learn. Also, it is very popular. So if you learn python, you can write a program that many people will understand and benifit from. You will also have access to many many python programs others have already written and can use them for your own work. You will become part of a big community and so, if you have any problem while writing your program, there will be many people to help you."
      ],
      "metadata": {
        "id": "KQiSBTfAST2l"
      }
    },
    {
      "cell_type": "markdown",
      "source": [
        "## Let us start learning. Firstly, we can use python as calculator.\n",
        "\n",
        "We can use python for all basic algebra like addition (+), subtraction (-), multiplication (\\*), division (/), and exponentiation (\\*\\*). Here are the list of avalaible operations.\n",
        "<br>\n",
        "<br>\n",
        "<img src='https://drive.google.com/uc?id=1oWIHaQ7iBeObJJWTooYigxNRfYnOqEna' width='600'>\n",
        "<br>\n",
        "## Putting comments\n",
        "We use `#` for putting comments in our code, i.e., the lines starting with `#` will be not executed (run) by python."
      ],
      "metadata": {
        "id": "C8XsAbAoW2XA"
      }
    },
    {
      "cell_type": "code",
      "execution_count": null,
      "metadata": {
        "id": "lnd7W_IASIkI"
      },
      "outputs": [],
      "source": [
        "# Addition\n",
        "2+3"
      ]
    },
    {
      "cell_type": "code",
      "source": [
        "# Subtraction\n",
        "11-6"
      ],
      "metadata": {
        "id": "16_vfppeXEOZ"
      },
      "execution_count": null,
      "outputs": []
    },
    {
      "cell_type": "code",
      "source": [
        "# Multiplication\n",
        "5*12"
      ],
      "metadata": {
        "id": "GMWZJzeIXrd2"
      },
      "execution_count": null,
      "outputs": []
    },
    {
      "cell_type": "code",
      "source": [
        "# Division\n",
        "12/3"
      ],
      "metadata": {
        "id": "IRW4MIbcXv3W"
      },
      "execution_count": null,
      "outputs": []
    },
    {
      "cell_type": "code",
      "source": [
        "# Exponent\n",
        "5**2"
      ],
      "metadata": {
        "id": "8Kv5FwLiYCFc"
      },
      "execution_count": null,
      "outputs": []
    },
    {
      "cell_type": "markdown",
      "source": [
        "**Check what `%` and `//` are used for..**"
      ],
      "metadata": {
        "id": "-JId967c0HKp"
      }
    },
    {
      "cell_type": "code",
      "source": [
        "32%5"
      ],
      "metadata": {
        "id": "Z7t-D88A0TGc"
      },
      "execution_count": null,
      "outputs": []
    },
    {
      "cell_type": "code",
      "source": [
        "32//5"
      ],
      "metadata": {
        "id": "ZyIHeukN0ef6"
      },
      "execution_count": null,
      "outputs": []
    },
    {
      "cell_type": "markdown",
      "source": [
        "## Variables\n",
        "Variables are containers for storing data values. A variable is created the moment you first assign a value to it."
      ],
      "metadata": {
        "id": "RHgwXIwYfZsx"
      }
    },
    {
      "cell_type": "code",
      "source": [
        "x = 5\n",
        "y = 3.14\n",
        "z = \"John\""
      ],
      "metadata": {
        "id": "gzFS-2EZgisc"
      },
      "execution_count": null,
      "outputs": []
    },
    {
      "cell_type": "markdown",
      "source": [
        "## Print function\n",
        "You can print something using the `print` function. The systax is `print(what you want to print)`"
      ],
      "metadata": {
        "id": "Aep8yY-lYbnT"
      }
    },
    {
      "cell_type": "code",
      "source": [
        "print(5)"
      ],
      "metadata": {
        "id": "ITPHyNvuUuWo"
      },
      "execution_count": null,
      "outputs": []
    },
    {
      "cell_type": "code",
      "source": [
        "print(3.14)"
      ],
      "metadata": {
        "id": "Ue-rht1FUyEQ"
      },
      "execution_count": null,
      "outputs": []
    },
    {
      "cell_type": "code",
      "source": [
        "print(\"Hello, World!\")"
      ],
      "metadata": {
        "id": "Ar_BVfQbYHT6"
      },
      "execution_count": null,
      "outputs": []
    },
    {
      "cell_type": "code",
      "source": [
        "x = 5\n",
        "y = 3.14\n",
        "z = \"John\"\n",
        "\n",
        "print(x)\n",
        "print(y)\n",
        "print(z)"
      ],
      "metadata": {
        "id": "Ff2bERSIYTcJ"
      },
      "execution_count": null,
      "outputs": []
    },
    {
      "cell_type": "markdown",
      "source": [
        "**Explore at home**\n",
        "\n",
        "By default, the `print` statement ends with a `linebreak`. But, you can change it if you want by using the `end` argument."
      ],
      "metadata": {
        "id": "EQX-h2YpY-JJ"
      }
    },
    {
      "cell_type": "code",
      "source": [
        "x = 5\n",
        "y = 3.14\n",
        "z = \"John\"\n",
        "\n",
        "print(x, end=' ')\n",
        "print(y, end=' ')\n",
        "print(z, end=' ')"
      ],
      "metadata": {
        "id": "y7k9Dy3hZI51"
      },
      "execution_count": null,
      "outputs": []
    },
    {
      "cell_type": "code",
      "source": [
        "x = 5\n",
        "y = 3.14\n",
        "z = \"John\"\n",
        "\n",
        "print(x, end='\\t') # \\t -> tab\n",
        "print(y, end='\\n') # \\n -> linebreak\n",
        "print(z, end='...')"
      ],
      "metadata": {
        "id": "gjVZUesNZhi7"
      },
      "execution_count": null,
      "outputs": []
    },
    {
      "cell_type": "markdown",
      "source": [
        "# Python Data Types\n",
        "\n",
        "Variables can store data of different types, and different types can do different things.\n",
        "\n",
        "Python has the following data types built-in by default, in these categories:\n",
        "\n",
        "<br>\n",
        "<br>\n",
        "<img src='https://drive.google.com/uc?id=1Mn39mDoysLOvrgpE-n02qryeFYJdXQFn' width='500'>\n",
        "<br>\n"
      ],
      "metadata": {
        "id": "rtXmWMWFUxWq"
      }
    },
    {
      "cell_type": "code",
      "source": [
        "# str\n",
        "x = \"Hello World\"\n",
        "print(x)\n",
        "print(type(x))"
      ],
      "metadata": {
        "id": "BZZGoaZ5UlhS"
      },
      "execution_count": null,
      "outputs": []
    },
    {
      "cell_type": "code",
      "source": [
        "# str\n",
        "x = \"123\"\n",
        "print(x)\n",
        "print(type(x))"
      ],
      "metadata": {
        "id": "00oxv4SQRcu_"
      },
      "execution_count": null,
      "outputs": []
    },
    {
      "cell_type": "code",
      "source": [
        "# You can add two strings with `+` operator\n",
        "x = \"Hello \"\n",
        "y = \"World!\"\n",
        "print(x + y)"
      ],
      "metadata": {
        "id": "QBl1rIUWZA7Y"
      },
      "execution_count": null,
      "outputs": []
    },
    {
      "cell_type": "code",
      "source": [
        "x = \"1\"\n",
        "y = \"2\"\n",
        "print(x + y)"
      ],
      "metadata": {
        "id": "yIr0MH7wRkAP"
      },
      "execution_count": null,
      "outputs": []
    },
    {
      "cell_type": "code",
      "source": [
        "# int\n",
        "x = 20\n",
        "print(x)\n",
        "print(type(x))"
      ],
      "metadata": {
        "id": "quws6nGoaMol"
      },
      "execution_count": null,
      "outputs": []
    },
    {
      "cell_type": "code",
      "source": [
        "# float\n",
        "x = 20.5\n",
        "print(x)\n",
        "print(type(x))"
      ],
      "metadata": {
        "id": "loeoJVfZaXJn"
      },
      "execution_count": null,
      "outputs": []
    },
    {
      "cell_type": "markdown",
      "source": [
        "**Boolean**"
      ],
      "metadata": {
        "id": "Rmpct4LIIa4o"
      }
    },
    {
      "cell_type": "code",
      "source": [
        "# bool\n",
        "x = True\n",
        "print(x)\n",
        "print(type(x))"
      ],
      "metadata": {
        "id": "oRKEWsfpIONA"
      },
      "execution_count": null,
      "outputs": []
    },
    {
      "cell_type": "code",
      "source": [
        "x = 5 > 3\n",
        "print(x)\n",
        "print(type(x))"
      ],
      "metadata": {
        "id": "5N9Jm2v6IhIc"
      },
      "execution_count": null,
      "outputs": []
    },
    {
      "cell_type": "code",
      "source": [
        "# notice the `==` sign. In python, single `=` is used for an assignment\n",
        "# and `==` is used to check equality.\n",
        "x = 5 == 3\n",
        "print(x)\n",
        "print(type(x))"
      ],
      "metadata": {
        "id": "sIEhTXZeImQ_"
      },
      "execution_count": null,
      "outputs": []
    },
    {
      "cell_type": "markdown",
      "source": [
        "# list"
      ],
      "metadata": {
        "id": "CxdJsU1LbSNh"
      }
    },
    {
      "cell_type": "code",
      "source": [
        "# list\n",
        "x = [\"apple\", \"banana\", \"cherry\"]\n",
        "print(x)\n",
        "print(type(x))"
      ],
      "metadata": {
        "id": "Zr9C3CzsafNB"
      },
      "execution_count": null,
      "outputs": []
    },
    {
      "cell_type": "code",
      "source": [
        "# you can have different types of elements in a python list\n",
        "x = [\"apple\", 1.5, 20, False]\n",
        "print(x)"
      ],
      "metadata": {
        "id": "R4rcWp0jamWu"
      },
      "execution_count": null,
      "outputs": []
    },
    {
      "cell_type": "markdown",
      "source": [
        "List items are ordered, changeable, and allow duplicate values.\n",
        "\n",
        "List items are indexed, the first item has index [0], the second item has index [1] etc."
      ],
      "metadata": {
        "id": "Gk3Lu2h9cF_W"
      }
    },
    {
      "cell_type": "code",
      "source": [
        "print(x[0])\n",
        "print(type(x[0]))"
      ],
      "metadata": {
        "id": "qbKq6NUgbZRl"
      },
      "execution_count": null,
      "outputs": []
    },
    {
      "cell_type": "code",
      "source": [
        "print(x[1])\n",
        "print(type(x[1]))"
      ],
      "metadata": {
        "id": "Z5uKj8qFcU6U"
      },
      "execution_count": null,
      "outputs": []
    },
    {
      "cell_type": "code",
      "source": [
        "print(x[2])\n",
        "print(x[3])"
      ],
      "metadata": {
        "id": "qDdoLqFNWRne"
      },
      "execution_count": null,
      "outputs": []
    },
    {
      "cell_type": "markdown",
      "source": [
        "We can access items in a list backward by using negative index. The last item has index `-1`, second last `-2`, ..."
      ],
      "metadata": {
        "id": "f0ADak_i1F_X"
      }
    },
    {
      "cell_type": "code",
      "source": [
        "print(x[-1])\n",
        "print(x[-2])"
      ],
      "metadata": {
        "id": "FiBMXOMwcgkr"
      },
      "execution_count": null,
      "outputs": []
    },
    {
      "cell_type": "markdown",
      "source": [
        "**Explore at home**\n",
        "\n",
        "The function `len()` is used to calculate the number of elements in a list."
      ],
      "metadata": {
        "id": "1AregRqAW4od"
      }
    },
    {
      "cell_type": "code",
      "source": [
        "# create a list with 12 items of different data types including int, float, str, and bool\n",
        "# print the 3rd and 8th items of the list\n",
        "# Also, print the 3rd last item of the list\n",
        "# Remember the first item has index `0`\n",
        "\n",
        "a = [1, 2, 5.4, 'a', True, \"apple\", 7, False, 3.14, \"banana\", 1.0, \"d\"]\n",
        "print(\"Length of the list = \", len(a))\n",
        "\n",
        "print(\"3rd item = \", a[2])\n",
        "print(\"8th item = \", a[7])\n",
        "print(\"3rd last item = \", a[-3])"
      ],
      "metadata": {
        "id": "IAW7rl65n93J"
      },
      "execution_count": null,
      "outputs": []
    },
    {
      "cell_type": "markdown",
      "source": [
        "A `str` is a list of characters!"
      ],
      "metadata": {
        "id": "vI-el8le2XR5"
      }
    },
    {
      "cell_type": "code",
      "source": [
        "a = \"Hello World!\"\n",
        "print(a)\n",
        "print(a[0])\n",
        "print(a[5])\n",
        "print(a[-1])"
      ],
      "metadata": {
        "id": "udd3SlwucU9P"
      },
      "execution_count": null,
      "outputs": []
    },
    {
      "cell_type": "markdown",
      "source": [
        "## Manipulating lists\n",
        "\n",
        "Python has some built-in methods we can use on list. Feel free to try all of them at home. Here we will look into a few of them.\n",
        "\n",
        "<br>\n",
        "<br>\n",
        "<img src='https://drive.google.com/uc?id=1iDXJLQQ_iwrS9AEinXSeLCKPhFB9lI7V' width='500'>\n",
        "<br>"
      ],
      "metadata": {
        "id": "k__lEWRR2_Zs"
      }
    },
    {
      "cell_type": "code",
      "source": [
        "a = [1, 3, 2, 5, 4, 6, 7, 8, 9]\n",
        "print(a)"
      ],
      "metadata": {
        "id": "wh9xC_PFcVCy"
      },
      "execution_count": null,
      "outputs": []
    },
    {
      "cell_type": "code",
      "source": [
        "a.append(10)\n",
        "print(a)"
      ],
      "metadata": {
        "id": "nr_NA5n24JI5"
      },
      "execution_count": null,
      "outputs": []
    },
    {
      "cell_type": "code",
      "source": [
        "a.remove(2)\n",
        "print(a)"
      ],
      "metadata": {
        "id": "O88IOfDC4K5U"
      },
      "execution_count": null,
      "outputs": []
    },
    {
      "cell_type": "code",
      "source": [
        "# a.insert(index, object)\n",
        "a.insert(5, 2)\n",
        "print(a)"
      ],
      "metadata": {
        "id": "g0L5yktobZWU"
      },
      "execution_count": null,
      "outputs": []
    },
    {
      "cell_type": "code",
      "source": [
        "a.sort()\n",
        "print(a)"
      ],
      "metadata": {
        "id": "aLgYjOTmJWvQ"
      },
      "execution_count": null,
      "outputs": []
    },
    {
      "cell_type": "code",
      "source": [
        "a.sort(reverse=True)\n",
        "print(a)"
      ],
      "metadata": {
        "id": "ftpx4fOsLWoA"
      },
      "execution_count": null,
      "outputs": []
    },
    {
      "cell_type": "code",
      "source": [
        "a.reverse()\n",
        "print(a)"
      ],
      "metadata": {
        "id": "hxJrmkOgLiC8"
      },
      "execution_count": null,
      "outputs": []
    },
    {
      "cell_type": "code",
      "source": [
        "# You can add the elements of two list to make one single list\n",
        "b = [1, 2, 3]\n",
        "c = a + b\n",
        "print(c)"
      ],
      "metadata": {
        "id": "NFdPDhqVZXQ3"
      },
      "execution_count": null,
      "outputs": []
    },
    {
      "cell_type": "code",
      "source": [
        "# Explore at home\n",
        "# Crate a list of different animals you like\n",
        "# Add one more animal name at the 3rd position\n",
        "# sort them alphabetically\n",
        "\n",
        "animals = [\"dog\", \"cat\", \"bird\", \"cow\"]\n",
        "\n",
        "animals.insert(2, \"elephant\")\n",
        "print(animals)\n",
        "\n",
        "animals.sort()\n",
        "print(animals)"
      ],
      "metadata": {
        "id": "D6irtBYdo4US"
      },
      "execution_count": null,
      "outputs": []
    },
    {
      "cell_type": "markdown",
      "source": [
        "**List slicing**\n",
        "\n",
        "You can access only a specified set of elements."
      ],
      "metadata": {
        "id": "fuqtoRH94m1n"
      }
    },
    {
      "cell_type": "code",
      "source": [
        "# a[start:end:step]\n",
        "# start index in included, but the end index is not included\n",
        "a = [1, 3, 2, 5, 4, 6, 7, 8, 9]\n",
        "print(a[2:8:2])"
      ],
      "metadata": {
        "id": "XoSIoxky4dB1"
      },
      "execution_count": null,
      "outputs": []
    },
    {
      "cell_type": "code",
      "source": [
        "# a[start:end:step]\n",
        "# By default, the `start = 0`, `end = -1`, and `step = 1`\n",
        "print(a[::])"
      ],
      "metadata": {
        "id": "7Ql0fr63LmZ4"
      },
      "execution_count": null,
      "outputs": []
    },
    {
      "cell_type": "code",
      "source": [
        "# In fact, you can ignore the second `:` if you want `step = 1`\n",
        "print(a[:5])\n",
        "print(a[5:])"
      ],
      "metadata": {
        "id": "Zez4vmHGL_H6"
      },
      "execution_count": null,
      "outputs": []
    },
    {
      "cell_type": "code",
      "source": [
        "# Explore at home\n",
        "# Create a list of integers from 1 to 10\n",
        "# Print only the numbers between 3 and 9 from that list\n",
        "a = [1, 2, 3, 4, 5, 6, 7, 8, 9, 10]\n",
        "print(a[2:9])"
      ],
      "metadata": {
        "id": "yb4uP9Zw09zd"
      },
      "execution_count": null,
      "outputs": []
    },
    {
      "cell_type": "markdown",
      "source": [
        "## dictionary\n",
        "**Explore at home**"
      ],
      "metadata": {
        "id": "gpMMmNbAbZn0"
      }
    },
    {
      "cell_type": "code",
      "source": [
        "# dictionary\n",
        "x = {\"name\" : \"John\", \"age\" : 36}\n",
        "print(x)\n",
        "print(type(x))"
      ],
      "metadata": {
        "id": "YubJhRKga3Km"
      },
      "execution_count": null,
      "outputs": []
    },
    {
      "cell_type": "code",
      "source": [
        "print(\"Name of the person:\", x[\"name\"])\n",
        "print(\"Age of the person:\", x[\"age\"])"
      ],
      "metadata": {
        "id": "m3Wc8ZB6bLmb"
      },
      "execution_count": null,
      "outputs": []
    },
    {
      "cell_type": "markdown",
      "source": [
        "# Python Conditions and If statements\n",
        "\n",
        "Python supports the usual logical conditions from mathematics:\n",
        "- Equals: `a == b`\n",
        "- Not Equals: `a != b`\n",
        "- Less than: `a < b`\n",
        "- Less than or equal to: `a <= b`\n",
        "- Greater than: `a > b`\n",
        "- Greater than or equal to: `a >= b`"
      ],
      "metadata": {
        "id": "irwQmlf8M3FS"
      }
    },
    {
      "cell_type": "code",
      "source": [
        "a = 33\n",
        "b = 200\n",
        "if b > a:\n",
        "  print(\"b is greater than a\")"
      ],
      "metadata": {
        "id": "onq00W7GM1Io"
      },
      "execution_count": null,
      "outputs": []
    },
    {
      "cell_type": "markdown",
      "source": [
        "### Indentation\n",
        "\n",
        "Python relies on indentation (whitespace at the beginning of a line) to define scope in the code"
      ],
      "metadata": {
        "id": "JvQ2Mqs2OAqC"
      }
    },
    {
      "cell_type": "code",
      "source": [
        "# you will get errors without indentation\n",
        "a = 10\n",
        "if a > 5:\n",
        "print(\"a is greater than 5\")"
      ],
      "metadata": {
        "id": "Y4CfjikIN7If"
      },
      "execution_count": null,
      "outputs": []
    },
    {
      "cell_type": "code",
      "source": [
        "a = 10\n",
        "if a > 5:\n",
        "  print(\"a is greater than 5\")"
      ],
      "metadata": {
        "id": "KBhzvxbmOJ8M"
      },
      "execution_count": null,
      "outputs": []
    },
    {
      "cell_type": "code",
      "source": [
        "# The number of whitespaces or tabs should match between different lines within an if statement\n",
        "a = 10\n",
        "if a > 5:\n",
        "  print(\"a is greater than 5\")\n",
        "    print(\"That's great!\")"
      ],
      "metadata": {
        "id": "JljCZloBOP-x"
      },
      "execution_count": null,
      "outputs": []
    },
    {
      "cell_type": "code",
      "source": [
        "a = 10\n",
        "if a > 5:\n",
        "  print(\"a is greater than 5\")\n",
        "  print(\"That's great!\")"
      ],
      "metadata": {
        "id": "uo624YoDOb6Q"
      },
      "execution_count": null,
      "outputs": []
    },
    {
      "cell_type": "code",
      "source": [
        "# Removing indentation will take the code out of the if statement\n",
        "a = 4\n",
        "if a > 5:\n",
        "  print(\"a is greater than 5\")\n",
        "print(\"That's great!\") #This line doesn't come under the if statement"
      ],
      "metadata": {
        "id": "A-LUYfLxh5Tr"
      },
      "execution_count": null,
      "outputs": []
    },
    {
      "cell_type": "markdown",
      "source": [
        "### elif\n",
        "\n",
        "The `elif` keyword is Python's way of saying \"if the previous conditions were not true, then try this condition\"."
      ],
      "metadata": {
        "id": "UY4qAV_mOs1h"
      }
    },
    {
      "cell_type": "code",
      "source": [
        "a = 33\n",
        "b = 33\n",
        "if b > a:\n",
        "  print(\"b is greater than a\")\n",
        "elif a == b:\n",
        "  print(\"a and b are equal\")"
      ],
      "metadata": {
        "id": "zexqmBxnOiB1"
      },
      "execution_count": null,
      "outputs": []
    },
    {
      "cell_type": "markdown",
      "source": [
        "### else\n",
        "The `else` keyword catches anything which isn't caught by the preceding conditions."
      ],
      "metadata": {
        "id": "cjwMg1HjPhrr"
      }
    },
    {
      "cell_type": "code",
      "source": [
        "a = 200\n",
        "b = 33\n",
        "if b > a:\n",
        "  print(\"b is greater than a\")\n",
        "elif a == b:\n",
        "  print(\"a and b are equal\")\n",
        "else:\n",
        "  print(\"a is greater than b\")"
      ],
      "metadata": {
        "id": "TRlw4GLvO3h8"
      },
      "execution_count": null,
      "outputs": []
    },
    {
      "cell_type": "markdown",
      "source": [
        "### and\n",
        "The `and` keyword is a logical operator, and is used to combine conditional statements:"
      ],
      "metadata": {
        "id": "XWQTvKTLP8LG"
      }
    },
    {
      "cell_type": "code",
      "source": [
        "a = 200\n",
        "b = 33\n",
        "c = 500\n",
        "if a > b and c > a:\n",
        "  print(\"Both conditions are True\")"
      ],
      "metadata": {
        "id": "QAleOxD1QDp0"
      },
      "execution_count": null,
      "outputs": []
    },
    {
      "cell_type": "markdown",
      "source": [
        "### or\n",
        "The `or` keyword is a logical operator, and is used to combine conditional statements:"
      ],
      "metadata": {
        "id": "HqPtW5rnQNfm"
      }
    },
    {
      "cell_type": "code",
      "source": [
        "a = 200\n",
        "b = 33\n",
        "c = 500\n",
        "if a > b or a > c:\n",
        "  print(\"At least one of the conditions is True\")"
      ],
      "metadata": {
        "id": "cBZu3AueQMBF"
      },
      "execution_count": null,
      "outputs": []
    },
    {
      "cell_type": "markdown",
      "source": [
        "### not\n",
        "The `not` keyword is a logical operator, and is used to reverse the result of the conditional statement:"
      ],
      "metadata": {
        "id": "8LXzQQfmQaL4"
      }
    },
    {
      "cell_type": "code",
      "source": [
        "a = 33\n",
        "b = 200\n",
        "if not a > b:\n",
        "  print(\"a is NOT greater than b\")"
      ],
      "metadata": {
        "id": "bGSV91bfQYyE"
      },
      "execution_count": null,
      "outputs": []
    },
    {
      "cell_type": "code",
      "source": [
        "# Explore at home\n",
        "# Write an if-elif-else condition to check whether a given numer is even, odd, or not an integer\n",
        "a = 5.3\n",
        "if a % 2 == 0:\n",
        "  print(\"a is even\")\n",
        "elif a % 2 == 1:\n",
        "  print(\"a is odd\")\n",
        "else:\n",
        "  print(\"a is not an integer\")"
      ],
      "metadata": {
        "id": "H3rSrPV6pw9v"
      },
      "execution_count": null,
      "outputs": []
    },
    {
      "cell_type": "markdown",
      "source": [
        "### Nested If\n",
        "You can have `if` statements inside `if` statements, this is called nested `if` statements."
      ],
      "metadata": {
        "id": "LRlAlU7JQoAz"
      }
    },
    {
      "cell_type": "code",
      "source": [
        "x = 41\n",
        "\n",
        "if x > 10:\n",
        "  print(\"x is above ten,\")\n",
        "  if x > 20:\n",
        "    print(\"And x is also above 20!\")\n",
        "  else:\n",
        "    print(\"but not above 20.\")"
      ],
      "metadata": {
        "id": "lOugG9O8Qmrc"
      },
      "execution_count": null,
      "outputs": []
    },
    {
      "cell_type": "markdown",
      "source": [
        "# Python Loops\n",
        "\n",
        "Python has two primitive loop commands:\n",
        "\n",
        "- `while` loops\n",
        "- `for` loops"
      ],
      "metadata": {
        "id": "zLEulRzbRPpf"
      }
    },
    {
      "cell_type": "markdown",
      "source": [
        "## The While Loop\n",
        "With the `while` loop we can execute a set of statements as long as a condition is true."
      ],
      "metadata": {
        "id": "skFTWg7YRt-h"
      }
    },
    {
      "cell_type": "code",
      "source": [
        "# Remember to indent\n",
        "i = 1\n",
        "while i < 6:\n",
        "  print(i)\n",
        "  i += 1   # i = i +1"
      ],
      "metadata": {
        "id": "b-JlS6aqQ9l7"
      },
      "execution_count": null,
      "outputs": []
    },
    {
      "cell_type": "markdown",
      "source": [
        "### Explore at home\n",
        "***The `break` Statement***\n",
        "\n",
        "With the `break` statement we can stop the loop even if the while condition is true:"
      ],
      "metadata": {
        "id": "nWNDZGZCTe5y"
      }
    },
    {
      "cell_type": "code",
      "source": [
        "i = 1\n",
        "while i < 6:\n",
        "  print(i)\n",
        "  if i == 3:\n",
        "    break\n",
        "  i += 1"
      ],
      "metadata": {
        "id": "SZKOHnQER8cN"
      },
      "execution_count": null,
      "outputs": []
    },
    {
      "cell_type": "markdown",
      "source": [
        "### Explore at home\n",
        "**The `continue` Statement**\n",
        "\n",
        "With the `continue` statement we can stop the current iteration, and continue with the next:"
      ],
      "metadata": {
        "id": "igwVJu7mTsTw"
      }
    },
    {
      "cell_type": "code",
      "source": [
        "i = 0\n",
        "while i < 6:\n",
        "  i += 1\n",
        "  if i == 3:\n",
        "    continue\n",
        "  print(i)"
      ],
      "metadata": {
        "id": "i1ISQo4sTqJw"
      },
      "execution_count": null,
      "outputs": []
    },
    {
      "cell_type": "markdown",
      "source": [
        "## Python For Loops\n",
        "A `for` loop is used for iterating over a sequence.\n",
        "\n",
        "With the `for` loop we can execute a set of statements, once for each item in a list, tuple, set etc."
      ],
      "metadata": {
        "id": "rze8xGcUUKMY"
      }
    },
    {
      "cell_type": "code",
      "source": [
        "fruits = [\"apple\", \"banana\", \"cherry\"]\n",
        "for fruit in fruits:\n",
        "  print(fruits)"
      ],
      "metadata": {
        "id": "HAAU01BnT2Al"
      },
      "execution_count": null,
      "outputs": []
    },
    {
      "cell_type": "code",
      "source": [
        "a = [1, 2, 3, 4, 5]\n",
        "for x in a:\n",
        "  print(x**2)"
      ],
      "metadata": {
        "id": "f8TQuhhFUltK"
      },
      "execution_count": null,
      "outputs": []
    },
    {
      "cell_type": "markdown",
      "source": [
        "### Explore at home\n",
        "Just like in `while` loop, we can use `break` and `continue` statements with for loop."
      ],
      "metadata": {
        "id": "kRfk6fSNU-WI"
      }
    },
    {
      "cell_type": "code",
      "source": [
        "# print name of the fruits but stop when x is \"banana\":\n",
        "fruits = [\"apple\", \"grapes\", \"banana\", \"cherry\"]\n",
        "for x in fruits:\n",
        "  print(x)\n",
        "  if x == \"banana\":\n",
        "    break"
      ],
      "metadata": {
        "id": "7wzImsfEUqTg"
      },
      "execution_count": null,
      "outputs": []
    },
    {
      "cell_type": "code",
      "source": [
        "# Print all fruits except banana:\n",
        "fruits = [\"apple\", \"grapes\", \"banana\", \"cherry\"]\n",
        "for x in fruits:\n",
        "  if x == \"banana\":\n",
        "    continue\n",
        "  print(x)"
      ],
      "metadata": {
        "id": "fF7RFBZOVZ0v"
      },
      "execution_count": null,
      "outputs": []
    },
    {
      "cell_type": "markdown",
      "source": [
        "### The `range()` Function\n",
        "To loop through a set of code a specified number of times, we can use the `range()` function,\n",
        "The `range()` function returns a sequence of numbers, starting from 0 by default, and increments by 1 (by default), and ends at a specified number.\n",
        "\n",
        "`range(start=0, end, step=1)`\n",
        "\n",
        "The end value is not included."
      ],
      "metadata": {
        "id": "qge_QDITV7YN"
      }
    },
    {
      "cell_type": "code",
      "source": [
        "x = range(6)\n",
        "print(x)\n",
        "print(type(x))"
      ],
      "metadata": {
        "id": "7qAhAMOXZ426"
      },
      "execution_count": null,
      "outputs": []
    },
    {
      "cell_type": "code",
      "source": [
        "for x in range(6):\n",
        "  print(x)"
      ],
      "metadata": {
        "id": "lch5jzSSWJS5"
      },
      "execution_count": null,
      "outputs": []
    },
    {
      "cell_type": "code",
      "source": [
        "for x in range(2, 6):\n",
        "  print(x)"
      ],
      "metadata": {
        "id": "OjCJuKztWLkA"
      },
      "execution_count": null,
      "outputs": []
    },
    {
      "cell_type": "code",
      "source": [
        "for x in range(2, 20, 3):\n",
        "  print(x)"
      ],
      "metadata": {
        "id": "HmNCkSp5WWLL"
      },
      "execution_count": null,
      "outputs": []
    },
    {
      "cell_type": "markdown",
      "source": [
        "### Nested Loops\n",
        "A nested loop is a loop inside a loop.\n",
        "\n",
        "The \"inner loop\" will be executed one time for each iteration of the \"outer loop\":"
      ],
      "metadata": {
        "id": "KlRcSwb3W-ie"
      }
    },
    {
      "cell_type": "code",
      "source": [
        "adj = [\"red\", \"big\", \"tasty\"]\n",
        "fruits = [\"apple\", \"banana\", \"cherry\"]\n",
        "\n",
        "for x in adj:\n",
        "  print(\"adj = \", x)\n",
        "  for y in fruits:\n",
        "    print(\"fruit = \", y)\n",
        "    print(x, y)\n",
        "  print(\"Starting new outer loop...\")"
      ],
      "metadata": {
        "id": "cfmszB0xWYl7"
      },
      "execution_count": null,
      "outputs": []
    },
    {
      "cell_type": "markdown",
      "source": [
        "### Explore at home\n",
        "\n",
        "**Print out this using nested for loop**\n",
        "\n",
        "1\n",
        "\n",
        "2 2\n",
        "\n",
        "3 3 3\n",
        "\n",
        "4 4 4 4\n",
        "\n",
        "5 5 5 5 5\n",
        "\n",
        "6 6 6 6 6 6"
      ],
      "metadata": {
        "id": "xXEzopz4ZxCy"
      }
    },
    {
      "cell_type": "code",
      "source": [
        "for i in range(1, 7):\n",
        "  for j in range(i):\n",
        "    print(i, end=' ')\n",
        "  print()"
      ],
      "metadata": {
        "id": "U5XvXGEWXJMQ"
      },
      "execution_count": null,
      "outputs": []
    },
    {
      "cell_type": "markdown",
      "source": [
        "# Python functions\n",
        "\n",
        "- A function is a block of code which only runs when it is called.\n",
        "\n",
        "- You can pass data, known as parameters, into a function.\n",
        "\n",
        "- A function can return data as a result.\n",
        "\n",
        "**Creating a Function**\n",
        "\n",
        "In Python, a function is defined using the `def` keyword:"
      ],
      "metadata": {
        "id": "RIl83MX0aj21"
      }
    },
    {
      "cell_type": "code",
      "source": [
        "def my_function():\n",
        "  print(\"Hello from my function!\")\n",
        "  print(\"Bye!\")"
      ],
      "metadata": {
        "id": "EWtkfhXzXcFK"
      },
      "execution_count": null,
      "outputs": []
    },
    {
      "cell_type": "code",
      "source": [
        "# Just creating a function does not print those statements\n",
        "# You need to call the function\n",
        "\n",
        "my_function()"
      ],
      "metadata": {
        "id": "yzQGAxS5X1k_"
      },
      "execution_count": null,
      "outputs": []
    },
    {
      "cell_type": "markdown",
      "source": [
        "## Arguments\n",
        "Information can be passed into functions as arguments."
      ],
      "metadata": {
        "id": "XsKNbo66YjKA"
      }
    },
    {
      "cell_type": "code",
      "source": [
        "def my_function(name):\n",
        "  print(\"Hello, \" + name + \"!\")\n",
        "\n",
        "\n",
        "my_function(\"John\")\n",
        "my_function(\"Sara\")"
      ],
      "metadata": {
        "id": "31Qa2SYJX6sG"
      },
      "execution_count": null,
      "outputs": []
    },
    {
      "cell_type": "markdown",
      "source": [
        "You can use as many arguments (or parameters) as you want to define a function. Here is an example with two arguments."
      ],
      "metadata": {
        "id": "sodiJGWIZ8KO"
      }
    },
    {
      "cell_type": "code",
      "source": [
        "def my_function(fname, lname):\n",
        "  print(\"Hello, \" + fname + \" \" + lname + \"!\")\n",
        "\n",
        "my_function(\"John\", \"Doe\")"
      ],
      "metadata": {
        "id": "ljjeOUs_Y6bZ"
      },
      "execution_count": null,
      "outputs": []
    },
    {
      "cell_type": "markdown",
      "source": [
        "**Number of Arguments**\n",
        "\n",
        "A function must be called with the correct number of arguments. Meaning that if your function expects 2 arguments, you have to call the function with 2 arguments, not more, and not less."
      ],
      "metadata": {
        "id": "rBw6CLeVag8o"
      }
    },
    {
      "cell_type": "code",
      "source": [
        "my_function(\"John\")"
      ],
      "metadata": {
        "id": "qgYEA7ywaXJQ"
      },
      "execution_count": null,
      "outputs": []
    },
    {
      "cell_type": "code",
      "source": [
        "my_function(\"John\", \"Doe\", \"Smith\")"
      ],
      "metadata": {
        "id": "LoXe7eZram7k"
      },
      "execution_count": null,
      "outputs": []
    },
    {
      "cell_type": "markdown",
      "source": [
        "**Default Parameter Value**\n",
        "\n",
        "The following example shows how to use a default parameter value."
      ],
      "metadata": {
        "id": "4wU4P6Cdaw2b"
      }
    },
    {
      "cell_type": "code",
      "source": [
        "def my_function(country = \"Norway\"):\n",
        "  print(\"I am from \" + country + \"!\")\n",
        "\n",
        "my_function()\n",
        "my_function(\"Sweden\")\n",
        "my_function(\"India\")\n",
        "my_function(\"Brazil\")"
      ],
      "metadata": {
        "id": "Gny-7JD6bDuo"
      },
      "execution_count": null,
      "outputs": []
    },
    {
      "cell_type": "markdown",
      "source": [
        "**Passing a List as an Argument**\n",
        "\n",
        "You can send any data types of argument to a function (string, number, list, dictionary etc.), and it will be treated as the same data type inside the function.\n",
        "\n",
        "E.g. if you send a List as an argument, it will still be a List when it reaches the function:"
      ],
      "metadata": {
        "id": "R9mXGWwbbTYq"
      }
    },
    {
      "cell_type": "code",
      "source": [
        "def my_function(food):\n",
        "  for x in food:\n",
        "    print(x)\n",
        "\n",
        "fruits = [\"apple\", \"banana\", \"cherry\"]\n",
        "\n",
        "my_function(fruits)"
      ],
      "metadata": {
        "id": "ajdMWzb6bH_p"
      },
      "execution_count": null,
      "outputs": []
    },
    {
      "cell_type": "markdown",
      "source": [
        "## Return Values\n",
        "\n",
        "To let a function return a value, use the `return` statement:"
      ],
      "metadata": {
        "id": "nrzrJTXpbvNY"
      }
    },
    {
      "cell_type": "code",
      "source": [
        "def my_function(x):\n",
        "  return 5 * x\n",
        "\n",
        "y = my_function(6)\n",
        "print(y)"
      ],
      "metadata": {
        "id": "nJM8rhINbtN4"
      },
      "execution_count": null,
      "outputs": []
    },
    {
      "cell_type": "markdown",
      "source": [
        "You can use mutiple arguments and define complicated functions. Here are few things to try out."
      ],
      "metadata": {
        "id": "_rtHHW7odVfu"
      }
    },
    {
      "cell_type": "code",
      "source": [
        "# Define a function that will calculate and return x^5 for any value of x\n",
        "\n",
        "def my_function(x):\n",
        "  return x**5\n",
        "\n",
        "print(my_function(3))\n",
        "print(my_function(5))"
      ],
      "metadata": {
        "id": "KZpe43Exb_DG"
      },
      "execution_count": null,
      "outputs": []
    },
    {
      "cell_type": "code",
      "source": [
        "# Define a function that will calculate and return (x+y)^2 for given values of x and y\n",
        "\n",
        "def my_function(x, y):\n",
        "  return (x+y)**2\n",
        "\n",
        "print(my_function(3, 4))\n",
        "print(my_function(5, 6))"
      ],
      "metadata": {
        "id": "bGEjs1Qsd7CJ"
      },
      "execution_count": null,
      "outputs": []
    },
    {
      "cell_type": "code",
      "source": [
        "# Define a function that will calculate and return factorial(x) or x!\n",
        "# x! = 1*2*3*4*5*...*x\n",
        "# For example, 5! = 1*2*3*4*5 = 120\n",
        "\n",
        "def factorial(x):\n",
        "  fact = 1\n",
        "  for i in range(1, x+1):\n",
        "    fact = fact * i\n",
        "\n",
        "  return(fact)\n",
        "\n",
        "print(factorial(5))"
      ],
      "metadata": {
        "id": "UMuDb5QBeD70"
      },
      "execution_count": null,
      "outputs": []
    },
    {
      "cell_type": "markdown",
      "source": [
        "## Recursion\n",
        "\n",
        "Python also accepts function recursion, which means a defined function can call itself.\n",
        "\n",
        "Recursion is a common mathematical and programming concept. It means that a function calls itself. This has the benefit of meaning that you can loop through data to reach a result.\n",
        "\n",
        "Recursion must have a stopping criterion, i.e., the function must stop calling itself and return some value when a certain condition is reached."
      ],
      "metadata": {
        "id": "hyRhSbbFe6P6"
      }
    },
    {
      "cell_type": "code",
      "source": [
        "# Let us try to calculate the factorial again\n",
        "# x! = x * (x-1)!\n",
        "# 5! = 5 * 4! = 5 * 4 * 3! = 5 * 4 * 3 * 2! = 5 * 4 * 3 * 2 * 1! = 5 * 4 * 3 * 2 * 1 = 120\n",
        "\n",
        "def factorial(x):\n",
        "  if x == 1:\n",
        "    return 1\n",
        "  else:\n",
        "    return x * factorial(x-1)\n",
        "\n",
        "print(factorial(5))\n",
        "print(factorial(10))"
      ],
      "metadata": {
        "id": "tZfoSyNve9K_"
      },
      "execution_count": null,
      "outputs": []
    },
    {
      "cell_type": "code",
      "source": [
        "# Fibonacci Sequence\n",
        "# The Fibonacci Sequence is a series of numbers:\n",
        "# 0, 1, 1, 2, 3, 5, 8, 13, 21, ...\n",
        "# Every next number is found by adding up the two numbers before it.\n",
        "\n",
        "# The first two numbers are 0 and 1.\n",
        "# The next number in the sequence is the sum of the previous two numbers.\n",
        "\n",
        "# Write a function that will return the nth Fibonacci number\n",
        "\n",
        "def fibonacci(n):\n",
        "  if n == 1:\n",
        "    return 0\n",
        "  elif n == 2:\n",
        "    return 1\n",
        "  else:\n",
        "    return fibonacci(n-1) + fibonacci(n-2)\n",
        "\n",
        "print(fibonacci(10))"
      ],
      "metadata": {
        "id": "CRBsnik1hIbS"
      },
      "execution_count": null,
      "outputs": []
    },
    {
      "cell_type": "markdown",
      "source": [
        "#Exercises"
      ],
      "metadata": {
        "id": "mgCKDJtNNSym"
      }
    },
    {
      "cell_type": "code",
      "source": [
        "# Palindrome Checker\n",
        "# Write a function that checks if a word is a palindrome (same forward and backward), ignoring spaces and case.\n",
        "\n",
        "def palindrom_checker(word):\n",
        "  ....\n",
        "  ...."
      ],
      "metadata": {
        "id": "kUxIPvp5n956"
      },
      "execution_count": null,
      "outputs": []
    },
    {
      "cell_type": "code",
      "source": [
        "# Vowel Counter\n",
        "# Write a function that takes a word and counts how many vowels (a, e, i, o, u) it contains.\n",
        "\n",
        "def vowel_counter(word):\n",
        "  ....\n",
        "  ...."
      ],
      "metadata": {
        "id": "MO8fAFTYOa4j"
      },
      "execution_count": null,
      "outputs": []
    },
    {
      "cell_type": "code",
      "source": [
        "# Word Reverser\n",
        "# Write a function that takes a sentence and returns the sentence with each word reversed (but the order of words remains unchanged). Words are separated by whitespace \" \".\n",
        "\n",
        "def word_reverser(sentence):\n",
        "  ....\n",
        "  ....\n"
      ],
      "metadata": {
        "id": "jiqUc4n2Onq8"
      },
      "execution_count": null,
      "outputs": []
    },
    {
      "cell_type": "code",
      "source": [
        "# Sum of Elements\n",
        "# Write a function that takes a list of numbers and returns the sum.\n",
        "\n"
      ],
      "metadata": {
        "id": "XL6QCSRhO3Dc"
      },
      "execution_count": null,
      "outputs": []
    },
    {
      "cell_type": "code",
      "source": [
        "# List Reverser (without using `reverse()` or slicing)\n",
        "# Write a loop that reverses a list manually.\n",
        "\n",
        "a = [1, 2, 3, 4, 5]\n",
        "for i in range(len(a)//2):\n",
        "  .....\n",
        "\n",
        "print(a)"
      ],
      "metadata": {
        "id": "PJB0gb33PL2l"
      },
      "execution_count": null,
      "outputs": []
    },
    {
      "cell_type": "code",
      "source": [
        "# Remove Duplicates\n",
        "# Write a function that removes duplicates from a list and returns the new list.\n",
        "\n",
        "def remove_duplicates(a):\n",
        "  ....\n",
        "  ...."
      ],
      "metadata": {
        "id": "dDTc-oM-QA0L"
      },
      "execution_count": null,
      "outputs": []
    },
    {
      "cell_type": "code",
      "source": [
        "# Find Maximum and Minimum\n",
        "# Without using max() or min(), write functions to find the maximum and minimum number in a list.\n",
        "\n",
        "def find_max(a):\n",
        "  ....\n",
        "  ....\n",
        "\n",
        "def find_min(a):\n",
        "  ....\n",
        "  ....\n",
        "\n",
        "a = [5, 1, 7, 2, 0, -3, 11, 6, 5]\n",
        "print(\"Maximum number= \", find_max(a))\n",
        "print(\"Minimum number = \", find_min(a))"
      ],
      "metadata": {
        "id": "UE-Os21BQPHm"
      },
      "execution_count": null,
      "outputs": []
    },
    {
      "cell_type": "code",
      "source": [
        "# List Comprehension Practice\n",
        "# Given a list of numbers, return a list of squares of only the even numbers using list comprehension.\n",
        "\n",
        "def square_even(a):\n",
        "  ....\n",
        "  ...."
      ],
      "metadata": {
        "id": "rXzkbwseQnX2"
      },
      "execution_count": null,
      "outputs": []
    },
    {
      "cell_type": "code",
      "source": [
        "# FizzBuzz\n",
        "# Print numbers from 1 to 30. For multiples of 3, also print \"Fizz\", for multiples of 5 also print \"Buzz\", and for multiples of both print \"FizzBuzz\".\n",
        "\n",
        "for i in range(1, 31):\n",
        "  ....\n",
        "  ...."
      ],
      "metadata": {
        "id": "atgr0MvFQ0ck"
      },
      "execution_count": null,
      "outputs": []
    },
    {
      "cell_type": "code",
      "source": [
        "# Prime Number Checker\n",
        "# Write a function that checks whether a number is prime or not.\n",
        "\n",
        "def is_prime(n):\n",
        "  ....\n",
        "  ...."
      ],
      "metadata": {
        "id": "rJ__NX-URGB6"
      },
      "execution_count": null,
      "outputs": []
    },
    {
      "cell_type": "code",
      "source": [
        "# Find Common Elements\n",
        "# Write a function that returns the common elements between two given lists.\n",
        "\n",
        "def find_common(a, b):\n",
        "  ....\n",
        "  ...."
      ],
      "metadata": {
        "id": "KYAE5WQaRL5o"
      },
      "execution_count": null,
      "outputs": []
    },
    {
      "cell_type": "code",
      "source": [
        "# Simple Calculator\n",
        "# Write a function calculator(a, b, op) that performs basic arithmetic operations (+, -, *, /) based on the operator passed.\n",
        "\n"
      ],
      "metadata": {
        "id": "kKQikTM8RfVC"
      },
      "execution_count": null,
      "outputs": []
    },
    {
      "cell_type": "code",
      "source": [
        "# Manual List Sort (Ascending Order)\n",
        "# Write a Python function that takes a list of numbers as input and returns a new list with the numbers sorted in ascending order.\n",
        "# Do not use the built-in sort() method or the sorted() function.\n",
        "# You may implement any sorting algorithm of your choice (e.g., selection sort, bubble sort, etc.; ask google or chatgpt).\n",
        "\n",
        "def sort_list(a):\n",
        "  ....\n",
        "  ....\n",
        "  return ..."
      ],
      "metadata": {
        "id": "GG7sc50OS_Dv"
      },
      "execution_count": null,
      "outputs": []
    },
    {
      "cell_type": "markdown",
      "source": [
        "## Bouncing Ball\n",
        "\n",
        "You drop a bouncing ball from a height of 1 meter. Each time the ball bounces, it reaches only 70% of the height of the previous bounce — that is, the bounce coefficient is 0.7. When the height of a bounce falls below 0.01 meters, the ball is considered to have stopped bouncing. Calculate the total distance the ball travels before it comes to rest."
      ],
      "metadata": {
        "id": "m1396KiNS39N"
      }
    },
    {
      "cell_type": "code",
      "source": [
        "# Write your code here\n",
        "# Use `while` loop\n",
        "\n"
      ],
      "metadata": {
        "id": "-NRMROV2NVGK"
      },
      "execution_count": null,
      "outputs": []
    },
    {
      "cell_type": "markdown",
      "source": [
        "Now for the same problem, write a function that takes the initial height and the bouncing coefficient as arguments and return the total distance travelled by the ball.\n",
        "\n",
        "Using the function, calculate the distance for initial height of 5 meters and bouncing coefficient of 0.85."
      ],
      "metadata": {
        "id": "s7cVACH5nJUd"
      }
    },
    {
      "cell_type": "code",
      "source": [
        "# Write your code here"
      ],
      "metadata": {
        "id": "adx5-zDrn1hm"
      },
      "execution_count": null,
      "outputs": []
    }
  ]
}
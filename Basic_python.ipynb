{
  "nbformat": 4,
  "nbformat_minor": 0,
  "metadata": {
    "colab": {
      "provenance": [],
      "mount_file_id": "1XxKsM48Txbed5cF91zfzef9TACxWF0Mx",
      "authorship_tag": "ABX9TyOhhKlX3M6+edsXuyzfSuRq",
      "include_colab_link": true
    },
    "kernelspec": {
      "name": "python3",
      "display_name": "Python 3"
    },
    "language_info": {
      "name": "python"
    }
  },
  "cells": [
    {
      "cell_type": "markdown",
      "metadata": {
        "id": "view-in-github",
        "colab_type": "text"
      },
      "source": [
        "<a href=\"https://colab.research.google.com/github/lanky441/sure_2025_python/blob/main/Basic_python.ipynb\" target=\"_parent\"><img src=\"https://colab.research.google.com/assets/colab-badge.svg\" alt=\"Open In Colab\"/></a>"
      ]
    },
    {
      "cell_type": "markdown",
      "source": [
        "## What is python?\n",
        "Python is a programming language! Just like English is a language that we use to express our feelings and thoughts (through speaking or writing), python is a language to write computer programs.\n",
        "\n",
        "## What is a program then?\n",
        "A computer program is a sequence or set of instructions for a computer to execute. You can use computer program to do many things including mathematical calculations, web development, making softwares (the limit is only your imagination).\n",
        "\n",
        "## Just like we have other languages like english, do we have more programming languages?\n",
        "Yes, there are many programming languages like python, e.g., `Java`, `C++`, `R`, `Julia`. Different programming languages are better suited for different jobs and they all have some advantages and some disadvantages.\n",
        "\n",
        "## Why learn python?\n",
        "Python is very intuitive and easy to learn. Also, it is very popular. So if you learn python, you can write a program that many people will understand and benifit from. You will also have access to many many python programs others have already written and can use them for your own work. You will become part of a big community and so, if you have any problem while writing your program, there will be many people to help you."
      ],
      "metadata": {
        "id": "KQiSBTfAST2l"
      }
    },
    {
      "cell_type": "markdown",
      "source": [
        "## Let us start learning. Firstly, we can use python as calculator.\n",
        "\n",
        "We can use python for all basic algebra like addition (+), subtraction (-), multiplication (\\*), division (/), and exponentiation (\\*\\*). Here are the list of avalaible operations.\n",
        "<br>\n",
        "<br>\n",
        "<img src='https://drive.google.com/uc?id=1oWIHaQ7iBeObJJWTooYigxNRfYnOqEna' width='600'>\n",
        "<br>\n",
        "## Putting comments\n",
        "We use `#` for putting comments in our code, i.e., the lines starting with `#` will be not executed (run) by python."
      ],
      "metadata": {
        "id": "C8XsAbAoW2XA"
      }
    },
    {
      "cell_type": "code",
      "execution_count": 1,
      "metadata": {
        "id": "lnd7W_IASIkI",
        "colab": {
          "base_uri": "https://localhost:8080/"
        },
        "outputId": "b613a08e-4d9a-4fda-c973-c21d1e82c490"
      },
      "outputs": [
        {
          "output_type": "execute_result",
          "data": {
            "text/plain": [
              "5"
            ]
          },
          "metadata": {},
          "execution_count": 1
        }
      ],
      "source": [
        "# Addition\n",
        "2+3"
      ]
    },
    {
      "cell_type": "code",
      "source": [
        "# Subtraction\n",
        "11-6"
      ],
      "metadata": {
        "id": "16_vfppeXEOZ",
        "colab": {
          "base_uri": "https://localhost:8080/"
        },
        "outputId": "28fb25d1-2dc3-4db7-de16-0b1aaae1f379"
      },
      "execution_count": 2,
      "outputs": [
        {
          "output_type": "execute_result",
          "data": {
            "text/plain": [
              "5"
            ]
          },
          "metadata": {},
          "execution_count": 2
        }
      ]
    },
    {
      "cell_type": "code",
      "source": [
        "# Multiplication\n",
        "5*12"
      ],
      "metadata": {
        "id": "GMWZJzeIXrd2",
        "colab": {
          "base_uri": "https://localhost:8080/"
        },
        "outputId": "a0cbe119-7f90-437d-912f-d070378799bd"
      },
      "execution_count": 3,
      "outputs": [
        {
          "output_type": "execute_result",
          "data": {
            "text/plain": [
              "60"
            ]
          },
          "metadata": {},
          "execution_count": 3
        }
      ]
    },
    {
      "cell_type": "code",
      "source": [
        "# Division\n",
        "12/3"
      ],
      "metadata": {
        "id": "IRW4MIbcXv3W",
        "colab": {
          "base_uri": "https://localhost:8080/"
        },
        "outputId": "1f78f3c8-aea5-488b-bfde-ca250b559b9d"
      },
      "execution_count": 4,
      "outputs": [
        {
          "output_type": "execute_result",
          "data": {
            "text/plain": [
              "4.0"
            ]
          },
          "metadata": {},
          "execution_count": 4
        }
      ]
    },
    {
      "cell_type": "code",
      "source": [
        "# Exponent\n",
        "5**2"
      ],
      "metadata": {
        "id": "8Kv5FwLiYCFc",
        "colab": {
          "base_uri": "https://localhost:8080/"
        },
        "outputId": "765c9125-bc3f-451a-ae37-624c93f85b1d"
      },
      "execution_count": 5,
      "outputs": [
        {
          "output_type": "execute_result",
          "data": {
            "text/plain": [
              "25"
            ]
          },
          "metadata": {},
          "execution_count": 5
        }
      ]
    },
    {
      "cell_type": "markdown",
      "source": [
        "**Check what `%` and `//` are used for..**"
      ],
      "metadata": {
        "id": "-JId967c0HKp"
      }
    },
    {
      "cell_type": "code",
      "source": [
        "32%5"
      ],
      "metadata": {
        "id": "Z7t-D88A0TGc",
        "colab": {
          "base_uri": "https://localhost:8080/"
        },
        "outputId": "941ca5dc-1bb2-4a1d-cf12-6a87764dcf6c"
      },
      "execution_count": 6,
      "outputs": [
        {
          "output_type": "execute_result",
          "data": {
            "text/plain": [
              "2"
            ]
          },
          "metadata": {},
          "execution_count": 6
        }
      ]
    },
    {
      "cell_type": "code",
      "source": [
        "32//5"
      ],
      "metadata": {
        "id": "ZyIHeukN0ef6",
        "colab": {
          "base_uri": "https://localhost:8080/"
        },
        "outputId": "69965568-a82b-4d9a-cfde-0756e4f832df"
      },
      "execution_count": 7,
      "outputs": [
        {
          "output_type": "execute_result",
          "data": {
            "text/plain": [
              "6"
            ]
          },
          "metadata": {},
          "execution_count": 7
        }
      ]
    },
    {
      "cell_type": "markdown",
      "source": [
        "## Variables\n",
        "Variables are containers for storing data values. A variable is created the moment you first assign a value to it."
      ],
      "metadata": {
        "id": "RHgwXIwYfZsx"
      }
    },
    {
      "cell_type": "code",
      "source": [
        "x = 5\n",
        "y = 3.14\n",
        "z = \"John\""
      ],
      "metadata": {
        "id": "gzFS-2EZgisc"
      },
      "execution_count": 8,
      "outputs": []
    },
    {
      "cell_type": "markdown",
      "source": [
        "## Print function\n",
        "You can print something using the `print` function. The systax is `print(what you want to print)`"
      ],
      "metadata": {
        "id": "Aep8yY-lYbnT"
      }
    },
    {
      "cell_type": "code",
      "source": [
        "print(5)"
      ],
      "metadata": {
        "id": "ITPHyNvuUuWo",
        "colab": {
          "base_uri": "https://localhost:8080/"
        },
        "outputId": "3409a352-6f14-47ec-afc3-de57f09bf638"
      },
      "execution_count": 9,
      "outputs": [
        {
          "output_type": "stream",
          "name": "stdout",
          "text": [
            "5\n"
          ]
        }
      ]
    },
    {
      "cell_type": "code",
      "source": [
        "print(3.14)"
      ],
      "metadata": {
        "id": "Ue-rht1FUyEQ",
        "colab": {
          "base_uri": "https://localhost:8080/"
        },
        "outputId": "9f170c2d-8be0-4623-d53f-d1cb7f5a4340"
      },
      "execution_count": 10,
      "outputs": [
        {
          "output_type": "stream",
          "name": "stdout",
          "text": [
            "3.14\n"
          ]
        }
      ]
    },
    {
      "cell_type": "code",
      "source": [
        "print(\"Hello, World!\")"
      ],
      "metadata": {
        "id": "Ar_BVfQbYHT6",
        "colab": {
          "base_uri": "https://localhost:8080/"
        },
        "outputId": "6dafb825-95b7-400d-9bfc-eb3c549db3f4"
      },
      "execution_count": 11,
      "outputs": [
        {
          "output_type": "stream",
          "name": "stdout",
          "text": [
            "Hello, World!\n"
          ]
        }
      ]
    },
    {
      "cell_type": "code",
      "source": [
        "x = 5\n",
        "y = 3.14\n",
        "z = \"John\"\n",
        "\n",
        "print(x)\n",
        "print(y)\n",
        "print(z)"
      ],
      "metadata": {
        "id": "Ff2bERSIYTcJ",
        "colab": {
          "base_uri": "https://localhost:8080/"
        },
        "outputId": "74f7143a-af1d-491c-c175-5d73f5f71839"
      },
      "execution_count": 12,
      "outputs": [
        {
          "output_type": "stream",
          "name": "stdout",
          "text": [
            "5\n",
            "3.14\n",
            "John\n"
          ]
        }
      ]
    },
    {
      "cell_type": "markdown",
      "source": [
        "**Explore at home**\n",
        "\n",
        "By default, the `print` statement ends with a `linebreak`. But, you can change it if you want by using the `end` argument."
      ],
      "metadata": {
        "id": "EQX-h2YpY-JJ"
      }
    },
    {
      "cell_type": "code",
      "source": [
        "x = 5\n",
        "y = 3.14\n",
        "z = \"John\"\n",
        "\n",
        "print(x, end=' ')\n",
        "print(y, end=' ')\n",
        "print(z, end=' ')"
      ],
      "metadata": {
        "id": "y7k9Dy3hZI51",
        "colab": {
          "base_uri": "https://localhost:8080/"
        },
        "outputId": "29751efb-72ca-448e-bfdf-283bd54d5c44"
      },
      "execution_count": 13,
      "outputs": [
        {
          "output_type": "stream",
          "name": "stdout",
          "text": [
            "5 3.14 John "
          ]
        }
      ]
    },
    {
      "cell_type": "code",
      "source": [
        "x = 5\n",
        "y = 3.14\n",
        "z = \"John\"\n",
        "\n",
        "print(x, end='\\t') # \\t -> tab\n",
        "print(y, end='\\n') # \\n -> linebreak\n",
        "print(z, end='...')"
      ],
      "metadata": {
        "id": "gjVZUesNZhi7",
        "colab": {
          "base_uri": "https://localhost:8080/"
        },
        "outputId": "1da4013e-923d-4111-f2a0-c456d6108e74"
      },
      "execution_count": 14,
      "outputs": [
        {
          "output_type": "stream",
          "name": "stdout",
          "text": [
            "5\t3.14\n",
            "John..."
          ]
        }
      ]
    },
    {
      "cell_type": "markdown",
      "source": [
        "# Python Data Types\n",
        "\n",
        "Variables can store data of different types, and different types can do different things.\n",
        "\n",
        "Python has the following data types built-in by default, in these categories:\n",
        "\n",
        "<br>\n",
        "<br>\n",
        "<img src='https://drive.google.com/uc?id=1Mn39mDoysLOvrgpE-n02qryeFYJdXQFn' width='500'>\n",
        "<br>\n"
      ],
      "metadata": {
        "id": "rtXmWMWFUxWq"
      }
    },
    {
      "cell_type": "code",
      "source": [
        "# str\n",
        "x = \"Hello World\"\n",
        "print(x)\n",
        "print(type(x))"
      ],
      "metadata": {
        "id": "BZZGoaZ5UlhS",
        "colab": {
          "base_uri": "https://localhost:8080/"
        },
        "outputId": "70cb2f91-025f-4d5f-b390-b54b620a6e03"
      },
      "execution_count": 15,
      "outputs": [
        {
          "output_type": "stream",
          "name": "stdout",
          "text": [
            "Hello World\n",
            "<class 'str'>\n"
          ]
        }
      ]
    },
    {
      "cell_type": "code",
      "source": [
        "# str\n",
        "x = \"123\"\n",
        "print(x)\n",
        "print(type(x))"
      ],
      "metadata": {
        "id": "00oxv4SQRcu_",
        "colab": {
          "base_uri": "https://localhost:8080/"
        },
        "outputId": "1f7a9fab-0026-4932-93f8-f0eaee629282"
      },
      "execution_count": 16,
      "outputs": [
        {
          "output_type": "stream",
          "name": "stdout",
          "text": [
            "123\n",
            "<class 'str'>\n"
          ]
        }
      ]
    },
    {
      "cell_type": "code",
      "source": [
        "# You can add two strings with `+` operator\n",
        "x = \"Hello \"\n",
        "y = \"World!\"\n",
        "print(x + y)"
      ],
      "metadata": {
        "id": "QBl1rIUWZA7Y",
        "colab": {
          "base_uri": "https://localhost:8080/"
        },
        "outputId": "1a148880-c2a0-460c-fc7f-babf543ff493"
      },
      "execution_count": 17,
      "outputs": [
        {
          "output_type": "stream",
          "name": "stdout",
          "text": [
            "Hello World!\n"
          ]
        }
      ]
    },
    {
      "cell_type": "code",
      "source": [
        "x = \"1\"\n",
        "y = \"2\"\n",
        "print(x + y)"
      ],
      "metadata": {
        "id": "yIr0MH7wRkAP",
        "colab": {
          "base_uri": "https://localhost:8080/"
        },
        "outputId": "2fc59dbd-11ff-4c30-b7f7-a80ead58fa0d"
      },
      "execution_count": 18,
      "outputs": [
        {
          "output_type": "stream",
          "name": "stdout",
          "text": [
            "12\n"
          ]
        }
      ]
    },
    {
      "cell_type": "code",
      "source": [
        "# int\n",
        "x = 20\n",
        "print(x)\n",
        "print(type(x))"
      ],
      "metadata": {
        "id": "quws6nGoaMol",
        "colab": {
          "base_uri": "https://localhost:8080/"
        },
        "outputId": "d86ebaa2-1a28-4133-a5bf-66cb1f3a349b"
      },
      "execution_count": 19,
      "outputs": [
        {
          "output_type": "stream",
          "name": "stdout",
          "text": [
            "20\n",
            "<class 'int'>\n"
          ]
        }
      ]
    },
    {
      "cell_type": "code",
      "source": [
        "# float\n",
        "x = 20.5\n",
        "print(x)\n",
        "print(type(x))"
      ],
      "metadata": {
        "id": "loeoJVfZaXJn",
        "colab": {
          "base_uri": "https://localhost:8080/"
        },
        "outputId": "1ce4a507-9171-4482-fa0c-4ae6f714aef1"
      },
      "execution_count": 20,
      "outputs": [
        {
          "output_type": "stream",
          "name": "stdout",
          "text": [
            "20.5\n",
            "<class 'float'>\n"
          ]
        }
      ]
    },
    {
      "cell_type": "markdown",
      "source": [
        "**Boolean**"
      ],
      "metadata": {
        "id": "Rmpct4LIIa4o"
      }
    },
    {
      "cell_type": "code",
      "source": [
        "# bool\n",
        "x = True\n",
        "print(x)\n",
        "print(type(x))"
      ],
      "metadata": {
        "id": "oRKEWsfpIONA",
        "colab": {
          "base_uri": "https://localhost:8080/"
        },
        "outputId": "7820e7a9-ee57-4e53-853d-4994792ab603"
      },
      "execution_count": 21,
      "outputs": [
        {
          "output_type": "stream",
          "name": "stdout",
          "text": [
            "True\n",
            "<class 'bool'>\n"
          ]
        }
      ]
    },
    {
      "cell_type": "code",
      "source": [
        "x = 5 > 3\n",
        "print(x)\n",
        "print(type(x))"
      ],
      "metadata": {
        "id": "5N9Jm2v6IhIc",
        "colab": {
          "base_uri": "https://localhost:8080/"
        },
        "outputId": "41cac292-c0bd-4411-e1b6-091b03959179"
      },
      "execution_count": 22,
      "outputs": [
        {
          "output_type": "stream",
          "name": "stdout",
          "text": [
            "True\n",
            "<class 'bool'>\n"
          ]
        }
      ]
    },
    {
      "cell_type": "code",
      "source": [
        "# notice the `==` sign. In python, single `=` is used for an assignment\n",
        "# and `==` is used to check equality.\n",
        "x = 5 == 3\n",
        "print(x)\n",
        "print(type(x))"
      ],
      "metadata": {
        "id": "sIEhTXZeImQ_",
        "colab": {
          "base_uri": "https://localhost:8080/"
        },
        "outputId": "8540a8bb-d68c-410b-a3e2-6a0d8e2dd694"
      },
      "execution_count": 23,
      "outputs": [
        {
          "output_type": "stream",
          "name": "stdout",
          "text": [
            "False\n",
            "<class 'bool'>\n"
          ]
        }
      ]
    },
    {
      "cell_type": "markdown",
      "source": [
        "# list"
      ],
      "metadata": {
        "id": "CxdJsU1LbSNh"
      }
    },
    {
      "cell_type": "code",
      "source": [
        "# list\n",
        "x = [\"apple\", \"banana\", \"cherry\"]\n",
        "print(x)\n",
        "print(type(x))"
      ],
      "metadata": {
        "id": "Zr9C3CzsafNB",
        "colab": {
          "base_uri": "https://localhost:8080/"
        },
        "outputId": "9600f566-dfd1-4417-d3d9-3a68827ea56c"
      },
      "execution_count": 24,
      "outputs": [
        {
          "output_type": "stream",
          "name": "stdout",
          "text": [
            "['apple', 'banana', 'cherry']\n",
            "<class 'list'>\n"
          ]
        }
      ]
    },
    {
      "cell_type": "code",
      "source": [
        "# you can have different types of elements in a python list\n",
        "x = [\"apple\", 1.5, 20, False]\n",
        "print(x)"
      ],
      "metadata": {
        "id": "R4rcWp0jamWu",
        "colab": {
          "base_uri": "https://localhost:8080/"
        },
        "outputId": "e6df2f31-7612-4ae0-a8f2-b8c3630364aa"
      },
      "execution_count": 25,
      "outputs": [
        {
          "output_type": "stream",
          "name": "stdout",
          "text": [
            "['apple', 1.5, 20, False]\n"
          ]
        }
      ]
    },
    {
      "cell_type": "markdown",
      "source": [
        "List items are ordered, changeable, and allow duplicate values.\n",
        "\n",
        "List items are indexed, the first item has index [0], the second item has index [1] etc."
      ],
      "metadata": {
        "id": "Gk3Lu2h9cF_W"
      }
    },
    {
      "cell_type": "code",
      "source": [
        "print(x[0])\n",
        "print(type(x[0]))"
      ],
      "metadata": {
        "id": "qbKq6NUgbZRl",
        "colab": {
          "base_uri": "https://localhost:8080/"
        },
        "outputId": "9a26cc9d-392c-4dcb-fed5-b126858131b9"
      },
      "execution_count": 26,
      "outputs": [
        {
          "output_type": "stream",
          "name": "stdout",
          "text": [
            "apple\n",
            "<class 'str'>\n"
          ]
        }
      ]
    },
    {
      "cell_type": "code",
      "source": [
        "print(x[1])\n",
        "print(type(x[1]))"
      ],
      "metadata": {
        "id": "Z5uKj8qFcU6U",
        "colab": {
          "base_uri": "https://localhost:8080/"
        },
        "outputId": "ccc287b1-cb8c-44ee-b4da-80321b2b01d6"
      },
      "execution_count": 27,
      "outputs": [
        {
          "output_type": "stream",
          "name": "stdout",
          "text": [
            "1.5\n",
            "<class 'float'>\n"
          ]
        }
      ]
    },
    {
      "cell_type": "code",
      "source": [
        "print(x[2])\n",
        "print(x[3])"
      ],
      "metadata": {
        "id": "qDdoLqFNWRne",
        "colab": {
          "base_uri": "https://localhost:8080/"
        },
        "outputId": "18eaa379-dc9c-4196-b37a-fe5c31b94f9a"
      },
      "execution_count": 28,
      "outputs": [
        {
          "output_type": "stream",
          "name": "stdout",
          "text": [
            "20\n",
            "False\n"
          ]
        }
      ]
    },
    {
      "cell_type": "markdown",
      "source": [
        "We can access items in a list backward by using negative index. The last item has index `-1`, second last `-2`, ..."
      ],
      "metadata": {
        "id": "f0ADak_i1F_X"
      }
    },
    {
      "cell_type": "code",
      "source": [
        "print(x[-1])\n",
        "print(x[-2])"
      ],
      "metadata": {
        "id": "FiBMXOMwcgkr",
        "colab": {
          "base_uri": "https://localhost:8080/"
        },
        "outputId": "2502f178-215a-42c3-c5fa-c53cc091cce8"
      },
      "execution_count": 29,
      "outputs": [
        {
          "output_type": "stream",
          "name": "stdout",
          "text": [
            "False\n",
            "20\n"
          ]
        }
      ]
    },
    {
      "cell_type": "markdown",
      "source": [
        "**Explore at home**\n",
        "\n",
        "The function `len()` is used to calculate the number of elements in a list."
      ],
      "metadata": {
        "id": "1AregRqAW4od"
      }
    },
    {
      "cell_type": "code",
      "source": [
        "# create a list with 12 items of different data types including int, float, str, and bool\n",
        "# print the 3rd and 8th items of the list\n",
        "# Also, print the 3rd last item of the list\n",
        "# Remember the first item has index `0`\n",
        "\n",
        "a = [1, 2, 5.4, 'a', True, \"apple\", 7, False, 3.14, \"banana\", 1.0, \"d\"]\n",
        "print(\"Length of the list = \", len(a))\n",
        "\n",
        "print(\"3rd item = \", a[2])\n",
        "print(\"8th item = \", a[7])\n",
        "print(\"3rd last item = \", a[-3])"
      ],
      "metadata": {
        "id": "IAW7rl65n93J",
        "colab": {
          "base_uri": "https://localhost:8080/"
        },
        "outputId": "dddc1d70-2726-455f-a06c-d2d907f7bd97"
      },
      "execution_count": 30,
      "outputs": [
        {
          "output_type": "stream",
          "name": "stdout",
          "text": [
            "Length of the list =  12\n",
            "3rd item =  5.4\n",
            "8th item =  False\n",
            "3rd last item =  banana\n"
          ]
        }
      ]
    },
    {
      "cell_type": "markdown",
      "source": [
        "A `str` is a list of characters!"
      ],
      "metadata": {
        "id": "vI-el8le2XR5"
      }
    },
    {
      "cell_type": "code",
      "source": [
        "a = \"Hello World!\"\n",
        "print(a)\n",
        "print(a[0])\n",
        "print(a[5])\n",
        "print(a[-1])"
      ],
      "metadata": {
        "id": "udd3SlwucU9P",
        "colab": {
          "base_uri": "https://localhost:8080/"
        },
        "outputId": "ebc3a836-3f97-4f09-c7ae-a0c692f1bfe9"
      },
      "execution_count": 31,
      "outputs": [
        {
          "output_type": "stream",
          "name": "stdout",
          "text": [
            "Hello World!\n",
            "H\n",
            " \n",
            "!\n"
          ]
        }
      ]
    },
    {
      "cell_type": "markdown",
      "source": [
        "## Manipulating lists\n",
        "\n",
        "Python has some built-in methods we can use on list. Feel free to try all of them at home. Here we will look into a few of them.\n",
        "\n",
        "<br>\n",
        "<br>\n",
        "<img src='https://drive.google.com/uc?id=1iDXJLQQ_iwrS9AEinXSeLCKPhFB9lI7V' width='500'>\n",
        "<br>"
      ],
      "metadata": {
        "id": "k__lEWRR2_Zs"
      }
    },
    {
      "cell_type": "code",
      "source": [
        "a = [1, 3, 2, 5, 4, 6, 7, 8, 9]\n",
        "print(a)"
      ],
      "metadata": {
        "id": "wh9xC_PFcVCy",
        "colab": {
          "base_uri": "https://localhost:8080/"
        },
        "outputId": "dcc43023-498c-4044-a81d-dd2f3a278d0a"
      },
      "execution_count": 32,
      "outputs": [
        {
          "output_type": "stream",
          "name": "stdout",
          "text": [
            "[1, 3, 2, 5, 4, 6, 7, 8, 9]\n"
          ]
        }
      ]
    },
    {
      "cell_type": "code",
      "source": [
        "a.append(10)\n",
        "print(a)"
      ],
      "metadata": {
        "id": "nr_NA5n24JI5",
        "colab": {
          "base_uri": "https://localhost:8080/"
        },
        "outputId": "0fce5cbe-b4d6-43f3-db66-aa43cb367d22"
      },
      "execution_count": 33,
      "outputs": [
        {
          "output_type": "stream",
          "name": "stdout",
          "text": [
            "[1, 3, 2, 5, 4, 6, 7, 8, 9, 10]\n"
          ]
        }
      ]
    },
    {
      "cell_type": "code",
      "source": [
        "a.remove(2)\n",
        "print(a)"
      ],
      "metadata": {
        "id": "O88IOfDC4K5U",
        "colab": {
          "base_uri": "https://localhost:8080/"
        },
        "outputId": "0ce3ca91-c8ec-463a-a507-c1448982186c"
      },
      "execution_count": 34,
      "outputs": [
        {
          "output_type": "stream",
          "name": "stdout",
          "text": [
            "[1, 3, 5, 4, 6, 7, 8, 9, 10]\n"
          ]
        }
      ]
    },
    {
      "cell_type": "code",
      "source": [
        "# a.insert(index, object)\n",
        "a.insert(5, 2)\n",
        "print(a)"
      ],
      "metadata": {
        "id": "g0L5yktobZWU",
        "colab": {
          "base_uri": "https://localhost:8080/"
        },
        "outputId": "6c183d73-a1b3-4be6-9fcc-81e284952432"
      },
      "execution_count": 35,
      "outputs": [
        {
          "output_type": "stream",
          "name": "stdout",
          "text": [
            "[1, 3, 5, 4, 6, 2, 7, 8, 9, 10]\n"
          ]
        }
      ]
    },
    {
      "cell_type": "code",
      "source": [
        "a.sort()\n",
        "print(a)"
      ],
      "metadata": {
        "id": "aLgYjOTmJWvQ",
        "colab": {
          "base_uri": "https://localhost:8080/"
        },
        "outputId": "7cad9cef-8551-42b1-aa9a-f5d30aceb14b"
      },
      "execution_count": 36,
      "outputs": [
        {
          "output_type": "stream",
          "name": "stdout",
          "text": [
            "[1, 2, 3, 4, 5, 6, 7, 8, 9, 10]\n"
          ]
        }
      ]
    },
    {
      "cell_type": "code",
      "source": [
        "a.sort(reverse=True)\n",
        "print(a)"
      ],
      "metadata": {
        "id": "ftpx4fOsLWoA",
        "colab": {
          "base_uri": "https://localhost:8080/"
        },
        "outputId": "f99b86a7-ed83-4cc3-9596-9dff1db26cdb"
      },
      "execution_count": 37,
      "outputs": [
        {
          "output_type": "stream",
          "name": "stdout",
          "text": [
            "[10, 9, 8, 7, 6, 5, 4, 3, 2, 1]\n"
          ]
        }
      ]
    },
    {
      "cell_type": "code",
      "source": [
        "a.reverse()\n",
        "print(a)"
      ],
      "metadata": {
        "id": "hxJrmkOgLiC8",
        "colab": {
          "base_uri": "https://localhost:8080/"
        },
        "outputId": "5209b072-aa55-4181-ca94-17cb26a202a5"
      },
      "execution_count": 38,
      "outputs": [
        {
          "output_type": "stream",
          "name": "stdout",
          "text": [
            "[1, 2, 3, 4, 5, 6, 7, 8, 9, 10]\n"
          ]
        }
      ]
    },
    {
      "cell_type": "code",
      "source": [
        "# You can add the elements of two list to make one single list\n",
        "b = [1, 2, 3]\n",
        "c = a + b\n",
        "print(c)"
      ],
      "metadata": {
        "id": "NFdPDhqVZXQ3",
        "colab": {
          "base_uri": "https://localhost:8080/"
        },
        "outputId": "35925e9e-79bc-4911-96f1-be509e88245f"
      },
      "execution_count": 39,
      "outputs": [
        {
          "output_type": "stream",
          "name": "stdout",
          "text": [
            "[1, 2, 3, 4, 5, 6, 7, 8, 9, 10, 1, 2, 3]\n"
          ]
        }
      ]
    },
    {
      "cell_type": "code",
      "source": [
        "# Explore at home\n",
        "# Crate a list of different animals you like\n",
        "# Add one more animal name at the 3rd position\n",
        "# sort them alphabetically\n",
        "\n",
        "animals = [\"dog\", \"cat\", \"bird\", \"cow\"]\n",
        "\n",
        "animals.insert(2, \"elephant\")\n",
        "print(animals)\n",
        "\n",
        "animals.sort()\n",
        "print(animals)"
      ],
      "metadata": {
        "id": "D6irtBYdo4US",
        "colab": {
          "base_uri": "https://localhost:8080/"
        },
        "outputId": "ba91457c-ca5d-4864-948d-21adf4245404"
      },
      "execution_count": 40,
      "outputs": [
        {
          "output_type": "stream",
          "name": "stdout",
          "text": [
            "['dog', 'cat', 'elephant', 'bird', 'cow']\n",
            "['bird', 'cat', 'cow', 'dog', 'elephant']\n"
          ]
        }
      ]
    },
    {
      "cell_type": "markdown",
      "source": [
        "**List slicing**\n",
        "\n",
        "You can access only a specified set of elements."
      ],
      "metadata": {
        "id": "fuqtoRH94m1n"
      }
    },
    {
      "cell_type": "code",
      "source": [
        "# a[start:end:step]\n",
        "# start index in included, but the end index is not included\n",
        "a = [1, 3, 2, 5, 4, 6, 7, 8, 9]\n",
        "print(a[2:8:2])"
      ],
      "metadata": {
        "id": "XoSIoxky4dB1",
        "colab": {
          "base_uri": "https://localhost:8080/"
        },
        "outputId": "e548e191-9aa5-4558-deff-b4d42d9e9b2c"
      },
      "execution_count": 41,
      "outputs": [
        {
          "output_type": "stream",
          "name": "stdout",
          "text": [
            "[2, 4, 7]\n"
          ]
        }
      ]
    },
    {
      "cell_type": "code",
      "source": [
        "# a[start:end:step]\n",
        "# By default, the `start = 0`, `end = -1`, and `step = 1`\n",
        "print(a[::])"
      ],
      "metadata": {
        "id": "7Ql0fr63LmZ4",
        "colab": {
          "base_uri": "https://localhost:8080/"
        },
        "outputId": "1291175c-2f09-4bcc-8ed9-a779f37dc291"
      },
      "execution_count": 42,
      "outputs": [
        {
          "output_type": "stream",
          "name": "stdout",
          "text": [
            "[1, 3, 2, 5, 4, 6, 7, 8, 9]\n"
          ]
        }
      ]
    },
    {
      "cell_type": "code",
      "source": [
        "# In fact, you can ignore the second `:` if you want `step = 1`\n",
        "print(a[:5])\n",
        "print(a[5:])"
      ],
      "metadata": {
        "id": "Zez4vmHGL_H6",
        "colab": {
          "base_uri": "https://localhost:8080/"
        },
        "outputId": "f2afb849-9eed-4f52-b46d-68b2561eb8df"
      },
      "execution_count": 43,
      "outputs": [
        {
          "output_type": "stream",
          "name": "stdout",
          "text": [
            "[1, 3, 2, 5, 4]\n",
            "[6, 7, 8, 9]\n"
          ]
        }
      ]
    },
    {
      "cell_type": "code",
      "source": [
        "# Explore at home\n",
        "# Create a list of integers from 1 to 10\n",
        "# Print only the numbers between 3 and 9 from that list\n",
        "a = [1, 2, 3, 4, 5, 6, 7, 8, 9, 10]\n",
        "print(a[2:9])"
      ],
      "metadata": {
        "id": "yb4uP9Zw09zd",
        "colab": {
          "base_uri": "https://localhost:8080/"
        },
        "outputId": "6d8cffce-6f4d-4d7f-ff1c-51a04add9f27"
      },
      "execution_count": 44,
      "outputs": [
        {
          "output_type": "stream",
          "name": "stdout",
          "text": [
            "[3, 4, 5, 6, 7, 8, 9]\n"
          ]
        }
      ]
    },
    {
      "cell_type": "markdown",
      "source": [
        "## dictionary\n",
        "**Explore at home**"
      ],
      "metadata": {
        "id": "gpMMmNbAbZn0"
      }
    },
    {
      "cell_type": "code",
      "source": [
        "# dictionary\n",
        "x = {\"name\" : \"John\", \"age\" : 36}\n",
        "print(x)\n",
        "print(type(x))"
      ],
      "metadata": {
        "id": "YubJhRKga3Km",
        "colab": {
          "base_uri": "https://localhost:8080/"
        },
        "outputId": "d91bd2a0-95ef-47b1-f30e-3d1f3220dc1b"
      },
      "execution_count": 45,
      "outputs": [
        {
          "output_type": "stream",
          "name": "stdout",
          "text": [
            "{'name': 'John', 'age': 36}\n",
            "<class 'dict'>\n"
          ]
        }
      ]
    },
    {
      "cell_type": "code",
      "source": [
        "print(\"Name of the person:\", x[\"name\"])\n",
        "print(\"Age of the person:\", x[\"age\"])"
      ],
      "metadata": {
        "id": "m3Wc8ZB6bLmb",
        "colab": {
          "base_uri": "https://localhost:8080/"
        },
        "outputId": "f5eb31ec-b094-4315-d528-3c707a917b91"
      },
      "execution_count": 46,
      "outputs": [
        {
          "output_type": "stream",
          "name": "stdout",
          "text": [
            "Name of the person: John\n",
            "Age of the person: 36\n"
          ]
        }
      ]
    },
    {
      "cell_type": "markdown",
      "source": [
        "# Python Conditions and If statements\n",
        "\n",
        "Python supports the usual logical conditions from mathematics:\n",
        "- Equals: `a == b`\n",
        "- Not Equals: `a != b`\n",
        "- Less than: `a < b`\n",
        "- Less than or equal to: `a <= b`\n",
        "- Greater than: `a > b`\n",
        "- Greater than or equal to: `a >= b`"
      ],
      "metadata": {
        "id": "irwQmlf8M3FS"
      }
    },
    {
      "cell_type": "code",
      "source": [
        "a = 33\n",
        "b = 200\n",
        "if b > a:\n",
        "  print(\"b is greater than a\")"
      ],
      "metadata": {
        "id": "onq00W7GM1Io",
        "colab": {
          "base_uri": "https://localhost:8080/"
        },
        "outputId": "07667a1f-b0e7-49c4-c70c-8ef4c4c257d8"
      },
      "execution_count": 47,
      "outputs": [
        {
          "output_type": "stream",
          "name": "stdout",
          "text": [
            "b is greater than a\n"
          ]
        }
      ]
    },
    {
      "cell_type": "markdown",
      "source": [
        "### Indentation\n",
        "\n",
        "Python relies on indentation (whitespace at the beginning of a line) to define scope in the code"
      ],
      "metadata": {
        "id": "JvQ2Mqs2OAqC"
      }
    },
    {
      "cell_type": "code",
      "source": [
        "# you will get errors without indentation\n",
        "a = 10\n",
        "if a > 5:\n",
        "print(\"a is greater than 5\")"
      ],
      "metadata": {
        "id": "Y4CfjikIN7If",
        "colab": {
          "base_uri": "https://localhost:8080/",
          "height": 105
        },
        "outputId": "99569246-fff1-42d9-9d68-b4b97fec0e08"
      },
      "execution_count": 48,
      "outputs": [
        {
          "output_type": "error",
          "ename": "IndentationError",
          "evalue": "expected an indented block after 'if' statement on line 3 (<ipython-input-48-8d19a466e43d>, line 4)",
          "traceback": [
            "\u001b[0;36m  File \u001b[0;32m\"<ipython-input-48-8d19a466e43d>\"\u001b[0;36m, line \u001b[0;32m4\u001b[0m\n\u001b[0;31m    print(\"a is greater than 5\")\u001b[0m\n\u001b[0m    ^\u001b[0m\n\u001b[0;31mIndentationError\u001b[0m\u001b[0;31m:\u001b[0m expected an indented block after 'if' statement on line 3\n"
          ]
        }
      ]
    },
    {
      "cell_type": "code",
      "source": [
        "a = 10\n",
        "if a > 5:\n",
        "  print(\"a is greater than 5\")"
      ],
      "metadata": {
        "id": "KBhzvxbmOJ8M",
        "colab": {
          "base_uri": "https://localhost:8080/"
        },
        "outputId": "c6f2ddd3-e098-4c74-e73a-bec88ee6ce2f"
      },
      "execution_count": 49,
      "outputs": [
        {
          "output_type": "stream",
          "name": "stdout",
          "text": [
            "a is greater than 5\n"
          ]
        }
      ]
    },
    {
      "cell_type": "code",
      "source": [
        "# The number of whitespaces or tabs should match between different lines within an if statement\n",
        "a = 10\n",
        "if a > 5:\n",
        "  print(\"a is greater than 5\")\n",
        "    print(\"That's great!\")"
      ],
      "metadata": {
        "id": "JljCZloBOP-x",
        "colab": {
          "base_uri": "https://localhost:8080/",
          "height": 105
        },
        "outputId": "6124032a-822e-4ef4-bad7-8bbe3c1b025e"
      },
      "execution_count": 50,
      "outputs": [
        {
          "output_type": "error",
          "ename": "IndentationError",
          "evalue": "unexpected indent (<ipython-input-50-95763ae4dbf0>, line 5)",
          "traceback": [
            "\u001b[0;36m  File \u001b[0;32m\"<ipython-input-50-95763ae4dbf0>\"\u001b[0;36m, line \u001b[0;32m5\u001b[0m\n\u001b[0;31m    print(\"That's great!\")\u001b[0m\n\u001b[0m    ^\u001b[0m\n\u001b[0;31mIndentationError\u001b[0m\u001b[0;31m:\u001b[0m unexpected indent\n"
          ]
        }
      ]
    },
    {
      "cell_type": "code",
      "source": [
        "a = 10\n",
        "if a > 5:\n",
        "  print(\"a is greater than 5\")\n",
        "  print(\"That's great!\")"
      ],
      "metadata": {
        "id": "uo624YoDOb6Q",
        "colab": {
          "base_uri": "https://localhost:8080/"
        },
        "outputId": "991dcc7e-c0fb-4362-ad5e-2ab969484325"
      },
      "execution_count": 51,
      "outputs": [
        {
          "output_type": "stream",
          "name": "stdout",
          "text": [
            "a is greater than 5\n",
            "That's great!\n"
          ]
        }
      ]
    },
    {
      "cell_type": "code",
      "source": [
        "# Removing indentation will take the code out of the if statement\n",
        "a = 4\n",
        "if a > 5:\n",
        "  print(\"a is greater than 5\")\n",
        "print(\"That's great!\") #This line doesn't come under the if statement"
      ],
      "metadata": {
        "id": "A-LUYfLxh5Tr",
        "colab": {
          "base_uri": "https://localhost:8080/"
        },
        "outputId": "0773c55e-df66-4af3-922f-2999027ceadc"
      },
      "execution_count": 52,
      "outputs": [
        {
          "output_type": "stream",
          "name": "stdout",
          "text": [
            "That's great!\n"
          ]
        }
      ]
    },
    {
      "cell_type": "markdown",
      "source": [
        "### elif\n",
        "\n",
        "The `elif` keyword is Python's way of saying \"if the previous conditions were not true, then try this condition\"."
      ],
      "metadata": {
        "id": "UY4qAV_mOs1h"
      }
    },
    {
      "cell_type": "code",
      "source": [
        "a = 33\n",
        "b = 33\n",
        "if b > a:\n",
        "  print(\"b is greater than a\")\n",
        "elif a == b:\n",
        "  print(\"a and b are equal\")"
      ],
      "metadata": {
        "id": "zexqmBxnOiB1",
        "colab": {
          "base_uri": "https://localhost:8080/"
        },
        "outputId": "35a9af1d-2e89-427c-c9d6-b98ab01c1ca7"
      },
      "execution_count": 53,
      "outputs": [
        {
          "output_type": "stream",
          "name": "stdout",
          "text": [
            "a and b are equal\n"
          ]
        }
      ]
    },
    {
      "cell_type": "markdown",
      "source": [
        "### else\n",
        "The `else` keyword catches anything which isn't caught by the preceding conditions."
      ],
      "metadata": {
        "id": "cjwMg1HjPhrr"
      }
    },
    {
      "cell_type": "code",
      "source": [
        "a = 200\n",
        "b = 33\n",
        "if b > a:\n",
        "  print(\"b is greater than a\")\n",
        "elif a == b:\n",
        "  print(\"a and b are equal\")\n",
        "else:\n",
        "  print(\"a is greater than b\")"
      ],
      "metadata": {
        "id": "TRlw4GLvO3h8",
        "colab": {
          "base_uri": "https://localhost:8080/"
        },
        "outputId": "80d4e454-bedb-4b57-bc72-4dd3c3870d70"
      },
      "execution_count": 54,
      "outputs": [
        {
          "output_type": "stream",
          "name": "stdout",
          "text": [
            "a is greater than b\n"
          ]
        }
      ]
    },
    {
      "cell_type": "markdown",
      "source": [
        "### and\n",
        "The `and` keyword is a logical operator, and is used to combine conditional statements:"
      ],
      "metadata": {
        "id": "XWQTvKTLP8LG"
      }
    },
    {
      "cell_type": "code",
      "source": [
        "a = 200\n",
        "b = 33\n",
        "c = 500\n",
        "if a > b and c > a:\n",
        "  print(\"Both conditions are True\")"
      ],
      "metadata": {
        "id": "QAleOxD1QDp0",
        "colab": {
          "base_uri": "https://localhost:8080/"
        },
        "outputId": "6feb26a4-a90a-46de-e362-43cb16a2b751"
      },
      "execution_count": 55,
      "outputs": [
        {
          "output_type": "stream",
          "name": "stdout",
          "text": [
            "Both conditions are True\n"
          ]
        }
      ]
    },
    {
      "cell_type": "markdown",
      "source": [
        "### or\n",
        "The `or` keyword is a logical operator, and is used to combine conditional statements:"
      ],
      "metadata": {
        "id": "HqPtW5rnQNfm"
      }
    },
    {
      "cell_type": "code",
      "source": [
        "a = 200\n",
        "b = 33\n",
        "c = 500\n",
        "if a > b or a > c:\n",
        "  print(\"At least one of the conditions is True\")"
      ],
      "metadata": {
        "id": "cBZu3AueQMBF",
        "colab": {
          "base_uri": "https://localhost:8080/"
        },
        "outputId": "e5d9baea-30ef-4c2b-a6a8-e5f95770c8a5"
      },
      "execution_count": 56,
      "outputs": [
        {
          "output_type": "stream",
          "name": "stdout",
          "text": [
            "At least one of the conditions is True\n"
          ]
        }
      ]
    },
    {
      "cell_type": "markdown",
      "source": [
        "### not\n",
        "The `not` keyword is a logical operator, and is used to reverse the result of the conditional statement:"
      ],
      "metadata": {
        "id": "8LXzQQfmQaL4"
      }
    },
    {
      "cell_type": "code",
      "source": [
        "a = 33\n",
        "b = 200\n",
        "if not a > b:\n",
        "  print(\"a is NOT greater than b\")"
      ],
      "metadata": {
        "id": "bGSV91bfQYyE",
        "colab": {
          "base_uri": "https://localhost:8080/"
        },
        "outputId": "303a4f17-4b2b-457e-8f32-3fac002d85ac"
      },
      "execution_count": 57,
      "outputs": [
        {
          "output_type": "stream",
          "name": "stdout",
          "text": [
            "a is NOT greater than b\n"
          ]
        }
      ]
    },
    {
      "cell_type": "code",
      "source": [
        "# Explore at home\n",
        "# Write an if-elif-else condition to check whether a given numer is even, odd, or not an integer\n",
        "a = 5.3\n",
        "if a % 2 == 0:\n",
        "  print(\"a is even\")\n",
        "elif a % 2 == 1:\n",
        "  print(\"a is odd\")\n",
        "else:\n",
        "  print(\"a is not an integer\")"
      ],
      "metadata": {
        "id": "H3rSrPV6pw9v",
        "colab": {
          "base_uri": "https://localhost:8080/"
        },
        "outputId": "8c31ef57-0df2-4caf-e557-2cc00efeeb0c"
      },
      "execution_count": 58,
      "outputs": [
        {
          "output_type": "stream",
          "name": "stdout",
          "text": [
            "a is not an integer\n"
          ]
        }
      ]
    },
    {
      "cell_type": "markdown",
      "source": [
        "### Nested If\n",
        "You can have `if` statements inside `if` statements, this is called nested `if` statements."
      ],
      "metadata": {
        "id": "LRlAlU7JQoAz"
      }
    },
    {
      "cell_type": "code",
      "source": [
        "x = 41\n",
        "\n",
        "if x > 10:\n",
        "  print(\"x is above ten,\")\n",
        "  if x > 20:\n",
        "    print(\"And x is also above 20!\")\n",
        "  else:\n",
        "    print(\"but not above 20.\")"
      ],
      "metadata": {
        "id": "lOugG9O8Qmrc",
        "colab": {
          "base_uri": "https://localhost:8080/"
        },
        "outputId": "b7cd3d31-6e3b-493c-89d4-d606d41b6b7d"
      },
      "execution_count": 59,
      "outputs": [
        {
          "output_type": "stream",
          "name": "stdout",
          "text": [
            "x is above ten,\n",
            "And x is also above 20!\n"
          ]
        }
      ]
    },
    {
      "cell_type": "markdown",
      "source": [
        "# Python Loops\n",
        "\n",
        "Python has two primitive loop commands:\n",
        "\n",
        "- `while` loops\n",
        "- `for` loops"
      ],
      "metadata": {
        "id": "zLEulRzbRPpf"
      }
    },
    {
      "cell_type": "markdown",
      "source": [
        "## The While Loop\n",
        "With the `while` loop we can execute a set of statements as long as a condition is true."
      ],
      "metadata": {
        "id": "skFTWg7YRt-h"
      }
    },
    {
      "cell_type": "code",
      "source": [
        "# Remember to indent\n",
        "i = 1\n",
        "while i < 6:\n",
        "  print(i)\n",
        "  i += 1   # i = i +1"
      ],
      "metadata": {
        "id": "b-JlS6aqQ9l7",
        "colab": {
          "base_uri": "https://localhost:8080/"
        },
        "outputId": "92bf6dae-729a-4268-c217-ecd3a6d02c31"
      },
      "execution_count": 60,
      "outputs": [
        {
          "output_type": "stream",
          "name": "stdout",
          "text": [
            "1\n",
            "2\n",
            "3\n",
            "4\n",
            "5\n"
          ]
        }
      ]
    },
    {
      "cell_type": "markdown",
      "source": [
        "### Explore at home\n",
        "***The `break` Statement***\n",
        "\n",
        "With the `break` statement we can stop the loop even if the while condition is true:"
      ],
      "metadata": {
        "id": "nWNDZGZCTe5y"
      }
    },
    {
      "cell_type": "code",
      "source": [
        "i = 1\n",
        "while i < 6:\n",
        "  print(i)\n",
        "  if i == 3:\n",
        "    break\n",
        "  i += 1"
      ],
      "metadata": {
        "id": "SZKOHnQER8cN",
        "colab": {
          "base_uri": "https://localhost:8080/"
        },
        "outputId": "1f02321e-e84f-41ce-ab68-19f67b242f86"
      },
      "execution_count": 61,
      "outputs": [
        {
          "output_type": "stream",
          "name": "stdout",
          "text": [
            "1\n",
            "2\n",
            "3\n"
          ]
        }
      ]
    },
    {
      "cell_type": "markdown",
      "source": [
        "### Explore at home\n",
        "**The `continue` Statement**\n",
        "\n",
        "With the `continue` statement we can stop the current iteration, and continue with the next:"
      ],
      "metadata": {
        "id": "igwVJu7mTsTw"
      }
    },
    {
      "cell_type": "code",
      "source": [
        "i = 0\n",
        "while i < 6:\n",
        "  i += 1\n",
        "  if i == 3:\n",
        "    continue\n",
        "  print(i)"
      ],
      "metadata": {
        "id": "i1ISQo4sTqJw",
        "colab": {
          "base_uri": "https://localhost:8080/"
        },
        "outputId": "8f357c39-42a7-4871-d604-b7091b3cfab8"
      },
      "execution_count": 62,
      "outputs": [
        {
          "output_type": "stream",
          "name": "stdout",
          "text": [
            "1\n",
            "2\n",
            "4\n",
            "5\n",
            "6\n"
          ]
        }
      ]
    },
    {
      "cell_type": "markdown",
      "source": [
        "## Python For Loops\n",
        "A `for` loop is used for iterating over a sequence.\n",
        "\n",
        "With the `for` loop we can execute a set of statements, once for each item in a list, tuple, set etc."
      ],
      "metadata": {
        "id": "rze8xGcUUKMY"
      }
    },
    {
      "cell_type": "code",
      "source": [
        "fruits = [\"apple\", \"banana\", \"cherry\"]\n",
        "for fruit in fruits:\n",
        "  print(fruits)"
      ],
      "metadata": {
        "id": "HAAU01BnT2Al",
        "colab": {
          "base_uri": "https://localhost:8080/"
        },
        "outputId": "dbe028e0-3dc1-4ca8-85a2-332eb763fa51"
      },
      "execution_count": 63,
      "outputs": [
        {
          "output_type": "stream",
          "name": "stdout",
          "text": [
            "['apple', 'banana', 'cherry']\n",
            "['apple', 'banana', 'cherry']\n",
            "['apple', 'banana', 'cherry']\n"
          ]
        }
      ]
    },
    {
      "cell_type": "code",
      "source": [
        "a = [1, 2, 3, 4, 5]\n",
        "for x in a:\n",
        "  print(x**2)"
      ],
      "metadata": {
        "id": "f8TQuhhFUltK",
        "colab": {
          "base_uri": "https://localhost:8080/"
        },
        "outputId": "7056eb74-a9c6-4ce2-ed49-743b052003de"
      },
      "execution_count": 64,
      "outputs": [
        {
          "output_type": "stream",
          "name": "stdout",
          "text": [
            "1\n",
            "4\n",
            "9\n",
            "16\n",
            "25\n"
          ]
        }
      ]
    },
    {
      "cell_type": "markdown",
      "source": [
        "### Explore at home\n",
        "Just like in `while` loop, we can use `break` and `continue` statements with for loop."
      ],
      "metadata": {
        "id": "kRfk6fSNU-WI"
      }
    },
    {
      "cell_type": "code",
      "source": [
        "# print name of the fruits but stop when x is \"banana\":\n",
        "fruits = [\"apple\", \"grapes\", \"banana\", \"cherry\"]\n",
        "for x in fruits:\n",
        "  print(x)\n",
        "  if x == \"banana\":\n",
        "    break"
      ],
      "metadata": {
        "id": "7wzImsfEUqTg",
        "colab": {
          "base_uri": "https://localhost:8080/"
        },
        "outputId": "aff341df-6c9f-4c65-99a4-51450430627f"
      },
      "execution_count": 65,
      "outputs": [
        {
          "output_type": "stream",
          "name": "stdout",
          "text": [
            "apple\n",
            "grapes\n",
            "banana\n"
          ]
        }
      ]
    },
    {
      "cell_type": "code",
      "source": [
        "# Print all fruits except banana:\n",
        "fruits = [\"apple\", \"grapes\", \"banana\", \"cherry\"]\n",
        "for x in fruits:\n",
        "  if x == \"banana\":\n",
        "    continue\n",
        "  print(x)"
      ],
      "metadata": {
        "id": "fF7RFBZOVZ0v",
        "colab": {
          "base_uri": "https://localhost:8080/"
        },
        "outputId": "98fbf02b-843d-4b75-c7aa-c9947e079b7b"
      },
      "execution_count": 66,
      "outputs": [
        {
          "output_type": "stream",
          "name": "stdout",
          "text": [
            "apple\n",
            "grapes\n",
            "cherry\n"
          ]
        }
      ]
    },
    {
      "cell_type": "markdown",
      "source": [
        "### The `range()` Function\n",
        "To loop through a set of code a specified number of times, we can use the `range()` function,\n",
        "The `range()` function returns a sequence of numbers, starting from 0 by default, and increments by 1 (by default), and ends at a specified number.\n",
        "\n",
        "`range(start=0, end, step=1)`\n",
        "\n",
        "The end value is not included."
      ],
      "metadata": {
        "id": "qge_QDITV7YN"
      }
    },
    {
      "cell_type": "code",
      "source": [
        "x = range(6)\n",
        "print(x)\n",
        "print(type(x))"
      ],
      "metadata": {
        "id": "7qAhAMOXZ426",
        "colab": {
          "base_uri": "https://localhost:8080/"
        },
        "outputId": "cc11b4c2-1c57-4e2a-c01f-82ecd857d3cc"
      },
      "execution_count": 67,
      "outputs": [
        {
          "output_type": "stream",
          "name": "stdout",
          "text": [
            "range(0, 6)\n",
            "<class 'range'>\n"
          ]
        }
      ]
    },
    {
      "cell_type": "code",
      "source": [
        "for x in range(6):\n",
        "  print(x)"
      ],
      "metadata": {
        "id": "lch5jzSSWJS5",
        "colab": {
          "base_uri": "https://localhost:8080/"
        },
        "outputId": "552c544a-af33-42ce-97f8-ede1f32fe029"
      },
      "execution_count": 68,
      "outputs": [
        {
          "output_type": "stream",
          "name": "stdout",
          "text": [
            "0\n",
            "1\n",
            "2\n",
            "3\n",
            "4\n",
            "5\n"
          ]
        }
      ]
    },
    {
      "cell_type": "code",
      "source": [
        "for x in range(2, 6):\n",
        "  print(x)"
      ],
      "metadata": {
        "id": "OjCJuKztWLkA",
        "colab": {
          "base_uri": "https://localhost:8080/"
        },
        "outputId": "7e84bca1-ae1a-4722-e460-cbf77ade06af"
      },
      "execution_count": 69,
      "outputs": [
        {
          "output_type": "stream",
          "name": "stdout",
          "text": [
            "2\n",
            "3\n",
            "4\n",
            "5\n"
          ]
        }
      ]
    },
    {
      "cell_type": "code",
      "source": [
        "for x in range(2, 20, 3):\n",
        "  print(x)"
      ],
      "metadata": {
        "id": "HmNCkSp5WWLL",
        "colab": {
          "base_uri": "https://localhost:8080/"
        },
        "outputId": "2f0067f0-50f2-420b-f52a-1911e6378e53"
      },
      "execution_count": 70,
      "outputs": [
        {
          "output_type": "stream",
          "name": "stdout",
          "text": [
            "2\n",
            "5\n",
            "8\n",
            "11\n",
            "14\n",
            "17\n"
          ]
        }
      ]
    },
    {
      "cell_type": "markdown",
      "source": [
        "### Nested Loops\n",
        "A nested loop is a loop inside a loop.\n",
        "\n",
        "The \"inner loop\" will be executed one time for each iteration of the \"outer loop\":"
      ],
      "metadata": {
        "id": "KlRcSwb3W-ie"
      }
    },
    {
      "cell_type": "code",
      "source": [
        "adj = [\"red\", \"big\", \"tasty\"]\n",
        "fruits = [\"apple\", \"banana\", \"cherry\"]\n",
        "\n",
        "for x in adj:\n",
        "  print(\"adj = \", x)\n",
        "  for y in fruits:\n",
        "    print(\"fruit = \", y)\n",
        "    print(x, y)\n",
        "  print(\"Starting new outer loop...\")"
      ],
      "metadata": {
        "id": "cfmszB0xWYl7",
        "colab": {
          "base_uri": "https://localhost:8080/"
        },
        "outputId": "66d6479b-dab5-49d5-c548-59ab232f70f2"
      },
      "execution_count": 71,
      "outputs": [
        {
          "output_type": "stream",
          "name": "stdout",
          "text": [
            "adj =  red\n",
            "fruit =  apple\n",
            "red apple\n",
            "fruit =  banana\n",
            "red banana\n",
            "fruit =  cherry\n",
            "red cherry\n",
            "Starting new outer loop...\n",
            "adj =  big\n",
            "fruit =  apple\n",
            "big apple\n",
            "fruit =  banana\n",
            "big banana\n",
            "fruit =  cherry\n",
            "big cherry\n",
            "Starting new outer loop...\n",
            "adj =  tasty\n",
            "fruit =  apple\n",
            "tasty apple\n",
            "fruit =  banana\n",
            "tasty banana\n",
            "fruit =  cherry\n",
            "tasty cherry\n",
            "Starting new outer loop...\n"
          ]
        }
      ]
    },
    {
      "cell_type": "markdown",
      "source": [
        "### Explore at home\n",
        "\n",
        "**Print out this using nested for loop**\n",
        "\n",
        "1\n",
        "\n",
        "2 2\n",
        "\n",
        "3 3 3\n",
        "\n",
        "4 4 4 4\n",
        "\n",
        "5 5 5 5 5\n",
        "\n",
        "6 6 6 6 6 6"
      ],
      "metadata": {
        "id": "xXEzopz4ZxCy"
      }
    },
    {
      "cell_type": "code",
      "source": [
        "for i in range(1, 7):\n",
        "  for j in range(i):\n",
        "    print(i, end=' ')\n",
        "  print()"
      ],
      "metadata": {
        "id": "U5XvXGEWXJMQ",
        "colab": {
          "base_uri": "https://localhost:8080/"
        },
        "outputId": "bc0fd986-63ce-4461-c83e-175d8f2740fd"
      },
      "execution_count": 72,
      "outputs": [
        {
          "output_type": "stream",
          "name": "stdout",
          "text": [
            "1 \n",
            "2 2 \n",
            "3 3 3 \n",
            "4 4 4 4 \n",
            "5 5 5 5 5 \n",
            "6 6 6 6 6 6 \n"
          ]
        }
      ]
    },
    {
      "cell_type": "markdown",
      "source": [
        "# Python functions\n",
        "\n",
        "- A function is a block of code which only runs when it is called.\n",
        "\n",
        "- You can pass data, known as parameters, into a function.\n",
        "\n",
        "- A function can return data as a result.\n",
        "\n",
        "**Creating a Function**\n",
        "\n",
        "In Python, a function is defined using the `def` keyword:"
      ],
      "metadata": {
        "id": "RIl83MX0aj21"
      }
    },
    {
      "cell_type": "code",
      "source": [
        "def my_function():\n",
        "  print(\"Hello from my function!\")\n",
        "  print(\"Bye!\")"
      ],
      "metadata": {
        "id": "EWtkfhXzXcFK"
      },
      "execution_count": 73,
      "outputs": []
    },
    {
      "cell_type": "code",
      "source": [
        "# Just creating a function does not print those statements\n",
        "# You need to call the function\n",
        "\n",
        "my_function()"
      ],
      "metadata": {
        "id": "yzQGAxS5X1k_",
        "colab": {
          "base_uri": "https://localhost:8080/"
        },
        "outputId": "b725d67a-630c-48db-84c5-7a5cf685b365"
      },
      "execution_count": 74,
      "outputs": [
        {
          "output_type": "stream",
          "name": "stdout",
          "text": [
            "Hello from my function!\n",
            "Bye!\n"
          ]
        }
      ]
    },
    {
      "cell_type": "markdown",
      "source": [
        "## Arguments\n",
        "Information can be passed into functions as arguments."
      ],
      "metadata": {
        "id": "XsKNbo66YjKA"
      }
    },
    {
      "cell_type": "code",
      "source": [
        "def my_function(name):\n",
        "  print(\"Hello, \" + name + \"!\")\n",
        "\n",
        "\n",
        "my_function(\"John\")\n",
        "my_function(\"Sara\")"
      ],
      "metadata": {
        "id": "31Qa2SYJX6sG",
        "colab": {
          "base_uri": "https://localhost:8080/"
        },
        "outputId": "d6060cd7-89f5-4ac3-812a-e21787574749"
      },
      "execution_count": 75,
      "outputs": [
        {
          "output_type": "stream",
          "name": "stdout",
          "text": [
            "Hello, John!\n",
            "Hello, Sara!\n"
          ]
        }
      ]
    },
    {
      "cell_type": "markdown",
      "source": [
        "You can use as many arguments (or parameters) as you want to define a function. Here is an example with two arguments."
      ],
      "metadata": {
        "id": "sodiJGWIZ8KO"
      }
    },
    {
      "cell_type": "code",
      "source": [
        "def my_function(fname, lname):\n",
        "  print(\"Hello, \" + fname + \" \" + lname + \"!\")\n",
        "\n",
        "my_function(\"John\", \"Doe\")"
      ],
      "metadata": {
        "id": "ljjeOUs_Y6bZ",
        "colab": {
          "base_uri": "https://localhost:8080/"
        },
        "outputId": "4d818554-8fcb-455d-9edd-8186ea4a359b"
      },
      "execution_count": 76,
      "outputs": [
        {
          "output_type": "stream",
          "name": "stdout",
          "text": [
            "Hello, John Doe!\n"
          ]
        }
      ]
    },
    {
      "cell_type": "markdown",
      "source": [
        "**Number of Arguments**\n",
        "\n",
        "A function must be called with the correct number of arguments. Meaning that if your function expects 2 arguments, you have to call the function with 2 arguments, not more, and not less."
      ],
      "metadata": {
        "id": "rBw6CLeVag8o"
      }
    },
    {
      "cell_type": "code",
      "source": [
        "my_function(\"John\")"
      ],
      "metadata": {
        "id": "qgYEA7ywaXJQ",
        "colab": {
          "base_uri": "https://localhost:8080/",
          "height": 139
        },
        "outputId": "e6eb055b-d64c-421b-f2a5-44e541cc9e6b"
      },
      "execution_count": 77,
      "outputs": [
        {
          "output_type": "error",
          "ename": "TypeError",
          "evalue": "my_function() missing 1 required positional argument: 'lname'",
          "traceback": [
            "\u001b[0;31m---------------------------------------------------------------------------\u001b[0m",
            "\u001b[0;31mTypeError\u001b[0m                                 Traceback (most recent call last)",
            "\u001b[0;32m<ipython-input-77-24820d52cf1e>\u001b[0m in \u001b[0;36m<cell line: 0>\u001b[0;34m()\u001b[0m\n\u001b[0;32m----> 1\u001b[0;31m \u001b[0mmy_function\u001b[0m\u001b[0;34m(\u001b[0m\u001b[0;34m\"John\"\u001b[0m\u001b[0;34m)\u001b[0m\u001b[0;34m\u001b[0m\u001b[0;34m\u001b[0m\u001b[0m\n\u001b[0m",
            "\u001b[0;31mTypeError\u001b[0m: my_function() missing 1 required positional argument: 'lname'"
          ]
        }
      ]
    },
    {
      "cell_type": "code",
      "source": [
        "my_function(\"John\", \"Doe\", \"Smith\")"
      ],
      "metadata": {
        "id": "LoXe7eZram7k",
        "colab": {
          "base_uri": "https://localhost:8080/",
          "height": 139
        },
        "outputId": "66ca14fa-1ec0-4814-bbd0-0c1aac4ddc62"
      },
      "execution_count": 78,
      "outputs": [
        {
          "output_type": "error",
          "ename": "TypeError",
          "evalue": "my_function() takes 2 positional arguments but 3 were given",
          "traceback": [
            "\u001b[0;31m---------------------------------------------------------------------------\u001b[0m",
            "\u001b[0;31mTypeError\u001b[0m                                 Traceback (most recent call last)",
            "\u001b[0;32m<ipython-input-78-0c157d04b579>\u001b[0m in \u001b[0;36m<cell line: 0>\u001b[0;34m()\u001b[0m\n\u001b[0;32m----> 1\u001b[0;31m \u001b[0mmy_function\u001b[0m\u001b[0;34m(\u001b[0m\u001b[0;34m\"John\"\u001b[0m\u001b[0;34m,\u001b[0m \u001b[0;34m\"Doe\"\u001b[0m\u001b[0;34m,\u001b[0m \u001b[0;34m\"Smith\"\u001b[0m\u001b[0;34m)\u001b[0m\u001b[0;34m\u001b[0m\u001b[0;34m\u001b[0m\u001b[0m\n\u001b[0m",
            "\u001b[0;31mTypeError\u001b[0m: my_function() takes 2 positional arguments but 3 were given"
          ]
        }
      ]
    },
    {
      "cell_type": "markdown",
      "source": [
        "**Default Parameter Value**\n",
        "\n",
        "The following example shows how to use a default parameter value."
      ],
      "metadata": {
        "id": "4wU4P6Cdaw2b"
      }
    },
    {
      "cell_type": "code",
      "source": [
        "def my_function(country = \"Norway\"):\n",
        "  print(\"I am from \" + country + \"!\")\n",
        "\n",
        "my_function()\n",
        "my_function(\"Sweden\")\n",
        "my_function(\"India\")\n",
        "my_function(\"Brazil\")"
      ],
      "metadata": {
        "id": "Gny-7JD6bDuo",
        "colab": {
          "base_uri": "https://localhost:8080/"
        },
        "outputId": "05350ad1-a903-42d7-b085-4af04d0f759c"
      },
      "execution_count": 79,
      "outputs": [
        {
          "output_type": "stream",
          "name": "stdout",
          "text": [
            "I am from Norway!\n",
            "I am from Sweden!\n",
            "I am from India!\n",
            "I am from Brazil!\n"
          ]
        }
      ]
    },
    {
      "cell_type": "markdown",
      "source": [
        "**Passing a List as an Argument**\n",
        "\n",
        "You can send any data types of argument to a function (string, number, list, dictionary etc.), and it will be treated as the same data type inside the function.\n",
        "\n",
        "E.g. if you send a List as an argument, it will still be a List when it reaches the function:"
      ],
      "metadata": {
        "id": "R9mXGWwbbTYq"
      }
    },
    {
      "cell_type": "code",
      "source": [
        "def my_function(food):\n",
        "  for x in food:\n",
        "    print(x)\n",
        "\n",
        "fruits = [\"apple\", \"banana\", \"cherry\"]\n",
        "\n",
        "my_function(fruits)"
      ],
      "metadata": {
        "id": "ajdMWzb6bH_p",
        "colab": {
          "base_uri": "https://localhost:8080/"
        },
        "outputId": "61ccf798-53d8-4469-f18d-dfb17499ca8c"
      },
      "execution_count": 80,
      "outputs": [
        {
          "output_type": "stream",
          "name": "stdout",
          "text": [
            "apple\n",
            "banana\n",
            "cherry\n"
          ]
        }
      ]
    },
    {
      "cell_type": "markdown",
      "source": [
        "## Return Values\n",
        "\n",
        "To let a function return a value, use the `return` statement:"
      ],
      "metadata": {
        "id": "nrzrJTXpbvNY"
      }
    },
    {
      "cell_type": "code",
      "source": [
        "def my_function(x):\n",
        "  return 5 * x\n",
        "\n",
        "y = my_function(6)\n",
        "print(y)"
      ],
      "metadata": {
        "id": "nJM8rhINbtN4",
        "colab": {
          "base_uri": "https://localhost:8080/"
        },
        "outputId": "ede3808e-f7ac-4d10-e5a7-8baface26730"
      },
      "execution_count": 81,
      "outputs": [
        {
          "output_type": "stream",
          "name": "stdout",
          "text": [
            "30\n"
          ]
        }
      ]
    },
    {
      "cell_type": "markdown",
      "source": [
        "You can use mutiple arguments and define complicated functions. Here are few things to try out."
      ],
      "metadata": {
        "id": "_rtHHW7odVfu"
      }
    },
    {
      "cell_type": "code",
      "source": [
        "# Define a function that will calculate and return x^5 for any value of x\n",
        "\n",
        "def my_function(x):\n",
        "  return x**5\n",
        "\n",
        "print(my_function(3))\n",
        "print(my_function(5))"
      ],
      "metadata": {
        "id": "KZpe43Exb_DG",
        "colab": {
          "base_uri": "https://localhost:8080/"
        },
        "outputId": "d068085a-83db-4ec5-b435-fbb86fdf586b"
      },
      "execution_count": 82,
      "outputs": [
        {
          "output_type": "stream",
          "name": "stdout",
          "text": [
            "243\n",
            "3125\n"
          ]
        }
      ]
    },
    {
      "cell_type": "code",
      "source": [
        "# Define a function that will calculate and return (x+y)^2 for given values of x and y\n",
        "\n",
        "def my_function(x, y):\n",
        "  return (x+y)**2\n",
        "\n",
        "print(my_function(3, 4))\n",
        "print(my_function(5, 6))"
      ],
      "metadata": {
        "id": "bGEjs1Qsd7CJ",
        "colab": {
          "base_uri": "https://localhost:8080/"
        },
        "outputId": "aa43fc16-0c03-414c-88d3-78d767f07c4c"
      },
      "execution_count": 83,
      "outputs": [
        {
          "output_type": "stream",
          "name": "stdout",
          "text": [
            "49\n",
            "121\n"
          ]
        }
      ]
    },
    {
      "cell_type": "code",
      "source": [
        "# Define a function that will calculate and return factorial(x) or x!\n",
        "# x! = 1*2*3*4*5*...*x\n",
        "# For example, 5! = 1*2*3*4*5 = 120\n",
        "# 0! = 1\n",
        "\n",
        "def factorial(x):\n",
        "  if x == 0:\n",
        "    return 1\n",
        "  fact = 1\n",
        "  for i in range(1, x+1):\n",
        "    fact = fact * i\n",
        "\n",
        "  return(fact)\n",
        "\n",
        "print(factorial(5))"
      ],
      "metadata": {
        "id": "UMuDb5QBeD70",
        "colab": {
          "base_uri": "https://localhost:8080/"
        },
        "outputId": "26cea35b-fdb3-4950-af5f-ace11786b0eb"
      },
      "execution_count": 84,
      "outputs": [
        {
          "output_type": "stream",
          "name": "stdout",
          "text": [
            "120\n"
          ]
        }
      ]
    },
    {
      "cell_type": "markdown",
      "source": [
        "## Recursion\n",
        "\n",
        "Python also accepts function recursion, which means a defined function can call itself.\n",
        "\n",
        "Recursion is a common mathematical and programming concept. It means that a function calls itself. This has the benefit of meaning that you can loop through data to reach a result.\n",
        "\n",
        "Recursion must have a stopping criterion, i.e., the function must stop calling itself and return some value when a certain condition is reached."
      ],
      "metadata": {
        "id": "hyRhSbbFe6P6"
      }
    },
    {
      "cell_type": "code",
      "source": [
        "# Let us try to calculate the factorial again\n",
        "# x! = x * (x-1)!\n",
        "# 5! = 5 * 4! = 5 * 4 * 3! = 5 * 4 * 3 * 2! = 5 * 4 * 3 * 2 * 1! = 5 * 4 * 3 * 2 * 1 = 120\n",
        "\n",
        "def factorial(x):\n",
        "  if x == 0:\n",
        "    return 1\n",
        "  if x == 1:\n",
        "    return 1\n",
        "  else:\n",
        "    return x * factorial(x-1)\n",
        "\n",
        "print(factorial(5))\n",
        "print(factorial(10))"
      ],
      "metadata": {
        "id": "tZfoSyNve9K_",
        "colab": {
          "base_uri": "https://localhost:8080/"
        },
        "outputId": "93b0469d-5c0d-4232-eb8d-21791221557f"
      },
      "execution_count": 85,
      "outputs": [
        {
          "output_type": "stream",
          "name": "stdout",
          "text": [
            "120\n",
            "3628800\n"
          ]
        }
      ]
    },
    {
      "cell_type": "code",
      "source": [
        "# Fibonacci Sequence\n",
        "# The Fibonacci Sequence is a series of numbers:\n",
        "# 0, 1, 1, 2, 3, 5, 8, 13, 21, ...\n",
        "# Every next number is found by adding up the two numbers before it.\n",
        "\n",
        "# The first two numbers are 0 and 1.\n",
        "# The next number in the sequence is the sum of the previous two numbers.\n",
        "\n",
        "# Write a function that will return the nth Fibonacci number\n",
        "\n",
        "def fibonacci(n):\n",
        "  if n == 1:\n",
        "    return 0\n",
        "  elif n == 2:\n",
        "    return 1\n",
        "  else:\n",
        "    return fibonacci(n-1) + fibonacci(n-2)\n",
        "\n",
        "print(fibonacci(10))"
      ],
      "metadata": {
        "id": "CRBsnik1hIbS",
        "colab": {
          "base_uri": "https://localhost:8080/"
        },
        "outputId": "1089c040-6b7c-40f3-a6ea-f7aaf8b9674e"
      },
      "execution_count": 86,
      "outputs": [
        {
          "output_type": "stream",
          "name": "stdout",
          "text": [
            "34\n"
          ]
        }
      ]
    },
    {
      "cell_type": "markdown",
      "source": [
        "#Exercises"
      ],
      "metadata": {
        "id": "mgCKDJtNNSym"
      }
    },
    {
      "cell_type": "code",
      "source": [
        "# Palindrome Checker\n",
        "# Write a function that checks if a word is a palindrome (same forward and backward), ignoring spaces and case.\n",
        "\n",
        "def palindrom_checker(word):\n",
        "  word_length = len(word)\n",
        "  for i in range(word_length//2):\n",
        "    if word[i] != word[word_length-1-i]:\n",
        "      print(\"The word is not a palindrome\")\n",
        "  print(\"The word is a palindrome\")\n",
        "\n",
        "palindrom_checker(\"racecar\")"
      ],
      "metadata": {
        "id": "kUxIPvp5n956",
        "colab": {
          "base_uri": "https://localhost:8080/"
        },
        "outputId": "76e6b8fc-5f91-4581-dd68-c69488860e66"
      },
      "execution_count": 87,
      "outputs": [
        {
          "output_type": "stream",
          "name": "stdout",
          "text": [
            "The word is a palindrome\n"
          ]
        }
      ]
    },
    {
      "cell_type": "code",
      "source": [
        "# Vowel Counter\n",
        "# Write a function that takes a word and counts how many vowels (a, e, i, o, u) it contains.\n",
        "\n",
        "def vowel_counter(word):\n",
        "  n_vowels = 0\n",
        "  for i in range(len(word)):\n",
        "    if word[i] in ['a', 'e', 'i', 'o', 'u']:\n",
        "      n_vowels += 1\n",
        "  return n_vowels\n",
        "\n",
        "print(vowel_counter(\"hello\"))"
      ],
      "metadata": {
        "id": "MO8fAFTYOa4j",
        "colab": {
          "base_uri": "https://localhost:8080/"
        },
        "outputId": "3fdb7b7b-4ad7-4cb0-a1d7-d3b39ed625fc"
      },
      "execution_count": 91,
      "outputs": [
        {
          "output_type": "stream",
          "name": "stdout",
          "text": [
            "2\n"
          ]
        }
      ]
    },
    {
      "cell_type": "code",
      "source": [
        "# Word Reverser\n",
        "# Write a function that takes a sentence and returns the sentence with each word reversed (but the order of words remains unchanged). Words are separated by whitespace \" \".\n",
        "\n",
        "def word_reverser(sentence):\n",
        "  words = sentence.split()\n",
        "  reversed_sentence = \"\"\n",
        "  for word in words:\n",
        "    reversed_sentence += word[::-1]\n",
        "    reversed_sentence += \" \"\n",
        "  return reversed_sentence\n",
        "\n",
        "print(word_reverser(\"hello world\"))"
      ],
      "metadata": {
        "id": "jiqUc4n2Onq8",
        "colab": {
          "base_uri": "https://localhost:8080/"
        },
        "outputId": "196f79d4-14ae-4a59-a2ee-6184de2e3dbb"
      },
      "execution_count": 95,
      "outputs": [
        {
          "output_type": "stream",
          "name": "stdout",
          "text": [
            "olleh dlrow \n"
          ]
        }
      ]
    },
    {
      "cell_type": "code",
      "source": [
        "# Sum of Elements\n",
        "# Write a function that takes a list of numbers and returns the sum.\n",
        "\n",
        "def sum_of_elements(a):\n",
        "  sum = 0\n",
        "  for element in a:\n",
        "    sum += element\n",
        "  return sum\n",
        "\n",
        "print(sum_of_elements([1, 2, 3, 4, 5]))"
      ],
      "metadata": {
        "id": "XL6QCSRhO3Dc",
        "colab": {
          "base_uri": "https://localhost:8080/"
        },
        "outputId": "ffaddc20-c28d-459b-ffb6-12ea0e0c4cc0"
      },
      "execution_count": 97,
      "outputs": [
        {
          "output_type": "stream",
          "name": "stdout",
          "text": [
            "15\n"
          ]
        }
      ]
    },
    {
      "cell_type": "code",
      "source": [
        "# List Reverser (without using `reverse()` or slicing)\n",
        "# Write a loop that reverses a list manually.\n",
        "\n",
        "a = [1, 2, 3, 4, 5]\n",
        "for i in range(len(a)//2):\n",
        "  temp = a[i]\n",
        "  a[i] = a[len(a)-1-i]\n",
        "  a[len(a)-1-i] = temp\n",
        "\n",
        "print(a)"
      ],
      "metadata": {
        "id": "PJB0gb33PL2l",
        "colab": {
          "base_uri": "https://localhost:8080/"
        },
        "outputId": "81241ac0-cb7f-486a-d6ef-76f867c42b5b"
      },
      "execution_count": 112,
      "outputs": [
        {
          "output_type": "stream",
          "name": "stdout",
          "text": [
            "[5, 4, 3, 2, 1]\n"
          ]
        }
      ]
    },
    {
      "cell_type": "code",
      "source": [
        "# Remove Duplicates\n",
        "# Write a function that removes duplicates from a list and returns the new list.\n",
        "\n",
        "def remove_duplicates(a):\n",
        "  new_list = []\n",
        "  for element in a:\n",
        "    if element not in new_list:\n",
        "      new_list.append(element)\n",
        "  return new_list\n",
        "\n",
        "a = [1, 9, 3, 1, 7, 2, 5, 1, 7, 9, 4]\n",
        "print(remove_duplicates(a))"
      ],
      "metadata": {
        "id": "dDTc-oM-QA0L",
        "colab": {
          "base_uri": "https://localhost:8080/"
        },
        "outputId": "c7258990-0e36-4a01-81f9-10731c9c337d"
      },
      "execution_count": 111,
      "outputs": [
        {
          "output_type": "stream",
          "name": "stdout",
          "text": [
            "[1, 9, 3, 7, 2, 5, 4]\n"
          ]
        }
      ]
    },
    {
      "cell_type": "code",
      "source": [
        "# Find Maximum and Minimum\n",
        "# Without using max() or min(), write functions to find the maximum and minimum number in a list.\n",
        "\n",
        "def find_max(a):\n",
        "  t = a[0]\n",
        "  for element in a:\n",
        "    if element > t:\n",
        "      t = element\n",
        "  return t\n",
        "\n",
        "def find_min(a):\n",
        "  t = a[0]\n",
        "  for element in a:\n",
        "    if element < t:\n",
        "      t = element\n",
        "  return t\n",
        "\n",
        "a = [5, 1, 7, 2, 0, -3, 11, 6, 5]\n",
        "print(\"Maximum number= \", find_max(a))\n",
        "print(\"Minimum number = \", find_min(a))"
      ],
      "metadata": {
        "id": "UE-Os21BQPHm",
        "colab": {
          "base_uri": "https://localhost:8080/"
        },
        "outputId": "bf379473-4d41-4be3-f83e-751f6e6268d0"
      },
      "execution_count": 106,
      "outputs": [
        {
          "output_type": "stream",
          "name": "stdout",
          "text": [
            "Maximum number=  11\n",
            "Minimum number =  -3\n"
          ]
        }
      ]
    },
    {
      "cell_type": "code",
      "source": [
        "# List Comprehension Practice\n",
        "# Given a list of numbers, return a list of squares of only the even numbers using list comprehension.\n",
        "\n",
        "def square_even(a):\n",
        "  return [x**2 for x in a if x%2 == 0]\n",
        "\n",
        "print(square_even([1, 2, 3, 4, 5, 6, 7, 8, 9, 10]))"
      ],
      "metadata": {
        "id": "rXzkbwseQnX2",
        "colab": {
          "base_uri": "https://localhost:8080/"
        },
        "outputId": "ee85aa54-9fed-4b05-9823-141d61962910"
      },
      "execution_count": 105,
      "outputs": [
        {
          "output_type": "stream",
          "name": "stdout",
          "text": [
            "[4, 16, 36, 64, 100]\n"
          ]
        }
      ]
    },
    {
      "cell_type": "code",
      "source": [
        "# FizzBuzz\n",
        "# Print numbers from 1 to 30. For multiples of 3, also print \"Fizz\", for multiples of 5 also print \"Buzz\", and for multiples of both print \"FizzBuzz\".\n",
        "\n",
        "for i in range(1, 31):\n",
        "  if i%3 == 0 and i%5 == 0:\n",
        "    print(i, \"FizzBuzz\")\n",
        "  elif i%3 == 0:\n",
        "    print(i, \"Fizz\")\n",
        "  elif i%5 == 0:\n",
        "    print(i, \"Buzz\")"
      ],
      "metadata": {
        "id": "atgr0MvFQ0ck",
        "colab": {
          "base_uri": "https://localhost:8080/"
        },
        "outputId": "b513f406-70d2-4c31-bc93-d7bd48b927a1"
      },
      "execution_count": 108,
      "outputs": [
        {
          "output_type": "stream",
          "name": "stdout",
          "text": [
            "3 Fizz\n",
            "5 Buzz\n",
            "6 Fizz\n",
            "9 Fizz\n",
            "10 Buzz\n",
            "12 Fizz\n",
            "15 FizzBuzz\n",
            "18 Fizz\n",
            "20 Buzz\n",
            "21 Fizz\n",
            "24 Fizz\n",
            "25 Buzz\n",
            "27 Fizz\n",
            "30 FizzBuzz\n"
          ]
        }
      ]
    },
    {
      "cell_type": "code",
      "source": [
        "# Prime Number Checker\n",
        "# Write a function that checks whether a number is prime or not.\n",
        "\n",
        "def is_prime(n):\n",
        "  if n == 1:\n",
        "    return False\n",
        "  if n == 2:\n",
        "    return True\n",
        "\n",
        "  for i in range(2, n//2):\n",
        "    if n % i == 0:\n",
        "      return False\n",
        "  return True\n",
        "\n",
        "print(is_prime(27))"
      ],
      "metadata": {
        "id": "rJ__NX-URGB6",
        "colab": {
          "base_uri": "https://localhost:8080/"
        },
        "outputId": "a2df445d-b3fd-48db-9094-8d1da2ba7add"
      },
      "execution_count": 104,
      "outputs": [
        {
          "output_type": "stream",
          "name": "stdout",
          "text": [
            "False\n"
          ]
        }
      ]
    },
    {
      "cell_type": "code",
      "source": [
        "# Write a function that converts temperature from Fahrenheit to Celcius and vice-versa\n",
        "# Use the formula below where `C` is Celcius temperatue and `F` is termperature in Fahrenheit\n",
        "# C/5 = (F - 32)/9\n",
        "\n",
        "def convert_temp(temp, unit=\"F\"):\n",
        "  if unit == \"F\":\n",
        "    return (temp - 32) * 5/9\n",
        "  if unit == \"C\":\n",
        "    return (temp * 9/5) + 32\n",
        "\n",
        "print(convert_temp(0, \"C\"))\n",
        "print(convert_temp(32, \"F\"))"
      ],
      "metadata": {
        "id": "Q_gClMiWZEsX",
        "colab": {
          "base_uri": "https://localhost:8080/"
        },
        "outputId": "0c176ef6-0c61-47f3-a112-aac93efe377a"
      },
      "execution_count": 100,
      "outputs": [
        {
          "output_type": "stream",
          "name": "stdout",
          "text": [
            "32.0\n",
            "0.0\n"
          ]
        }
      ]
    },
    {
      "cell_type": "code",
      "source": [
        "# Find Common Elements\n",
        "# Write a function that returns the common elements between two given lists.\n",
        "\n",
        "def find_common(a, b):\n",
        "  for element in a:\n",
        "    if element in b:\n",
        "      print(element)\n",
        "\n",
        "a = [1, 2, 3, 4, 5]\n",
        "b = [3, 4, 5, 6, 7]\n",
        "find_common(a, b)"
      ],
      "metadata": {
        "id": "KYAE5WQaRL5o",
        "colab": {
          "base_uri": "https://localhost:8080/"
        },
        "outputId": "85e501db-ded7-4d51-d752-673951824710"
      },
      "execution_count": 99,
      "outputs": [
        {
          "output_type": "stream",
          "name": "stdout",
          "text": [
            "3\n",
            "4\n",
            "5\n"
          ]
        }
      ]
    },
    {
      "cell_type": "code",
      "source": [
        "# Simple Calculator\n",
        "# Write a function calculator(a, b, op) that performs basic arithmetic operations (+, -, *, /) based on the operator passed.\n",
        "\n",
        "def calculator(a, b, op):\n",
        "  if op == '+':\n",
        "    return a + b\n",
        "  if op == '-':\n",
        "    return a - b\n",
        "  if op == '*':\n",
        "    return a * b\n",
        "  if op == '/':\n",
        "    return a / b\n",
        "\n",
        "print(calculator(5, 3, '+'))\n",
        "print(calculator(5, 3, '-'))\n",
        "print(calculator(5, 3, '*'))\n",
        "print(calculator(5, 3, '/'))"
      ],
      "metadata": {
        "id": "kKQikTM8RfVC",
        "colab": {
          "base_uri": "https://localhost:8080/"
        },
        "outputId": "31ecb98f-8fbe-4481-ad74-5580c4ca4195"
      },
      "execution_count": 98,
      "outputs": [
        {
          "output_type": "stream",
          "name": "stdout",
          "text": [
            "8\n",
            "2\n",
            "15\n",
            "1.6666666666666667\n"
          ]
        }
      ]
    },
    {
      "cell_type": "code",
      "source": [
        "# Manual List Sort (Ascending Order)\n",
        "# Write a Python function that takes a list of numbers as input and returns a new list with the numbers sorted in ascending order.\n",
        "# Do not use the built-in sort() method or the sorted() function.\n",
        "# You may implement any sorting algorithm of your choice (e.g., selection sort, bubble sort, etc.; ask google or chatgpt).\n",
        "\n",
        "def sort_list(a):\n",
        "  for i in range(len(a)):\n",
        "    for j in range(i+1, len(a)):\n",
        "      if a[i] > a[j]:\n",
        "        temp = a[i]\n",
        "        a[i] = a[j]\n",
        "        a[j] = temp\n",
        "  return a\n",
        "\n",
        "print(sort_list([5, 2, 8, 1, 9]))"
      ],
      "metadata": {
        "id": "GG7sc50OS_Dv",
        "colab": {
          "base_uri": "https://localhost:8080/"
        },
        "outputId": "43dc84c9-dcd3-4787-8933-8db6b2256c78"
      },
      "execution_count": 115,
      "outputs": [
        {
          "output_type": "stream",
          "name": "stdout",
          "text": [
            "[1, 2, 5, 8, 9]\n"
          ]
        }
      ]
    },
    {
      "cell_type": "markdown",
      "source": [
        "## Bouncing Ball\n",
        "\n",
        "You drop a bouncing ball from a height of 1 meter. Each time the ball bounces, it reaches only 70% of the height of the previous bounce — that is, the bounce coefficient is 0.7. When the height of a bounce falls below 0.01 meters, the ball is considered to have stopped bouncing. Calculate the total distance the ball travels before it comes to rest."
      ],
      "metadata": {
        "id": "m1396KiNS39N"
      }
    },
    {
      "cell_type": "code",
      "source": [
        "# Write your code here\n",
        "# Use `while` loop\n",
        "\n"
      ],
      "metadata": {
        "id": "-NRMROV2NVGK"
      },
      "execution_count": null,
      "outputs": []
    },
    {
      "cell_type": "markdown",
      "source": [
        "Now for the same problem, write a function that takes the initial height and the bouncing coefficient as arguments and return the total distance travelled by the ball.\n",
        "\n",
        "Using the function, calculate the distance for initial height of 5 meters and bouncing coefficient of 0.85."
      ],
      "metadata": {
        "id": "s7cVACH5nJUd"
      }
    },
    {
      "cell_type": "code",
      "source": [
        "# Write your code here"
      ],
      "metadata": {
        "id": "adx5-zDrn1hm"
      },
      "execution_count": null,
      "outputs": []
    }
  ]
}
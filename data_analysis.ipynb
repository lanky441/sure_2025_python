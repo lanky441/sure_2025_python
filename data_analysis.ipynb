{
  "nbformat": 4,
  "nbformat_minor": 0,
  "metadata": {
    "colab": {
      "provenance": [],
      "mount_file_id": "1rP6hStyIxf_iGghHCo0iYyS51a_HIuWf",
      "authorship_tag": "ABX9TyMFtMuYQWJGYvjDmifSfxks",
      "include_colab_link": true
    },
    "kernelspec": {
      "name": "python3",
      "display_name": "Python 3"
    },
    "language_info": {
      "name": "python"
    }
  },
  "cells": [
    {
      "cell_type": "markdown",
      "metadata": {
        "id": "view-in-github",
        "colab_type": "text"
      },
      "source": [
        "<a href=\"https://colab.research.google.com/github/lanky441/sure_2025_python/blob/main/data_analysis.ipynb\" target=\"_parent\"><img src=\"https://colab.research.google.com/assets/colab-badge.svg\" alt=\"Open In Colab\"/></a>"
      ]
    },
    {
      "cell_type": "code",
      "execution_count": null,
      "metadata": {
        "id": "t8gTT0u1QZ-T"
      },
      "outputs": [],
      "source": [
        "# importing numpy and matplotlib.pyplot\n",
        "import numpy as np\n",
        "import matplotlib.pyplot as plt"
      ]
    },
    {
      "cell_type": "code",
      "source": [
        "# Copying some data from github\n",
        "!git clone https://github.com/lanky441/sure_2025_python.git"
      ],
      "metadata": {
        "id": "R73dRANk9aB5"
      },
      "execution_count": null,
      "outputs": []
    },
    {
      "cell_type": "markdown",
      "source": [
        "## How to read data from a file saved in your machine"
      ],
      "metadata": {
        "id": "uPAx4Y2o5gOQ"
      }
    },
    {
      "cell_type": "code",
      "source": [
        "data = np.genfromtxt(\"sure_2025_python/V_I.txt\") #np.genfromtxt(\"path/to/file\")\n",
        "print(type(data))"
      ],
      "metadata": {
        "id": "OT7Yjizo5fYs"
      },
      "execution_count": null,
      "outputs": []
    },
    {
      "cell_type": "code",
      "source": [
        "print(data.shape)\n",
        "print(data)"
      ],
      "metadata": {
        "id": "81d1TB9K3gR3"
      },
      "execution_count": null,
      "outputs": []
    },
    {
      "cell_type": "code",
      "source": [
        "print(data[0])\n",
        "print(data[1])"
      ],
      "metadata": {
        "id": "igcKnAaJ3khw"
      },
      "execution_count": null,
      "outputs": []
    },
    {
      "cell_type": "code",
      "source": [
        "print(data.T[0])\n",
        "print(data.transpose()[0])"
      ],
      "metadata": {
        "id": "B0V6YZqM3ntJ"
      },
      "execution_count": null,
      "outputs": []
    },
    {
      "cell_type": "code",
      "source": [
        "data = data.transpose()\n",
        "print(data.shape)\n",
        "print(data)"
      ],
      "metadata": {
        "id": "VzhrZTIm54p4"
      },
      "execution_count": null,
      "outputs": []
    },
    {
      "cell_type": "markdown",
      "source": [
        "Let's read Volatges (V), currents (I), and uncertainty in current"
      ],
      "metadata": {
        "id": "daaMs3RcPfds"
      }
    },
    {
      "cell_type": "code",
      "source": [
        "Vs = data[0]\n",
        "Is = data[1]\n",
        "Ierr = data[2]\n",
        "print(Vs)\n",
        "print(Is)\n",
        "print(Ierr)"
      ],
      "metadata": {
        "id": "B2y--gcS6FTq"
      },
      "execution_count": null,
      "outputs": []
    },
    {
      "cell_type": "markdown",
      "source": [
        "## Let us plot them\n",
        "`V` on the x-axis and `I` on the y-axis"
      ],
      "metadata": {
        "id": "Rzh1-vTW6Y0X"
      }
    },
    {
      "cell_type": "code",
      "source": [
        "plt.scatter(Vs, Is)\n",
        "plt.ylabel('Current (Amp)')\n",
        "plt.xlabel('Voltage (Volt)')\n",
        "plt.show()"
      ],
      "metadata": {
        "id": "ZOpsE3EA6Lpr"
      },
      "execution_count": null,
      "outputs": []
    },
    {
      "cell_type": "markdown",
      "source": [
        "## How do we save the plot in our machine"
      ],
      "metadata": {
        "id": "DF08FnS-6pGV"
      }
    },
    {
      "cell_type": "code",
      "source": [
        "plt.scatter(Vs, Is)\n",
        "plt.ylabel('Current (Amp)')\n",
        "plt.xlabel('Voltage (Volt)')\n",
        "\n",
        "plt.savefig('V_I.png') # Remember to save before plt.show()\n",
        "\n",
        "plt.show()"
      ],
      "metadata": {
        "id": "DhUBKU8q6vNs"
      },
      "execution_count": null,
      "outputs": []
    },
    {
      "cell_type": "markdown",
      "source": [
        "## How do we plot with the errorbars?"
      ],
      "metadata": {
        "id": "lInpOrPQ-_Wl"
      }
    },
    {
      "cell_type": "code",
      "source": [
        "plt.errorbar(Vs, Is, yerr=Ierr)\n",
        "plt.ylabel('Current (Amp)')\n",
        "plt.xlabel('Voltage (Volt)')\n",
        "plt.show()"
      ],
      "metadata": {
        "id": "nb9sqon86vQH"
      },
      "execution_count": null,
      "outputs": []
    },
    {
      "cell_type": "markdown",
      "source": [
        "## Let us customize it"
      ],
      "metadata": {
        "id": "QeBlf13k_MzO"
      }
    },
    {
      "cell_type": "code",
      "source": [
        "plt.errorbar(Vs, Is, yerr=Ierr, fmt='o b', capsize=3) # fmt = '[marker][line][color]'\n",
        "plt.ylabel('Current (Amp)')\n",
        "plt.xlabel('Voltage (Volt)')\n",
        "plt.savefig('V_I_error.png')\n",
        "plt.show()"
      ],
      "metadata": {
        "id": "3985tdVx6vSi"
      },
      "execution_count": null,
      "outputs": []
    },
    {
      "cell_type": "markdown",
      "source": [
        "## Let us read a different type of file\n",
        "\n",
        "Althogth `pandas` is better for reading `csv` files, we can still read it using `numpy`."
      ],
      "metadata": {
        "id": "gHi_VhSyAno3"
      }
    },
    {
      "cell_type": "code",
      "source": [
        "data = np.genfromtxt('sample_data/california_housing_test.csv', delimiter=',') # delimiter -> what separates different columns\n",
        "# For a csv file, the delimiter is `,`\n",
        "print(data.shape)\n",
        "print(data)"
      ],
      "metadata": {
        "id": "9GYXVqSD6vU6"
      },
      "execution_count": null,
      "outputs": []
    },
    {
      "cell_type": "code",
      "source": [
        "csv_data = np.genfromtxt('sample_data/california_housing_test.csv', delimiter=',', skip_header=1) # skip_header -> number of rows to skip\n",
        "print(csv_data.shape)\n",
        "print(csv_data)"
      ],
      "metadata": {
        "id": "Bt8yR5Li6vXP"
      },
      "execution_count": null,
      "outputs": []
    },
    {
      "cell_type": "code",
      "source": [
        "data_columns = csv_data.transpose()\n",
        "print(data_columns.shape)"
      ],
      "metadata": {
        "id": "5lqSglqtCBny"
      },
      "execution_count": null,
      "outputs": []
    },
    {
      "cell_type": "code",
      "source": [
        "plt.scatter(data_columns[0], data_columns[1])\n",
        "plt.xlabel('Longitude (deg)')\n",
        "plt.ylabel('Latitude (deg)')\n",
        "plt.show()"
      ],
      "metadata": {
        "id": "qS7UiPss6vZk"
      },
      "execution_count": null,
      "outputs": []
    },
    {
      "cell_type": "markdown",
      "source": [
        "# Now try with pandas"
      ],
      "metadata": {
        "id": "JAbHPran-hPT"
      }
    },
    {
      "cell_type": "code",
      "source": [
        "import pandas as pd\n",
        "csv_file = pd.read_csv('sample_data/california_housing_test.csv')\n",
        "print(csv_file.shape)\n",
        "print(csv_file)"
      ],
      "metadata": {
        "id": "4DNTmDWR-nDv"
      },
      "execution_count": null,
      "outputs": []
    },
    {
      "cell_type": "code",
      "source": [
        "csv_file.columns"
      ],
      "metadata": {
        "id": "ibwcsdYr_93n"
      },
      "execution_count": null,
      "outputs": []
    },
    {
      "cell_type": "code",
      "source": [
        "plt.scatter(csv_file['latitude'], csv_file['longitude'])\n",
        "plt.xlabel('Longitude (deg)')\n",
        "plt.ylabel('Latitude (deg)')\n",
        "plt.show()"
      ],
      "metadata": {
        "id": "OUVYk0JS_alK"
      },
      "execution_count": null,
      "outputs": []
    },
    {
      "cell_type": "code",
      "source": [
        "# plot a histogram of the median age\n",
        "plt.hist(csv_file['housing_median_age'])\n",
        "plt.xlabel('Median Age (years)')\n",
        "plt.ylabel('Number of Houses')\n",
        "plt.show()"
      ],
      "metadata": {
        "id": "ukxbI5OPATaj"
      },
      "execution_count": null,
      "outputs": []
    },
    {
      "cell_type": "code",
      "source": [
        "# We can use color of points to show more information\n",
        "plt.scatter(csv_file['latitude'], csv_file['longitude'], c=csv_file['median_house_value'])\n",
        "plt.xlabel('Longitude (deg)')\n",
        "plt.ylabel('Latitude (deg)')\n",
        "plt.colorbar(label='Median House Value')\n",
        "plt.show()"
      ],
      "metadata": {
        "id": "s2fFa9wVAp5O"
      },
      "execution_count": null,
      "outputs": []
    },
    {
      "cell_type": "code",
      "source": [
        "# Exercise\n",
        "# Plot `meadin_income` (using colorbar) as a function of longitude and latitude\n"
      ],
      "metadata": {
        "id": "6GYiRFTBB2tV"
      },
      "execution_count": null,
      "outputs": []
    },
    {
      "cell_type": "markdown",
      "source": [
        "# Mounting your google drive on google colab\n",
        "Explore at home if you want"
      ],
      "metadata": {
        "id": "R6NSV4vFDfPq"
      }
    },
    {
      "cell_type": "code",
      "source": [
        "# mount google drive\n",
        "from google.colab import drive\n",
        "drive.mount('/content/drive')"
      ],
      "metadata": {
        "id": "6N6Z6-h5DmCW"
      },
      "execution_count": null,
      "outputs": []
    },
    {
      "cell_type": "markdown",
      "source": [
        "# Fitting data to a model\n",
        "\n",
        "\n",
        "### Ohm's law\n",
        "`V = I R` or `I = V/R`\n",
        "\n",
        "`V`: Voltage\n",
        "\n",
        "`I`: Current\n",
        "\n",
        "`R`: Resistance\n"
      ],
      "metadata": {
        "id": "gZnInbOJF-Mh"
      }
    },
    {
      "cell_type": "code",
      "source": [
        "# Let us first plot them\n",
        "data = np.genfromtxt(\"sure_2025_python/V_I.txt\").transpose()\n",
        "Vs = data[0]\n",
        "Is = data[1]\n",
        "\n",
        "# Usually it is recommended to plot the free variable on the x-axis\n",
        "\n",
        "plt.scatter(Vs, Is)\n",
        "plt.ylabel('Current (Amp)')\n",
        "plt.xlabel('Voltage (Volt)')\n",
        "plt.show()"
      ],
      "metadata": {
        "id": "Irx2Kit5F-dg"
      },
      "execution_count": null,
      "outputs": []
    },
    {
      "cell_type": "code",
      "source": [
        "# Now, we can fit `V = IR` funtion to those points to calculate the average `R`\n",
        "# For that, we first need to create a function\n",
        "# The first argument of the function should be the independent variable\n",
        "# It should be followed by the paramter(s) to be fitted\n",
        "\n",
        "def get_I(V, R):\n",
        "    return V/R"
      ],
      "metadata": {
        "id": "HwjX7c8PF-f8"
      },
      "execution_count": null,
      "outputs": []
    },
    {
      "cell_type": "markdown",
      "source": [
        "## Now, we will use `scipy.optimize.curve_fit` to fit our model (function) to the data"
      ],
      "metadata": {
        "id": "aUfyM6rbDf7r"
      }
    },
    {
      "cell_type": "code",
      "source": [
        "from scipy.optimize import curve_fit\n",
        "# curve_fit(function, xdata, ydata, sigma=yerror)\n",
        "# the first argument to the function is treated as xdata, and all the other argumnet parameters are fitted for\n",
        "popt, pcov = curve_fit(get_I, Vs, Is, sigma=Ierr) # popt -> optimized parameters, pcov -> covariance matrix\n",
        "print(popt)"
      ],
      "metadata": {
        "id": "2oCVuNtcF-lC"
      },
      "execution_count": null,
      "outputs": []
    },
    {
      "cell_type": "code",
      "source": [
        "# You can also calculate the uncertainty of the model parameters\n",
        "perr = np.sqrt(np.diag(pcov))\n",
        "print(perr)"
      ],
      "metadata": {
        "id": "-RlP7RD3JOop"
      },
      "execution_count": null,
      "outputs": []
    },
    {
      "cell_type": "code",
      "source": [
        "resistance = popt[0]\n",
        "print(resistance)"
      ],
      "metadata": {
        "id": "dLnoU0drQc6N"
      },
      "execution_count": null,
      "outputs": []
    },
    {
      "cell_type": "code",
      "source": [
        "v_sample = np.linspace(0, 10, 30)\n",
        "i_sample = get_I(v_sample, resistance)\n",
        "\n",
        "plt.errorbar(Vs, Is, yerr=Ierr, fmt='o b', capsize=3, label='Data')\n",
        "plt.plot(v_sample, i_sample, 'r', label='Fit')\n",
        "plt.legend()\n",
        "plt.ylabel('Current (Amp)')\n",
        "plt.xlabel('Voltage (Volt)')\n",
        "plt.title(f\"Resistance = {resistance:.4f} +/- {perr[0]:.4f} Ohm\")\n",
        "plt.savefig('V_I_fit.png')\n",
        "plt.show()"
      ],
      "metadata": {
        "id": "YM-jUf4UFf4A"
      },
      "execution_count": null,
      "outputs": []
    },
    {
      "cell_type": "markdown",
      "source": [
        "## F-string"
      ],
      "metadata": {
        "id": "XZKIcJ0GFhuU"
      }
    },
    {
      "cell_type": "code",
      "source": [
        "a = 1\n",
        "b = 2\n",
        "print(f\"a = {a}, b = {b}\")"
      ],
      "metadata": {
        "id": "JAu0lahmFg0I"
      },
      "execution_count": null,
      "outputs": []
    },
    {
      "cell_type": "code",
      "source": [
        "a = np.pi\n",
        "b = 0.00000251564\n",
        "print(f\"a = {a:.2f}, b = {b:.4e}\")"
      ],
      "metadata": {
        "id": "OXw3ySzFFpNi"
      },
      "execution_count": null,
      "outputs": []
    },
    {
      "cell_type": "markdown",
      "source": [
        "## Let us take a look at another example\n",
        " You are given `xdata` and `ydata`. You need to fit a straight line and find the best fit value of `slope (m)` and `interception (c)`.\n",
        "\n",
        " `y = m*x + c`"
      ],
      "metadata": {
        "id": "SMtMV_9KF_56"
      }
    },
    {
      "cell_type": "code",
      "source": [
        "m = 2\n",
        "c = 1\n",
        "\n",
        "x = np.linspace(0, 10, 30)\n",
        "y = m * x + c + np.random.normal(0, 0.5, 30)\n",
        "errs = np.ones(30) * 0.5\n",
        "\n",
        "plt.errorbar(x, y, yerr=errs, fmt='o b', capsize=3)\n",
        "plt.xlabel('x')\n",
        "plt.ylabel('y')\n",
        "plt.show()"
      ],
      "metadata": {
        "id": "uNyhC8fQG5H-"
      },
      "execution_count": null,
      "outputs": []
    },
    {
      "cell_type": "code",
      "source": [
        "# First, define the function\n",
        "def get_y(x, m, c):\n",
        "    return m * x + c"
      ],
      "metadata": {
        "id": "b6GC7FM7HRO2"
      },
      "execution_count": null,
      "outputs": []
    },
    {
      "cell_type": "code",
      "source": [
        "popt, pcov = curve_fit(get_y, x, y)\n",
        "print(popt)"
      ],
      "metadata": {
        "id": "p-IpVvLNHVWa"
      },
      "execution_count": null,
      "outputs": []
    },
    {
      "cell_type": "code",
      "source": [
        "# Model parameter uncertainties\n",
        "perr = np.sqrt(np.diag(pcov))\n",
        "print(perr)"
      ],
      "metadata": {
        "id": "xeDwQrbwJixC"
      },
      "execution_count": null,
      "outputs": []
    },
    {
      "cell_type": "code",
      "source": [
        "plt.errorbar(x, y, yerr=errs, fmt='o b', capsize=3, label=\"Data\")\n",
        "plt.plot(x, get_y(x, popt[0], popt[1]), 'r', label=\"Fit\")\n",
        "plt.legend()\n",
        "plt.title(f\"m = {popt[0]:.3f} +/- {perr[0]:.3f}, c = {popt[1]:.2f} +/- {perr[1]:.3f}\")\n",
        "plt.xlabel('x')\n",
        "plt.ylabel('y')\n",
        "plt.show()"
      ],
      "metadata": {
        "id": "2hnctjTVHid8"
      },
      "execution_count": null,
      "outputs": []
    },
    {
      "cell_type": "markdown",
      "source": [
        "# Exercise\n",
        "\n",
        "Radioactive decay of the radioactive materials follow this law:\n",
        "\n",
        "`N(t) = N0 * exp(-0.693 * t/tau)`\n",
        "\n",
        "`N(t)` --> Amount of radioactive meterial at time t,\n",
        "\n",
        "`N0` --> Amount of radioactive material at t=0,\n",
        "\n",
        "`tau` --> Half life of the radioactive material\n",
        "\n",
        "We start with 1000 mg of Polonium-209, and measure the amount left once every 10 years. The first 100 measurements are given (the first measurement is at 10 years). Calculate the half life of Polonium-209.\n"
      ],
      "metadata": {
        "id": "N6ue2pscLCpr"
      }
    },
    {
      "cell_type": "code",
      "source": [
        "Ns = [934.16678933, 873.02753172, 815.58257181, 762.12685961,\n",
        "       712.03883485, 665.239588  , 621.65453377, 580.61527927,\n",
        "       542.62854982, 506.9092051 , 473.60258144, 442.54501174,\n",
        "       413.33892433, 386.42542099, 360.90397274, 337.08725209,\n",
        "       315.17235682, 294.43007927, 275.02422244, 256.94780034,\n",
        "       239.96738619, 224.2604613 , 209.55788773, 195.8464769 ,\n",
        "       182.89933468, 170.81387202, 159.65648147, 149.14410748,\n",
        "       139.39751091, 130.19850899, 121.68273419, 113.79393552,\n",
        "       106.17272587,  99.34972755,  92.90293847,  86.61112854,\n",
        "        80.91081759,  75.47993274,  70.7527895 ,  66.07215681,\n",
        "        61.70939329,  57.62010473,  54.06059041,  50.19050944,\n",
        "        46.95869706,  43.81105443,  41.05731497,  38.15356832,\n",
        "        35.72883552,  33.36896468,  31.42506393,  29.24004525,\n",
        "        27.29726482,  25.50668992,  24.08389275,  22.39728856,\n",
        "        20.92737296,  19.49713042,  18.21710578,  17.13476697,\n",
        "        15.88497815,  14.74305008,  13.95056214,  12.81525519,\n",
        "        12.06883676,  11.35950817,  10.44288655,   9.87542954,\n",
        "         9.25155227,   8.66275629,   8.09161584,   7.63083925,\n",
        "         7.08224058,   6.64413421,   6.15478689,   5.67996674,\n",
        "         5.29357803,   5.04398055,   4.56929621,   4.34747085,\n",
        "         4.01773397,   3.73347462,   3.5328369 ,   3.21270002,\n",
        "         3.32459159,   2.89991002,   2.74072394,   2.75670749,\n",
        "         2.54772469,   2.20912372,   2.03191558,   1.79137318,\n",
        "         1.88647927,   1.43171559,   1.45705473,   1.29470591,\n",
        "         1.33878963,   1.2318644 ,   1.1269595 ,   1.06078445]\n",
        "\n",
        "print(len(Ns))"
      ],
      "metadata": {
        "id": "ANp9H-fYNSq0"
      },
      "execution_count": null,
      "outputs": []
    },
    {
      "cell_type": "code",
      "source": [
        "# Firts let's plot N vs time\n"
      ],
      "metadata": {
        "id": "FQs52GAG9s_Y"
      },
      "execution_count": null,
      "outputs": []
    },
    {
      "cell_type": "code",
      "source": [
        "# Let's create a function that gives N as a function of t\n"
      ],
      "metadata": {
        "id": "dHAUBpLqNg1D"
      },
      "execution_count": null,
      "outputs": []
    },
    {
      "cell_type": "code",
      "source": [
        "# Get best fit value fot `tau` using curve_fit\n"
      ],
      "metadata": {
        "id": "0_UW33S0-XDA"
      },
      "execution_count": null,
      "outputs": []
    },
    {
      "cell_type": "code",
      "source": [
        "# Let's check how our result compares with the actual data"
      ],
      "metadata": {
        "id": "OYZKqx8H-aw2"
      },
      "execution_count": null,
      "outputs": []
    },
    {
      "cell_type": "markdown",
      "source": [],
      "metadata": {
        "id": "BeTHLQr7PXJP"
      }
    }
  ]
}